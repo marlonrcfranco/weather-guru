{
  "nbformat": 4,
  "nbformat_minor": 0,
  "metadata": {
    "colab": {
      "name": "weather-guru.ipynb",
      "provenance": [],
      "collapsed_sections": [],
      "toc_visible": true,
      "authorship_tag": "ABX9TyOqIa/OF5Gx+UfJkds1PD6D",
      "include_colab_link": true
    },
    "kernelspec": {
      "name": "python3",
      "display_name": "Python 3"
    },
    "language_info": {
      "name": "python"
    }
  },
  "cells": [
    {
      "cell_type": "markdown",
      "metadata": {
        "id": "view-in-github",
        "colab_type": "text"
      },
      "source": [
        "<a href=\"https://colab.research.google.com/github/marlonrcfranco/weather-guru/blob/main/weather_guru.ipynb\" target=\"_parent\"><img src=\"https://colab.research.google.com/assets/colab-badge.svg\" alt=\"Open In Colab\"/></a>"
      ]
    },
    {
      "cell_type": "markdown",
      "metadata": {
        "id": "RJ0V8yZcc1g9"
      },
      "source": [
        "# weather-guru\n",
        "## Will it rain tomorrow?\n",
        "\n",
        "\n",
        "### Goal 🌦\n",
        "Implement an algorithm that performs **next day rain prediction** by training machine learning models on the target variable `RainTomorrow`.\n",
        "\n",
        "\n",
        "\n",
        "### Dataset 📂\n",
        "The dataset contains about **10 years of daily weather observations** from various locations in **Australia**.\n",
        "\n",
        "**`RainTomorrow`** is the target variable to be  predicted. It means - it rained the next day, this column is `Yes` if the rain that day was 1mm or more.\n",
        "\n",
        "\n",
        "\n",
        "\n",
        "\n"
      ]
    },
    {
      "cell_type": "markdown",
      "metadata": {
        "id": "F80l3nZwiSEj"
      },
      "source": [
        "## Imports & Defines"
      ]
    },
    {
      "cell_type": "code",
      "metadata": {
        "id": "hpvWyhLNimyM",
        "colab": {
          "base_uri": "https://localhost:8080/"
        },
        "outputId": "42a4c640-40ef-4d26-a5e6-d39ea7ffc29d"
      },
      "source": [
        "%matplotlib inline\n",
        "import re\n",
        "import pandas as pd\n",
        "import numpy as np\n",
        "import matplotlib.pyplot as plt\n",
        "import matplotlib.ticker as mticker\n",
        "import matplotlib.patches as mpatches\n",
        "\n",
        "from tensorflow.keras.models import Sequential\n",
        "from tensorflow.keras.layers import Dense\n",
        "from tensorflow.keras.optimizers import Adam\n",
        "from tensorflow.keras.wrappers.scikit_learn import KerasClassifier\n",
        "from sklearn.model_selection import cross_val_score\n",
        "from sklearn.preprocessing import LabelEncoder,MinMaxScaler,StandardScaler\n",
        "from sklearn.model_selection import StratifiedKFold\n",
        "from sklearn.impute import SimpleImputer\n",
        "from sklearn.pipeline import Pipeline\n",
        "\n",
        "from geopy.geocoders import Nominatim\n",
        "from geopy.extra.rate_limiter import RateLimiter\n",
        "from functools import partial\n",
        "import plotly.express as px\n",
        "!pip install portolan\n",
        "import portolan\n",
        "\n",
        "# Defines\n",
        "DATASET_URL = \"https://raw.githubusercontent.com/marlonrcfranco/weather-guru/main/data/weatherAUS.csv\"\n",
        "MODEL_PATH = \"model/\"\n",
        "\n",
        "TARGET_NAME = 'RainTomorrow'\n",
        "\n",
        "EPOCHS = 100 # The number of epochs is the number of complete passes through the training dataset. \n",
        "BATCH_SIZE = 1023 # The size of a batch must be more than or equal to one and less than or equal to the number of samples in the training dataset.\n",
        "K_FOLD_SPLITS = 5\n",
        "LOSS_FUNCTION = 'binary_crossentropy' # 'binary_crossentropy'. Others: 'mse': Mean Square Error, 'mae': Mean Absolute Error\n",
        "LEARNING_RATE = 0.001 #0.001\n",
        "NEURONS_1 = 27\n",
        "NEURONS_2 = 7 # This amount of neurons in the second hidden layer forces the network to choose the most relevant features"
      ],
      "execution_count": 1,
      "outputs": [
        {
          "output_type": "stream",
          "text": [
            "Requirement already satisfied: portolan in /usr/local/lib/python3.7/dist-packages (1.0.1)\n"
          ],
          "name": "stdout"
        }
      ]
    },
    {
      "cell_type": "markdown",
      "metadata": {
        "id": "XhowXUCfjM5r"
      },
      "source": [
        "## Fetch Data"
      ]
    },
    {
      "cell_type": "code",
      "metadata": {
        "id": "eqPoSDMxjYH5",
        "colab": {
          "base_uri": "https://localhost:8080/"
        },
        "outputId": "ec3b17d8-e743-4140-c201-2906d0679ce6"
      },
      "source": [
        "weather_df = pd.read_csv(DATASET_URL,parse_dates=True)\n",
        "weather_df.shape"
      ],
      "execution_count": 2,
      "outputs": [
        {
          "output_type": "execute_result",
          "data": {
            "text/plain": [
              "(145460, 23)"
            ]
          },
          "metadata": {
            "tags": []
          },
          "execution_count": 2
        }
      ]
    },
    {
      "cell_type": "markdown",
      "metadata": {
        "id": "G5Nz4VmGkvvi"
      },
      "source": [
        "## Data Preprocessing"
      ]
    },
    {
      "cell_type": "markdown",
      "metadata": {
        "id": "-irldH4cnZHq"
      },
      "source": [
        "### Dataframe Info"
      ]
    },
    {
      "cell_type": "code",
      "metadata": {
        "colab": {
          "base_uri": "https://localhost:8080/"
        },
        "id": "U7GpWG_lk07u",
        "outputId": "6d07a16f-ae5c-4bc8-af9a-7e92c205917e"
      },
      "source": [
        "weather_df.info()"
      ],
      "execution_count": 3,
      "outputs": [
        {
          "output_type": "stream",
          "text": [
            "<class 'pandas.core.frame.DataFrame'>\n",
            "RangeIndex: 145460 entries, 0 to 145459\n",
            "Data columns (total 23 columns):\n",
            " #   Column         Non-Null Count   Dtype  \n",
            "---  ------         --------------   -----  \n",
            " 0   Date           145460 non-null  object \n",
            " 1   Location       145460 non-null  object \n",
            " 2   MinTemp        143975 non-null  float64\n",
            " 3   MaxTemp        144199 non-null  float64\n",
            " 4   Rainfall       142199 non-null  float64\n",
            " 5   Evaporation    82670 non-null   float64\n",
            " 6   Sunshine       75625 non-null   float64\n",
            " 7   WindGustDir    135134 non-null  object \n",
            " 8   WindGustSpeed  135197 non-null  float64\n",
            " 9   WindDir9am     134894 non-null  object \n",
            " 10  WindDir3pm     141232 non-null  object \n",
            " 11  WindSpeed9am   143693 non-null  float64\n",
            " 12  WindSpeed3pm   142398 non-null  float64\n",
            " 13  Humidity9am    142806 non-null  float64\n",
            " 14  Humidity3pm    140953 non-null  float64\n",
            " 15  Pressure9am    130395 non-null  float64\n",
            " 16  Pressure3pm    130432 non-null  float64\n",
            " 17  Cloud9am       89572 non-null   float64\n",
            " 18  Cloud3pm       86102 non-null   float64\n",
            " 19  Temp9am        143693 non-null  float64\n",
            " 20  Temp3pm        141851 non-null  float64\n",
            " 21  RainToday      142199 non-null  object \n",
            " 22  RainTomorrow   142193 non-null  object \n",
            "dtypes: float64(16), object(7)\n",
            "memory usage: 25.5+ MB\n"
          ],
          "name": "stdout"
        }
      ]
    },
    {
      "cell_type": "markdown",
      "metadata": {
        "id": "XjEPTRAKnKbU"
      },
      "source": [
        "### Sample"
      ]
    },
    {
      "cell_type": "code",
      "metadata": {
        "colab": {
          "base_uri": "https://localhost:8080/",
          "height": 117
        },
        "id": "a30TK-tGmTNA",
        "outputId": "f3aede26-ae76-473f-809e-bdfb9d5510c2"
      },
      "source": [
        "weather_df.sample()"
      ],
      "execution_count": 4,
      "outputs": [
        {
          "output_type": "execute_result",
          "data": {
            "text/html": [
              "<div>\n",
              "<style scoped>\n",
              "    .dataframe tbody tr th:only-of-type {\n",
              "        vertical-align: middle;\n",
              "    }\n",
              "\n",
              "    .dataframe tbody tr th {\n",
              "        vertical-align: top;\n",
              "    }\n",
              "\n",
              "    .dataframe thead th {\n",
              "        text-align: right;\n",
              "    }\n",
              "</style>\n",
              "<table border=\"1\" class=\"dataframe\">\n",
              "  <thead>\n",
              "    <tr style=\"text-align: right;\">\n",
              "      <th></th>\n",
              "      <th>Date</th>\n",
              "      <th>Location</th>\n",
              "      <th>MinTemp</th>\n",
              "      <th>MaxTemp</th>\n",
              "      <th>Rainfall</th>\n",
              "      <th>Evaporation</th>\n",
              "      <th>Sunshine</th>\n",
              "      <th>WindGustDir</th>\n",
              "      <th>WindGustSpeed</th>\n",
              "      <th>WindDir9am</th>\n",
              "      <th>WindDir3pm</th>\n",
              "      <th>WindSpeed9am</th>\n",
              "      <th>WindSpeed3pm</th>\n",
              "      <th>Humidity9am</th>\n",
              "      <th>Humidity3pm</th>\n",
              "      <th>Pressure9am</th>\n",
              "      <th>Pressure3pm</th>\n",
              "      <th>Cloud9am</th>\n",
              "      <th>Cloud3pm</th>\n",
              "      <th>Temp9am</th>\n",
              "      <th>Temp3pm</th>\n",
              "      <th>RainToday</th>\n",
              "      <th>RainTomorrow</th>\n",
              "    </tr>\n",
              "  </thead>\n",
              "  <tbody>\n",
              "    <tr>\n",
              "      <th>99612</th>\n",
              "      <td>2009-03-10</td>\n",
              "      <td>MountGambier</td>\n",
              "      <td>12.0</td>\n",
              "      <td>27.6</td>\n",
              "      <td>0.0</td>\n",
              "      <td>4.2</td>\n",
              "      <td>4.9</td>\n",
              "      <td>E</td>\n",
              "      <td>37.0</td>\n",
              "      <td>ESE</td>\n",
              "      <td>ESE</td>\n",
              "      <td>20.0</td>\n",
              "      <td>11.0</td>\n",
              "      <td>82.0</td>\n",
              "      <td>36.0</td>\n",
              "      <td>1020.5</td>\n",
              "      <td>1017.5</td>\n",
              "      <td>7.0</td>\n",
              "      <td>6.0</td>\n",
              "      <td>16.5</td>\n",
              "      <td>27.3</td>\n",
              "      <td>No</td>\n",
              "      <td>No</td>\n",
              "    </tr>\n",
              "  </tbody>\n",
              "</table>\n",
              "</div>"
            ],
            "text/plain": [
              "             Date      Location  MinTemp  ...  Temp3pm  RainToday  RainTomorrow\n",
              "99612  2009-03-10  MountGambier     12.0  ...     27.3         No            No\n",
              "\n",
              "[1 rows x 23 columns]"
            ]
          },
          "metadata": {
            "tags": []
          },
          "execution_count": 4
        }
      ]
    },
    {
      "cell_type": "markdown",
      "metadata": {
        "id": "JwFHZtOqvkxU"
      },
      "source": [
        "### Unique values for non-numeric columns"
      ]
    },
    {
      "cell_type": "markdown",
      "metadata": {
        "id": "qJ8cJHKrO0dT"
      },
      "source": [
        "There are some 'string' values in the dataset. Let's see what these values are."
      ]
    },
    {
      "cell_type": "code",
      "metadata": {
        "colab": {
          "base_uri": "https://localhost:8080/"
        },
        "id": "JLNKQxEOvxBG",
        "outputId": "7559082b-0f0f-4615-da09-e5b7b2e6b731"
      },
      "source": [
        "for col in weather_df:\n",
        "  if not pd.api.types.is_numeric_dtype(weather_df[col]):\n",
        "    print(\"\\n-------\\nColumn: \"+col+\" [\"+str(len(weather_df[col].unique()))+\" unique values]:\\n\")\n",
        "    print(weather_df[col].unique())"
      ],
      "execution_count": 5,
      "outputs": [
        {
          "output_type": "stream",
          "text": [
            "\n",
            "-------\n",
            "Column: Date [3436 unique values]:\n",
            "\n",
            "['2008-12-01' '2008-12-02' '2008-12-03' ... '2008-01-29' '2008-01-30'\n",
            " '2008-01-31']\n",
            "\n",
            "-------\n",
            "Column: Location [49 unique values]:\n",
            "\n",
            "['Albury' 'BadgerysCreek' 'Cobar' 'CoffsHarbour' 'Moree' 'Newcastle'\n",
            " 'NorahHead' 'NorfolkIsland' 'Penrith' 'Richmond' 'Sydney' 'SydneyAirport'\n",
            " 'WaggaWagga' 'Williamtown' 'Wollongong' 'Canberra' 'Tuggeranong'\n",
            " 'MountGinini' 'Ballarat' 'Bendigo' 'Sale' 'MelbourneAirport' 'Melbourne'\n",
            " 'Mildura' 'Nhil' 'Portland' 'Watsonia' 'Dartmoor' 'Brisbane' 'Cairns'\n",
            " 'GoldCoast' 'Townsville' 'Adelaide' 'MountGambier' 'Nuriootpa' 'Woomera'\n",
            " 'Albany' 'Witchcliffe' 'PearceRAAF' 'PerthAirport' 'Perth' 'SalmonGums'\n",
            " 'Walpole' 'Hobart' 'Launceston' 'AliceSprings' 'Darwin' 'Katherine'\n",
            " 'Uluru']\n",
            "\n",
            "-------\n",
            "Column: WindGustDir [17 unique values]:\n",
            "\n",
            "['W' 'WNW' 'WSW' 'NE' 'NNW' 'N' 'NNE' 'SW' nan 'ENE' 'SSE' 'S' 'NW' 'SE'\n",
            " 'ESE' 'E' 'SSW']\n",
            "\n",
            "-------\n",
            "Column: WindDir9am [17 unique values]:\n",
            "\n",
            "['W' 'NNW' 'SE' 'ENE' 'SW' 'SSE' 'S' 'NE' nan 'SSW' 'N' 'WSW' 'ESE' 'E'\n",
            " 'NW' 'WNW' 'NNE']\n",
            "\n",
            "-------\n",
            "Column: WindDir3pm [17 unique values]:\n",
            "\n",
            "['WNW' 'WSW' 'E' 'NW' 'W' 'SSE' 'ESE' 'ENE' 'NNW' 'SSW' 'SW' 'SE' 'N' 'S'\n",
            " 'NNE' nan 'NE']\n",
            "\n",
            "-------\n",
            "Column: RainToday [3 unique values]:\n",
            "\n",
            "['No' 'Yes' nan]\n",
            "\n",
            "-------\n",
            "Column: RainTomorrow [3 unique values]:\n",
            "\n",
            "['No' 'Yes' nan]\n"
          ],
          "name": "stdout"
        }
      ]
    },
    {
      "cell_type": "markdown",
      "metadata": {
        "id": "uNAlhF_nW00m"
      },
      "source": [
        "So there are 3436 days of observation in the dataset."
      ]
    },
    {
      "cell_type": "markdown",
      "metadata": {
        "id": "2QxWYwWkR-1L"
      },
      "source": [
        "### Check for duplicated rows"
      ]
    },
    {
      "cell_type": "code",
      "metadata": {
        "colab": {
          "base_uri": "https://localhost:8080/"
        },
        "id": "UWZFBm81R-O2",
        "outputId": "4719b898-387e-492a-86c8-e652b4cb2917"
      },
      "source": [
        "# Check if exists duplicated rows based on all columns\n",
        "duplicateRowsDF = weather_df[weather_df.duplicated()]\n",
        "if len(duplicateRowsDF)!=0: print(\"Identical rows were found!\")\n",
        "\n",
        "# Check if exists is duplicated rows based on 'Date' column\n",
        "duplicateRowsDF = weather_df[weather_df.duplicated(['Date'])]\n",
        "if len(duplicateRowsDF)!=0: \n",
        "  print(len(duplicateRowsDF),\"rows with the same Date were found.\\n\")\n",
        "\n",
        "# Check if exists is duplicated rows based on 'Date' and 'Location' columns\n",
        "duplicateRowsDF = weather_df[weather_df.duplicated(['Date','Location'])]\n",
        "if len(duplicateRowsDF)!=0: \n",
        "  print(len(duplicateRowsDF),\"rows with the same Date and Location were found.\\n\")"
      ],
      "execution_count": 6,
      "outputs": [
        {
          "output_type": "stream",
          "text": [
            "142024 rows with the same Date were found.\n",
            "\n"
          ],
          "name": "stdout"
        }
      ]
    },
    {
      "cell_type": "markdown",
      "metadata": {
        "id": "pE04PyDszMUE"
      },
      "source": [
        "### Convert Date to datetime"
      ]
    },
    {
      "cell_type": "markdown",
      "metadata": {
        "id": "0HUTy5eLQO5K"
      },
      "source": [
        "Since we have a column called 'Date' in a date-like format, let's convert it to datetime."
      ]
    },
    {
      "cell_type": "code",
      "metadata": {
        "id": "I2SMRC11zRk6"
      },
      "source": [
        "weather_df['Date'] = pd.to_datetime(weather_df['Date'])"
      ],
      "execution_count": 7,
      "outputs": []
    },
    {
      "cell_type": "markdown",
      "metadata": {
        "id": "FOrX2IccWd_a"
      },
      "source": [
        "### Wind Cardinal directions (string) to Degrees (float)"
      ]
    },
    {
      "cell_type": "markdown",
      "metadata": {
        "id": "AwpNnuvFQXLW"
      },
      "source": [
        "Wind directions are represented in Cardinal directions (e.g. N, S, SW,...). In order to make the dataset only with numbers, let's convert these directions into angles (degrees)."
      ]
    },
    {
      "cell_type": "code",
      "metadata": {
        "colab": {
          "base_uri": "https://localhost:8080/",
          "height": 80
        },
        "id": "OdkZ5gbZRBWS",
        "outputId": "aa19a784-bcca-4199-8efb-162c80dcd588"
      },
      "source": [
        "weather_df[['WindGustDir','WindDir9am','WindDir3pm']].head(1)"
      ],
      "execution_count": 8,
      "outputs": [
        {
          "output_type": "execute_result",
          "data": {
            "text/html": [
              "<div>\n",
              "<style scoped>\n",
              "    .dataframe tbody tr th:only-of-type {\n",
              "        vertical-align: middle;\n",
              "    }\n",
              "\n",
              "    .dataframe tbody tr th {\n",
              "        vertical-align: top;\n",
              "    }\n",
              "\n",
              "    .dataframe thead th {\n",
              "        text-align: right;\n",
              "    }\n",
              "</style>\n",
              "<table border=\"1\" class=\"dataframe\">\n",
              "  <thead>\n",
              "    <tr style=\"text-align: right;\">\n",
              "      <th></th>\n",
              "      <th>WindGustDir</th>\n",
              "      <th>WindDir9am</th>\n",
              "      <th>WindDir3pm</th>\n",
              "    </tr>\n",
              "  </thead>\n",
              "  <tbody>\n",
              "    <tr>\n",
              "      <th>0</th>\n",
              "      <td>W</td>\n",
              "      <td>W</td>\n",
              "      <td>WNW</td>\n",
              "    </tr>\n",
              "  </tbody>\n",
              "</table>\n",
              "</div>"
            ],
            "text/plain": [
              "  WindGustDir WindDir9am WindDir3pm\n",
              "0           W          W        WNW"
            ]
          },
          "metadata": {
            "tags": []
          },
          "execution_count": 8
        }
      ]
    },
    {
      "cell_type": "code",
      "metadata": {
        "id": "O6jHeV_aW2-A"
      },
      "source": [
        "weather_df['WindGustDir'] = weather_df['WindGustDir'].apply(lambda w: portolan.middle(str(w)) if str(w)!='nan' else w)\n",
        "weather_df['WindDir9am'] = weather_df['WindDir9am'].apply(lambda w: portolan.middle(str(w)) if str(w)!='nan' else w)\n",
        "weather_df['WindDir3pm'] = weather_df['WindDir3pm'].apply(lambda w: portolan.middle(str(w)) if str(w)!='nan' else w)"
      ],
      "execution_count": 9,
      "outputs": []
    },
    {
      "cell_type": "code",
      "metadata": {
        "colab": {
          "base_uri": "https://localhost:8080/",
          "height": 80
        },
        "id": "iFh1A45bQu-T",
        "outputId": "835deaa0-f496-4709-94e7-56570ee971a0"
      },
      "source": [
        "weather_df[['WindGustDir','WindDir9am','WindDir3pm']].head(1)"
      ],
      "execution_count": 10,
      "outputs": [
        {
          "output_type": "execute_result",
          "data": {
            "text/html": [
              "<div>\n",
              "<style scoped>\n",
              "    .dataframe tbody tr th:only-of-type {\n",
              "        vertical-align: middle;\n",
              "    }\n",
              "\n",
              "    .dataframe tbody tr th {\n",
              "        vertical-align: top;\n",
              "    }\n",
              "\n",
              "    .dataframe thead th {\n",
              "        text-align: right;\n",
              "    }\n",
              "</style>\n",
              "<table border=\"1\" class=\"dataframe\">\n",
              "  <thead>\n",
              "    <tr style=\"text-align: right;\">\n",
              "      <th></th>\n",
              "      <th>WindGustDir</th>\n",
              "      <th>WindDir9am</th>\n",
              "      <th>WindDir3pm</th>\n",
              "    </tr>\n",
              "  </thead>\n",
              "  <tbody>\n",
              "    <tr>\n",
              "      <th>0</th>\n",
              "      <td>270.0</td>\n",
              "      <td>270.0</td>\n",
              "      <td>292.5</td>\n",
              "    </tr>\n",
              "  </tbody>\n",
              "</table>\n",
              "</div>"
            ],
            "text/plain": [
              "   WindGustDir  WindDir9am  WindDir3pm\n",
              "0        270.0       270.0       292.5"
            ]
          },
          "metadata": {
            "tags": []
          },
          "execution_count": 10
        }
      ]
    },
    {
      "cell_type": "markdown",
      "metadata": {
        "id": "Savqoh3XW3fV"
      },
      "source": [
        "### Map 'Yes' and 'No' to infer boolean values\n"
      ]
    },
    {
      "cell_type": "code",
      "metadata": {
        "id": "VJUyk8KOW9vr"
      },
      "source": [
        "weather_df.RainToday = weather_df.RainToday.map(dict(Yes=1, No=0))\n",
        "weather_df.RainTomorrow = weather_df.RainTomorrow.map(dict(Yes=1, No=0))"
      ],
      "execution_count": 11,
      "outputs": []
    },
    {
      "cell_type": "markdown",
      "metadata": {
        "id": "gGnZy4YdvU6i"
      },
      "source": [
        "### Add YEAR, MONTH and DAY columns"
      ]
    },
    {
      "cell_type": "code",
      "metadata": {
        "id": "ZRaElrBbvpDH"
      },
      "source": [
        "weather_df['year'] = weather_df.Date.dt.year\n",
        "weather_df['month'] = weather_df.Date.dt.month\n",
        "weather_df['day'] = weather_df.Date.dt.day\n",
        "\n",
        "# Drop the Date column\n",
        "# It is now replaced by year, month and day columns\n",
        "weather_df.drop(['Date'], axis=1, inplace=True)"
      ],
      "execution_count": 12,
      "outputs": []
    },
    {
      "cell_type": "markdown",
      "metadata": {
        "id": "XOGrY_-_Fkoo"
      },
      "source": [
        "### Add latitude and longitude columns"
      ]
    },
    {
      "cell_type": "markdown",
      "metadata": {
        "id": "3YmbA2S2RWaI"
      },
      "source": [
        "In order to convert the Locations into numbers, we can use the coordinates for each one."
      ]
    },
    {
      "cell_type": "code",
      "metadata": {
        "colab": {
          "base_uri": "https://localhost:8080/"
        },
        "id": "R_gki7EEFjLl",
        "outputId": "b861c04f-e6ef-4937-ddf1-1b20bd638ec0"
      },
      "source": [
        "locator = Nominatim(user_agent=\"weather-guru\")\n",
        "# conveneint function to delay between geocoding calls\n",
        "geocode = RateLimiter(locator.geocode, min_delay_seconds=1)\n",
        "\n",
        "# 1 - List the unique values of Location, to further improve performance\n",
        "unique_locations = pd.DataFrame()\n",
        "unique_locations['description'] = weather_df['Location'].unique()\n",
        "unique_locations['id'] = weather_df['Location'].unique()\n",
        "unique_locations.set_index(['id'], inplace = True)\n",
        "print(\"Total unique locations: {}\".format(len(unique_locations)))\n",
        "\n",
        "# Add 'rainfall/day' column\n",
        "unique_locations['days'] = weather_df['Location'].value_counts().values\n",
        "unique_locations['rainfall'] = weather_df.groupby(['Location']).sum()['Rainfall'].values\n",
        "unique_locations['rainfall/day'] = unique_locations['rainfall']/unique_locations['days']\n",
        "\n",
        "# Separate CamelCase with space to allow geocode to find the location\n",
        "unique_locations['description'] = unique_locations['description'].apply(lambda loc: re.sub('([A-Z][a-z]+)', r' \\1', re.sub('([A-Z]+)', r' \\1', loc)))\n",
        "# Add the country to the Location in order to avoid misunderstandings\n",
        "unique_locations['description'] = unique_locations['description'].apply(lambda loc: loc + ', Australia')\n",
        "\n",
        "# 2- create improved location column (gcode)\n",
        "print(\"Searching for locations...\")\n",
        "unique_locations['gcode'] =  unique_locations['description'].apply(partial(geocode, addressdetails=True))\n",
        "\n",
        "# 3 - create point (longitude, latitude and altitude) from gcode (location) column (returns tuple)\n",
        "unique_locations['point'] = unique_locations['gcode'].apply(lambda loc: tuple(loc.point) if loc else None)\n",
        "\n",
        "# 4 - split point column into latitude, longitude and altitude columns\n",
        "unique_locations[['latitude', 'longitude', 'altitude']] = pd.DataFrame(unique_locations['point'].tolist(), index=unique_locations.index)\n",
        "\n",
        "# Verify if all the locations were found\n",
        "if not unique_locations['gcode'].isnull().any(): \n",
        "  print(\"All the locations were found!\")\n",
        "else: \n",
        "  print(\"The current locations were not found:\")\n",
        "  print(unique_locations[unique_locations['gcode'].isnull()])\n",
        "\n",
        "# Verify if all the found locations are from Australia\n",
        "unique_locations['country'] = unique_locations['gcode'].apply(lambda loc: (loc.raw.get('address').get('country')) if loc else None)\n",
        "if unique_locations['country'].str.contains('Australia').all():\n",
        "  print(\"All the found locations are from Australia\")\n",
        "\n",
        "def get_lat_lon_alt_from_location(location_name):\n",
        "  location_data = unique_locations.loc[location_name]\n",
        "  lat = location_data['latitude']\n",
        "  lon = location_data['longitude']\n",
        "  alt = location_data['altitude']\n",
        "  return lat,lon,alt\n",
        "\n",
        "print(\"Adding latitude, longitude and altitude columns to the dataset...\")\n",
        "weather_df[['latitude', 'longitude', 'altitude']] = list(weather_df['Location'].apply(get_lat_lon_alt_from_location))\n",
        "\n",
        "# Drop the Location column\n",
        "# It is now replaced by latitude, longitude and altitude columns\n",
        "weather_df.drop(['Location'], axis=1, inplace=True)\n"
      ],
      "execution_count": 13,
      "outputs": [
        {
          "output_type": "stream",
          "text": [
            "Total unique locations: 49\n",
            "Searching for locations...\n",
            "All the locations were found!\n",
            "All the found locations are from Australia\n",
            "Adding latitude, longitude and altitude columns to the dataset...\n"
          ],
          "name": "stdout"
        }
      ]
    },
    {
      "cell_type": "markdown",
      "metadata": {
        "id": "g2G3uSI5dUey"
      },
      "source": [
        "### Plot map (just for fun)"
      ]
    },
    {
      "cell_type": "code",
      "metadata": {
        "colab": {
          "base_uri": "https://localhost:8080/",
          "height": 542
        },
        "id": "GTUMsvLtgNRK",
        "outputId": "d4607ecb-7823-46f4-e76d-69d55d297d6c"
      },
      "source": [
        "# Plot map\n",
        "fig = px.scatter_geo(unique_locations,lat='latitude',lon='longitude', hover_name=\"description\", color='rainfall/day')\n",
        "fig.update_layout(title = 'Locations in the dataset', title_x=0.5)\n",
        "fig.show()"
      ],
      "execution_count": 14,
      "outputs": [
        {
          "output_type": "display_data",
          "data": {
            "text/html": [
              "<html>\n",
              "<head><meta charset=\"utf-8\" /></head>\n",
              "<body>\n",
              "    <div>\n",
              "            <script src=\"https://cdnjs.cloudflare.com/ajax/libs/mathjax/2.7.5/MathJax.js?config=TeX-AMS-MML_SVG\"></script><script type=\"text/javascript\">if (window.MathJax) {MathJax.Hub.Config({SVG: {font: \"STIX-Web\"}});}</script>\n",
              "                <script type=\"text/javascript\">window.PlotlyConfig = {MathJaxConfig: 'local'};</script>\n",
              "        <script src=\"https://cdn.plot.ly/plotly-latest.min.js\"></script>    \n",
              "            <div id=\"e9fb5d64-7796-43fd-9947-6b56ce7a1504\" class=\"plotly-graph-div\" style=\"height:525px; width:100%;\"></div>\n",
              "            <script type=\"text/javascript\">\n",
              "                \n",
              "                    window.PLOTLYENV=window.PLOTLYENV || {};\n",
              "                    \n",
              "                if (document.getElementById(\"e9fb5d64-7796-43fd-9947-6b56ce7a1504\")) {\n",
              "                    Plotly.newPlot(\n",
              "                        'e9fb5d64-7796-43fd-9947-6b56ce7a1504',\n",
              "                        [{\"geo\": \"geo\", \"hoverlabel\": {\"namelength\": 0}, \"hovertemplate\": \"<b>%{hovertext}</b><br><br>latitude=%{lat}<br>longitude=%{lon}<br>rainfall/day=%{marker.color}\", \"hovertext\": [\"  Albury, Australia\", \"  Badgerys  Creek, Australia\", \"  Cobar, Australia\", \"  Coffs  Harbour, Australia\", \"  Moree, Australia\", \"  Newcastle, Australia\", \"  Norah  Head, Australia\", \"  Norfolk  Island, Australia\", \"  Penrith, Australia\", \"  Richmond, Australia\", \"  Sydney, Australia\", \"  Sydney  Airport, Australia\", \"  Wagga  Wagga, Australia\", \"  Williamtown, Australia\", \"  Wollongong, Australia\", \"  Canberra, Australia\", \"  Tuggeranong, Australia\", \"  Mount  Ginini, Australia\", \"  Ballarat, Australia\", \"  Bendigo, Australia\", \"  Sale, Australia\", \"  Melbourne  Airport, Australia\", \"  Melbourne, Australia\", \"  Mildura, Australia\", \"  Nhil, Australia\", \"  Portland, Australia\", \"  Watsonia, Australia\", \"  Dartmoor, Australia\", \"  Brisbane, Australia\", \"  Cairns, Australia\", \"  Gold  Coast, Australia\", \"  Townsville, Australia\", \"  Adelaide, Australia\", \"  Mount  Gambier, Australia\", \"  Nuriootpa, Australia\", \"  Woomera, Australia\", \"  Albany, Australia\", \"  Witchcliffe, Australia\", \"  Pearce RAAF, Australia\", \"  Perth  Airport, Australia\", \"  Perth, Australia\", \"  Salmon  Gums, Australia\", \"  Walpole, Australia\", \"  Hobart, Australia\", \"  Launceston, Australia\", \"  Alice  Springs, Australia\", \"  Darwin, Australia\", \"  Katherine, Australia\", \"  Uluru, Australia\"], \"lat\": [-36.0804766, -33.8816671, -31.4983333, -30.2962407, -29.4617202, -32.9192953, -33.2816667, -29.0289575, -33.7510792, -20.569655, -33.8548157, -33.9498935, -35.115, -32.815, -34.4243941, -35.2975906, -35.4209771, -35.5297196, -37.5622632, -36.7588767, -38.1050358, -37.667111000000006, -37.8142176, -34.1847265, -35.4325283, -38.3456231, -37.7110022, -37.9225444, -27.4689682, -16.9206657, -28.0023731, -19.2569391, -34.9281805, -37.8246698, -34.4693354, -31.1999142, -35.0247822, -34.0263348, -31.6739604, -31.9406095, -31.9527121, -32.9815347, -34.9776796, -42.8825088, -41.4340813, -23.6983884, -12.46044, -14.4642313, -25.3455545], \"legendgroup\": \"\", \"lon\": [146.9162795, 150.7441627, 145.8344444, 153.1135293, 149.8407153, 151.7795348, 151.5677778, 167.9587289126371, 150.6941684, 142.9283602143393, 151.2164539, 151.18196819346016, 147.3677778, 151.8427778, 150.89385, 149.1012676, 149.0921341, 148.7726345, 143.8607215, 144.2825931, 147.0647902, 144.83348076679553, 144.9631608, 142.1624972, 141.2833187, 141.6042304, 145.083635, 141.2766551, 153.0234991, 145.7721854, 153.4145987, 146.8239537, 138.5999312, 140.7820067624113, 138.9939006, 136.8253532, 117.883608, 115.1004768, 116.01754351808195, 115.96760765137932, 115.8604796, 121.6439417, 116.7310063, 147.3281233, 147.1373496, 133.8812885, 130.8410469, 132.2638568, 131.03696147470208], \"marker\": {\"color\": [1.409080325960418, 2.0418062200956872, 1.8050109614782262, 0.8383338553084874, 2.011086752270583, 1.650109614782324, 1.5387409959285834, 3.1133730034450404, 5.643815789473699, 1.9582894736842016, 1.1080263157894723, 4.916644736842121, 2.0773684210526193, 5.348750000000006, 3.6950000000000105, 1.6798026315789405, 1.6426644736842104, 2.0040460526315753, 1.4978947368421027, 1.4371710526315757, 0.9351102336294838, 1.5309641329384647, 2.082066469233286, 3.180658025922229, 3.1267530741110043, 0.4874709205716201, 3.2972416085078127, 3.0808906613492804, 1.3875706214689234, 1.5320704553007614, 2.142771684945152, 2.022864739115981, 1.7616483881688256, 2.519441674975064, 2.097241608507798, 1.505649717514116, 1.015819209039546, 3.686939182452635, 3.0059155865736154, 3.5133931538717187, 2.1561316051844432, 0.39674310402126967, 1.6911930874044487, 2.726014637391873, 1.8577230359520582, 3.055014995001665, 5.416983523447395, 6.793409378960716, 0.9295310519645137], \"coloraxis\": \"coloraxis\"}, \"name\": \"\", \"showlegend\": false, \"type\": \"scattergeo\"}],\n",
              "                        {\"coloraxis\": {\"colorbar\": {\"title\": {\"text\": \"rainfall/day\"}}, \"colorscale\": [[0.0, \"#0d0887\"], [0.1111111111111111, \"#46039f\"], [0.2222222222222222, \"#7201a8\"], [0.3333333333333333, \"#9c179e\"], [0.4444444444444444, \"#bd3786\"], [0.5555555555555556, \"#d8576b\"], [0.6666666666666666, \"#ed7953\"], [0.7777777777777778, \"#fb9f3a\"], [0.8888888888888888, \"#fdca26\"], [1.0, \"#f0f921\"]]}, \"geo\": {\"center\": {}, \"domain\": {\"x\": [0.0, 1.0], \"y\": [0.0, 1.0]}}, \"legend\": {\"tracegroupgap\": 0}, \"margin\": {\"t\": 60}, \"template\": {\"data\": {\"bar\": [{\"error_x\": {\"color\": \"#2a3f5f\"}, \"error_y\": {\"color\": \"#2a3f5f\"}, \"marker\": {\"line\": {\"color\": \"#E5ECF6\", \"width\": 0.5}}, \"type\": \"bar\"}], \"barpolar\": [{\"marker\": {\"line\": {\"color\": \"#E5ECF6\", \"width\": 0.5}}, \"type\": \"barpolar\"}], \"carpet\": [{\"aaxis\": {\"endlinecolor\": \"#2a3f5f\", \"gridcolor\": \"white\", \"linecolor\": \"white\", \"minorgridcolor\": \"white\", \"startlinecolor\": \"#2a3f5f\"}, \"baxis\": {\"endlinecolor\": \"#2a3f5f\", \"gridcolor\": \"white\", \"linecolor\": \"white\", \"minorgridcolor\": \"white\", \"startlinecolor\": \"#2a3f5f\"}, \"type\": \"carpet\"}], \"choropleth\": [{\"colorbar\": {\"outlinewidth\": 0, \"ticks\": \"\"}, \"type\": \"choropleth\"}], \"contour\": [{\"colorbar\": {\"outlinewidth\": 0, \"ticks\": \"\"}, \"colorscale\": [[0.0, \"#0d0887\"], [0.1111111111111111, \"#46039f\"], [0.2222222222222222, \"#7201a8\"], [0.3333333333333333, \"#9c179e\"], [0.4444444444444444, \"#bd3786\"], [0.5555555555555556, \"#d8576b\"], [0.6666666666666666, \"#ed7953\"], [0.7777777777777778, \"#fb9f3a\"], [0.8888888888888888, \"#fdca26\"], [1.0, \"#f0f921\"]], \"type\": \"contour\"}], \"contourcarpet\": [{\"colorbar\": {\"outlinewidth\": 0, \"ticks\": \"\"}, \"type\": \"contourcarpet\"}], \"heatmap\": [{\"colorbar\": {\"outlinewidth\": 0, \"ticks\": \"\"}, \"colorscale\": [[0.0, \"#0d0887\"], [0.1111111111111111, \"#46039f\"], [0.2222222222222222, \"#7201a8\"], [0.3333333333333333, \"#9c179e\"], [0.4444444444444444, \"#bd3786\"], [0.5555555555555556, \"#d8576b\"], [0.6666666666666666, \"#ed7953\"], [0.7777777777777778, \"#fb9f3a\"], [0.8888888888888888, \"#fdca26\"], [1.0, \"#f0f921\"]], \"type\": \"heatmap\"}], \"heatmapgl\": [{\"colorbar\": {\"outlinewidth\": 0, \"ticks\": \"\"}, \"colorscale\": [[0.0, \"#0d0887\"], [0.1111111111111111, \"#46039f\"], [0.2222222222222222, \"#7201a8\"], [0.3333333333333333, \"#9c179e\"], [0.4444444444444444, \"#bd3786\"], [0.5555555555555556, \"#d8576b\"], [0.6666666666666666, \"#ed7953\"], [0.7777777777777778, \"#fb9f3a\"], [0.8888888888888888, \"#fdca26\"], [1.0, \"#f0f921\"]], \"type\": \"heatmapgl\"}], \"histogram\": [{\"marker\": {\"colorbar\": {\"outlinewidth\": 0, \"ticks\": \"\"}}, \"type\": \"histogram\"}], \"histogram2d\": [{\"colorbar\": {\"outlinewidth\": 0, \"ticks\": \"\"}, \"colorscale\": [[0.0, \"#0d0887\"], [0.1111111111111111, \"#46039f\"], [0.2222222222222222, \"#7201a8\"], [0.3333333333333333, \"#9c179e\"], [0.4444444444444444, \"#bd3786\"], [0.5555555555555556, \"#d8576b\"], [0.6666666666666666, \"#ed7953\"], [0.7777777777777778, \"#fb9f3a\"], [0.8888888888888888, \"#fdca26\"], [1.0, \"#f0f921\"]], \"type\": \"histogram2d\"}], \"histogram2dcontour\": [{\"colorbar\": {\"outlinewidth\": 0, \"ticks\": \"\"}, \"colorscale\": [[0.0, \"#0d0887\"], [0.1111111111111111, \"#46039f\"], [0.2222222222222222, \"#7201a8\"], [0.3333333333333333, \"#9c179e\"], [0.4444444444444444, \"#bd3786\"], [0.5555555555555556, \"#d8576b\"], [0.6666666666666666, \"#ed7953\"], [0.7777777777777778, \"#fb9f3a\"], [0.8888888888888888, \"#fdca26\"], [1.0, \"#f0f921\"]], \"type\": \"histogram2dcontour\"}], \"mesh3d\": [{\"colorbar\": {\"outlinewidth\": 0, \"ticks\": \"\"}, \"type\": \"mesh3d\"}], \"parcoords\": [{\"line\": {\"colorbar\": {\"outlinewidth\": 0, \"ticks\": \"\"}}, \"type\": \"parcoords\"}], \"pie\": [{\"automargin\": true, \"type\": \"pie\"}], \"scatter\": [{\"marker\": {\"colorbar\": {\"outlinewidth\": 0, \"ticks\": \"\"}}, \"type\": \"scatter\"}], \"scatter3d\": [{\"line\": {\"colorbar\": {\"outlinewidth\": 0, \"ticks\": \"\"}}, \"marker\": {\"colorbar\": {\"outlinewidth\": 0, \"ticks\": \"\"}}, \"type\": \"scatter3d\"}], \"scattercarpet\": [{\"marker\": {\"colorbar\": {\"outlinewidth\": 0, \"ticks\": \"\"}}, \"type\": \"scattercarpet\"}], \"scattergeo\": [{\"marker\": {\"colorbar\": {\"outlinewidth\": 0, \"ticks\": \"\"}}, \"type\": \"scattergeo\"}], \"scattergl\": [{\"marker\": {\"colorbar\": {\"outlinewidth\": 0, \"ticks\": \"\"}}, \"type\": \"scattergl\"}], \"scattermapbox\": [{\"marker\": {\"colorbar\": {\"outlinewidth\": 0, \"ticks\": \"\"}}, \"type\": \"scattermapbox\"}], \"scatterpolar\": [{\"marker\": {\"colorbar\": {\"outlinewidth\": 0, \"ticks\": \"\"}}, \"type\": \"scatterpolar\"}], \"scatterpolargl\": [{\"marker\": {\"colorbar\": {\"outlinewidth\": 0, \"ticks\": \"\"}}, \"type\": \"scatterpolargl\"}], \"scatterternary\": [{\"marker\": {\"colorbar\": {\"outlinewidth\": 0, \"ticks\": \"\"}}, \"type\": \"scatterternary\"}], \"surface\": [{\"colorbar\": {\"outlinewidth\": 0, \"ticks\": \"\"}, \"colorscale\": [[0.0, \"#0d0887\"], [0.1111111111111111, \"#46039f\"], [0.2222222222222222, \"#7201a8\"], [0.3333333333333333, \"#9c179e\"], [0.4444444444444444, \"#bd3786\"], [0.5555555555555556, \"#d8576b\"], [0.6666666666666666, \"#ed7953\"], [0.7777777777777778, \"#fb9f3a\"], [0.8888888888888888, \"#fdca26\"], [1.0, \"#f0f921\"]], \"type\": \"surface\"}], \"table\": [{\"cells\": {\"fill\": {\"color\": \"#EBF0F8\"}, \"line\": {\"color\": \"white\"}}, \"header\": {\"fill\": {\"color\": \"#C8D4E3\"}, \"line\": {\"color\": \"white\"}}, \"type\": \"table\"}]}, \"layout\": {\"annotationdefaults\": {\"arrowcolor\": \"#2a3f5f\", \"arrowhead\": 0, \"arrowwidth\": 1}, \"coloraxis\": {\"colorbar\": {\"outlinewidth\": 0, \"ticks\": \"\"}}, \"colorscale\": {\"diverging\": [[0, \"#8e0152\"], [0.1, \"#c51b7d\"], [0.2, \"#de77ae\"], [0.3, \"#f1b6da\"], [0.4, \"#fde0ef\"], [0.5, \"#f7f7f7\"], [0.6, \"#e6f5d0\"], [0.7, \"#b8e186\"], [0.8, \"#7fbc41\"], [0.9, \"#4d9221\"], [1, \"#276419\"]], \"sequential\": [[0.0, \"#0d0887\"], [0.1111111111111111, \"#46039f\"], [0.2222222222222222, \"#7201a8\"], [0.3333333333333333, \"#9c179e\"], [0.4444444444444444, \"#bd3786\"], [0.5555555555555556, \"#d8576b\"], [0.6666666666666666, \"#ed7953\"], [0.7777777777777778, \"#fb9f3a\"], [0.8888888888888888, \"#fdca26\"], [1.0, \"#f0f921\"]], \"sequentialminus\": [[0.0, \"#0d0887\"], [0.1111111111111111, \"#46039f\"], [0.2222222222222222, \"#7201a8\"], [0.3333333333333333, \"#9c179e\"], [0.4444444444444444, \"#bd3786\"], [0.5555555555555556, \"#d8576b\"], [0.6666666666666666, \"#ed7953\"], [0.7777777777777778, \"#fb9f3a\"], [0.8888888888888888, \"#fdca26\"], [1.0, \"#f0f921\"]]}, \"colorway\": [\"#636efa\", \"#EF553B\", \"#00cc96\", \"#ab63fa\", \"#FFA15A\", \"#19d3f3\", \"#FF6692\", \"#B6E880\", \"#FF97FF\", \"#FECB52\"], \"font\": {\"color\": \"#2a3f5f\"}, \"geo\": {\"bgcolor\": \"white\", \"lakecolor\": \"white\", \"landcolor\": \"#E5ECF6\", \"showlakes\": true, \"showland\": true, \"subunitcolor\": \"white\"}, \"hoverlabel\": {\"align\": \"left\"}, \"hovermode\": \"closest\", \"mapbox\": {\"style\": \"light\"}, \"paper_bgcolor\": \"white\", \"plot_bgcolor\": \"#E5ECF6\", \"polar\": {\"angularaxis\": {\"gridcolor\": \"white\", \"linecolor\": \"white\", \"ticks\": \"\"}, \"bgcolor\": \"#E5ECF6\", \"radialaxis\": {\"gridcolor\": \"white\", \"linecolor\": \"white\", \"ticks\": \"\"}}, \"scene\": {\"xaxis\": {\"backgroundcolor\": \"#E5ECF6\", \"gridcolor\": \"white\", \"gridwidth\": 2, \"linecolor\": \"white\", \"showbackground\": true, \"ticks\": \"\", \"zerolinecolor\": \"white\"}, \"yaxis\": {\"backgroundcolor\": \"#E5ECF6\", \"gridcolor\": \"white\", \"gridwidth\": 2, \"linecolor\": \"white\", \"showbackground\": true, \"ticks\": \"\", \"zerolinecolor\": \"white\"}, \"zaxis\": {\"backgroundcolor\": \"#E5ECF6\", \"gridcolor\": \"white\", \"gridwidth\": 2, \"linecolor\": \"white\", \"showbackground\": true, \"ticks\": \"\", \"zerolinecolor\": \"white\"}}, \"shapedefaults\": {\"line\": {\"color\": \"#2a3f5f\"}}, \"ternary\": {\"aaxis\": {\"gridcolor\": \"white\", \"linecolor\": \"white\", \"ticks\": \"\"}, \"baxis\": {\"gridcolor\": \"white\", \"linecolor\": \"white\", \"ticks\": \"\"}, \"bgcolor\": \"#E5ECF6\", \"caxis\": {\"gridcolor\": \"white\", \"linecolor\": \"white\", \"ticks\": \"\"}}, \"title\": {\"x\": 0.05}, \"xaxis\": {\"automargin\": true, \"gridcolor\": \"white\", \"linecolor\": \"white\", \"ticks\": \"\", \"title\": {\"standoff\": 15}, \"zerolinecolor\": \"white\", \"zerolinewidth\": 2}, \"yaxis\": {\"automargin\": true, \"gridcolor\": \"white\", \"linecolor\": \"white\", \"ticks\": \"\", \"title\": {\"standoff\": 15}, \"zerolinecolor\": \"white\", \"zerolinewidth\": 2}}}, \"title\": {\"text\": \"Locations in the dataset\", \"x\": 0.5}},\n",
              "                        {\"responsive\": true}\n",
              "                    ).then(function(){\n",
              "                            \n",
              "var gd = document.getElementById('e9fb5d64-7796-43fd-9947-6b56ce7a1504');\n",
              "var x = new MutationObserver(function (mutations, observer) {{\n",
              "        var display = window.getComputedStyle(gd).display;\n",
              "        if (!display || display === 'none') {{\n",
              "            console.log([gd, 'removed!']);\n",
              "            Plotly.purge(gd);\n",
              "            observer.disconnect();\n",
              "        }}\n",
              "}});\n",
              "\n",
              "// Listen for the removal of the full notebook cells\n",
              "var notebookContainer = gd.closest('#notebook-container');\n",
              "if (notebookContainer) {{\n",
              "    x.observe(notebookContainer, {childList: true});\n",
              "}}\n",
              "\n",
              "// Listen for the clearing of the current output cell\n",
              "var outputEl = gd.closest('.output');\n",
              "if (outputEl) {{\n",
              "    x.observe(outputEl, {childList: true});\n",
              "}}\n",
              "\n",
              "                        })\n",
              "                };\n",
              "                \n",
              "            </script>\n",
              "        </div>\n",
              "</body>\n",
              "</html>"
            ]
          },
          "metadata": {
            "tags": []
          }
        }
      ]
    },
    {
      "cell_type": "markdown",
      "metadata": {
        "id": "sgzTY1tyT4Nx"
      },
      "source": [
        "![aus_rain_observations.png](data:image/png;base64,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)"
      ]
    },
    {
      "cell_type": "markdown",
      "metadata": {
        "id": "bDHSkiBaXPM2"
      },
      "source": [
        "### Reorder columns"
      ]
    },
    {
      "cell_type": "markdown",
      "metadata": {
        "id": "LPAMLeuARhXh"
      },
      "source": [
        "Put the date and coordinates columns into the beggining, and the target column at the end."
      ]
    },
    {
      "cell_type": "code",
      "metadata": {
        "id": "2kq0L3IhTx_G"
      },
      "source": [
        "# Reorder columns\n",
        "initial_columns = ['year','month','day','latitude','longitude','altitude']\n",
        "target_column = [TARGET_NAME]\n",
        "middle_columns = [col for col in weather_df.columns if col not in initial_columns and col not in target_column]\n",
        "columns_reordered = initial_columns + middle_columns + target_column\n",
        "\n",
        "weather_df =  weather_df[columns_reordered]"
      ],
      "execution_count": 15,
      "outputs": []
    },
    {
      "cell_type": "markdown",
      "metadata": {
        "id": "r909dR3tW_gG"
      },
      "source": [
        "### Proceed with data type conversion"
      ]
    },
    {
      "cell_type": "code",
      "metadata": {
        "id": "Cj8xgLJbW8Yg"
      },
      "source": [
        "# Convert data types\n",
        "weather_df = weather_df.convert_dtypes()"
      ],
      "execution_count": 16,
      "outputs": []
    },
    {
      "cell_type": "markdown",
      "metadata": {
        "id": "lXdct1vWuqUk"
      },
      "source": [
        "## Data Cleaning"
      ]
    },
    {
      "cell_type": "markdown",
      "metadata": {
        "id": "LkyUBpXfn_-K"
      },
      "source": [
        "### Remove rows with null values in the target column"
      ]
    },
    {
      "cell_type": "markdown",
      "metadata": {
        "id": "qJ_STnSERrE_"
      },
      "source": [
        "If there's no value in the target column, we cannot use it into our training or test set. So we can remove those rows from the dataset."
      ]
    },
    {
      "cell_type": "code",
      "metadata": {
        "colab": {
          "base_uri": "https://localhost:8080/"
        },
        "id": "a0LuiPD0oXZp",
        "outputId": "818c89f9-505b-4b88-89d7-bc5f54e573b0"
      },
      "source": [
        "# There are null values (nan) in the RainTomorrow column\n",
        "print(\"Before:\\n  Unique values in the RainTomorrow column: \", weather_df.RainTomorrow.unique())\n",
        "rows_before = len(weather_df)\n",
        "print(\" Total number of rows: [\", rows_before, \"]\")\n",
        "# Select only the not-null rows\n",
        "weather_df = weather_df[weather_df.RainTomorrow.notna()]\n",
        "print(\"\\nAfter:\\n  Unique values in the RainTomorrow column: \", weather_df.RainTomorrow.unique())\n",
        "rows_after = len(weather_df)\n",
        "print(\" Total number of rows: [\", rows_after, \"] (\", (rows_before-rows_after) , \" rows removed )\")"
      ],
      "execution_count": 17,
      "outputs": [
        {
          "output_type": "stream",
          "text": [
            "Before:\n",
            "  Unique values in the RainTomorrow column:  <IntegerArray>\n",
            "[0, 1, <NA>]\n",
            "Length: 3, dtype: Int64\n",
            " Total number of rows: [ 145460 ]\n",
            "\n",
            "After:\n",
            "  Unique values in the RainTomorrow column:  <IntegerArray>\n",
            "[0, 1]\n",
            "Length: 2, dtype: Int64\n",
            " Total number of rows: [ 142193 ] ( 3267  rows removed )\n"
          ],
          "name": "stdout"
        }
      ]
    },
    {
      "cell_type": "markdown",
      "metadata": {
        "id": "aLV0A4-Q-mXA"
      },
      "source": [
        "### Ensure all data is float"
      ]
    },
    {
      "cell_type": "markdown",
      "metadata": {
        "id": "Wvhw-qvJR-4j"
      },
      "source": [
        "It will help with the filling method later."
      ]
    },
    {
      "cell_type": "code",
      "metadata": {
        "id": "-qBP3-JdSWWZ"
      },
      "source": [
        "for col in weather_df.columns:\n",
        "  weather_df[col] = weather_df[col].astype('float32')"
      ],
      "execution_count": 18,
      "outputs": []
    },
    {
      "cell_type": "markdown",
      "metadata": {
        "id": "L57w3hL2Jbz_"
      },
      "source": [
        "### Filling missing values "
      ]
    },
    {
      "cell_type": "markdown",
      "metadata": {
        "id": "SHsWp5EbSGk7"
      },
      "source": [
        "In this step, we use the 'mean' strategy to fill the missing values of the features."
      ]
    },
    {
      "cell_type": "code",
      "metadata": {
        "id": "93HCf9dkNk9w"
      },
      "source": [
        "imputer = SimpleImputer(missing_values=np.nan, strategy='mean')\n",
        "# transform the datasetimputer.fit_transform(values)\n",
        "weather_df_transformed = pd.DataFrame(imputer.fit_transform(weather_df))\n",
        "weather_df_transformed.columns = weather_df.columns\n",
        "weather_df_transformed.index = weather_df.index\n",
        "\n",
        "weather_df = weather_df_transformed"
      ],
      "execution_count": 19,
      "outputs": []
    },
    {
      "cell_type": "markdown",
      "metadata": {
        "id": "RPyoYdgh4CzG"
      },
      "source": [
        "### Correlation"
      ]
    },
    {
      "cell_type": "code",
      "metadata": {
        "colab": {
          "base_uri": "https://localhost:8080/",
          "height": 833
        },
        "id": "IUVz16Q44E2y",
        "outputId": "54cba79d-01eb-41b4-c55e-fcea35094155"
      },
      "source": [
        "f = plt.figure(figsize=(20, 17))\n",
        "plt.matshow(weather_df.corr(), fignum=f.number)\n",
        "plt.xticks(range(weather_df.select_dtypes(['number']).shape[1]), weather_df.select_dtypes(['number']).columns, fontsize=14, rotation=90)\n",
        "plt.yticks(range(weather_df.select_dtypes(['number']).shape[1]), weather_df.select_dtypes(['number']).columns, fontsize=14)\n",
        "cb = plt.colorbar()\n",
        "cb.ax.tick_params(labelsize=17)\n",
        "plt.title('Correlation Matrix', fontsize=16, pad=90);"
      ],
      "execution_count": 20,
      "outputs": [
        {
          "output_type": "display_data",
          "data": {
            "image/png": "[encoded data removed]",
            "text/plain": [
              "<Figure size 1440x1224 with 2 Axes>"
            ]
          },
          "metadata": {
            "tags": [],
            "needs_background": "light"
          }
        }
      ]
    },
    {
      "cell_type": "markdown",
      "metadata": {
        "id": "3_-v211kUdwf"
      },
      "source": [
        "There are some correlation in the dataset. Enough to proceed with the work."
      ]
    },
    {
      "cell_type": "markdown",
      "metadata": {
        "id": "dU_jnEU8ghfy"
      },
      "source": [
        "## Feature engineering"
      ]
    },
    {
      "cell_type": "code",
      "metadata": {
        "id": "sCV0JY-di8TM"
      },
      "source": [
        "values = weather_df.values"
      ],
      "execution_count": 21,
      "outputs": []
    },
    {
      "cell_type": "code",
      "metadata": {
        "colab": {
          "base_uri": "https://localhost:8080/"
        },
        "id": "7e7rcAkJkp_y",
        "outputId": "2fe7b5d5-7955-4778-dfdb-5bc5e53dfde4"
      },
      "source": [
        "# Number of features is the number of columns except the target column\n",
        "NUM_FEATURES = len(weather_df.columns)-1\n",
        "NUM_FEATURES"
      ],
      "execution_count": 22,
      "outputs": [
        {
          "output_type": "execute_result",
          "data": {
            "text/plain": [
              "26"
            ]
          },
          "metadata": {
            "tags": []
          },
          "execution_count": 22
        }
      ]
    },
    {
      "cell_type": "markdown",
      "metadata": {
        "id": "keMPn3eh78VI"
      },
      "source": [
        "### Normalize features"
      ]
    },
    {
      "cell_type": "markdown",
      "metadata": {
        "id": "cqW3U1fnSgVT"
      },
      "source": [
        "The MinMaxScaler puts the values between 0 and 1, which further improves the model performance."
      ]
    },
    {
      "cell_type": "code",
      "metadata": {
        "id": "J4o16e7y8BNq"
      },
      "source": [
        "scaler = MinMaxScaler(feature_range=(0, 1))\n",
        "values = scaler.fit_transform(values)"
      ],
      "execution_count": 23,
      "outputs": []
    },
    {
      "cell_type": "markdown",
      "metadata": {
        "id": "EuLEeNLg_5PA"
      },
      "source": [
        "### Split into input and outputs"
      ]
    },
    {
      "cell_type": "markdown",
      "metadata": {
        "id": "o01Aenk5Srwh"
      },
      "source": [
        "X = features\n",
        "\n",
        "Y = target"
      ]
    },
    {
      "cell_type": "code",
      "metadata": {
        "colab": {
          "base_uri": "https://localhost:8080/"
        },
        "id": "UvhtBiFvpel0",
        "outputId": "311bacb4-7f2b-4b7b-ec27-3359faa8a04f"
      },
      "source": [
        "target_col_idx = weather_df.columns.get_loc(TARGET_NAME)\n",
        "\n",
        "X = values[:,0:target_col_idx].astype(float)\n",
        "Y = values[:,target_col_idx]\n",
        "\n",
        "print(X.shape,Y.shape)"
      ],
      "execution_count": 24,
      "outputs": [
        {
          "output_type": "stream",
          "text": [
            "(142193, 26) (142193,)\n"
          ],
          "name": "stdout"
        }
      ]
    },
    {
      "cell_type": "markdown",
      "metadata": {
        "id": "HlwU8pZArI2u"
      },
      "source": [
        "### Encode class values as integers"
      ]
    },
    {
      "cell_type": "code",
      "metadata": {
        "id": "DfQKdsxbrJcW"
      },
      "source": [
        "encoder = LabelEncoder()\n",
        "encoder.fit(Y)\n",
        "encoded_Y = encoder.transform(Y)"
      ],
      "execution_count": 25,
      "outputs": []
    },
    {
      "cell_type": "markdown",
      "metadata": {
        "id": "WVV-QmR-59Cq"
      },
      "source": [
        "## Design the model"
      ]
    },
    {
      "cell_type": "markdown",
      "metadata": {
        "id": "rZRpXyXt2xjz"
      },
      "source": [
        "We want to predict a boolean value ('Yes' or 'No') for the target variable **`RainTomorrow`**. In this case, we need to use a **classification** model, istead of a **regression** model, wich is used to predict real-world values (e.g. `Rainfall`)."
      ]
    },
    {
      "cell_type": "code",
      "metadata": {
        "id": "RZ_bl0cp6DMg"
      },
      "source": [
        "def create_model():\n",
        "  model = Sequential(name='weather_guru')\n",
        "  model.add(Dense(NEURONS_1, input_dim=NUM_FEATURES, activation='relu', name='dense_1'))\n",
        "  model.add(Dense(NEURONS_2, activation='relu', name='dense_2'))\n",
        "  model.add(Dense(1, activation='sigmoid', name='output'))\n",
        "  adam_optmz = Adam(learning_rate=LEARNING_RATE)\n",
        "  # Compile model\n",
        "  model.compile(loss=LOSS_FUNCTION, optimizer=adam_optmz, metrics=['accuracy'])\n",
        "  print(model.summary())\n",
        "  return model\n",
        "\n",
        "estimators = []\n",
        "estimators.append(('standardize', StandardScaler()))\n",
        "estimators.append(('mlp', KerasClassifier(build_fn = create_model, epochs = EPOCHS, batch_size = BATCH_SIZE, verbose = 1)))\n",
        "pipeline = Pipeline(estimators)"
      ],
      "execution_count": 26,
      "outputs": []
    },
    {
      "cell_type": "markdown",
      "metadata": {
        "id": "GkBzihGe6Dvo"
      },
      "source": [
        "## Train the model and validate it"
      ]
    },
    {
      "cell_type": "markdown",
      "metadata": {
        "id": "r_LQI3L2S3Fn"
      },
      "source": [
        "We use the cross validation score to measure the accuracy of our model."
      ]
    },
    {
      "cell_type": "code",
      "metadata": {
        "id": "yudgAVlyKgdn"
      },
      "source": [
        "kfold = StratifiedKFold(n_splits=K_FOLD_SPLITS, shuffle=True)"
      ],
      "execution_count": 27,
      "outputs": []
    },
    {
      "cell_type": "markdown",
      "metadata": {
        "id": "NSMNDHibTC61"
      },
      "source": [
        "The kfold will repeat the training `K_FOLD_SPLITS` times, selecting different sets of **train** and **test** data."
      ]
    },
    {
      "cell_type": "code",
      "metadata": {
        "colab": {
          "base_uri": "https://localhost:8080/"
        },
        "id": "1KDdEfxCoRRS",
        "outputId": "e036e311-1272-4bd2-8345-7801f92e2d1f"
      },
      "source": [
        "%%time\n",
        "results = cross_val_score(pipeline, X, encoded_Y, cv=kfold)"
      ],
      "execution_count": 28,
      "outputs": [
        {
          "output_type": "stream",
          "text": [
            "Model: \"weather_guru\"\n",
            "_________________________________________________________________\n",
            "Layer (type)                 Output Shape              Param #   \n",
            "=================================================================\n",
            "dense_1 (Dense)              (None, 27)                729       \n",
            "_________________________________________________________________\n",
            "dense_2 (Dense)              (None, 7)                 196       \n",
            "_________________________________________________________________\n",
            "output (Dense)               (None, 1)                 8         \n",
            "=================================================================\n",
            "Total params: 933\n",
            "Trainable params: 933\n",
            "Non-trainable params: 0\n",
            "_________________________________________________________________\n",
            "None\n",
            "Epoch 1/100\n",
            "112/112 [==============================] - 1s 2ms/step - loss: 0.4884 - accuracy: 0.7631\n",
            "Epoch 2/100\n",
            "112/112 [==============================] - 0s 1ms/step - loss: 0.3881 - accuracy: 0.8262\n",
            "Epoch 3/100\n",
            "112/112 [==============================] - 0s 2ms/step - loss: 0.3684 - accuracy: 0.8385\n",
            "Epoch 4/100\n",
            "112/112 [==============================] - 0s 2ms/step - loss: 0.3585 - accuracy: 0.8435\n",
            "Epoch 5/100\n",
            "112/112 [==============================] - 0s 2ms/step - loss: 0.3530 - accuracy: 0.8465\n",
            "Epoch 6/100\n",
            "112/112 [==============================] - 0s 1ms/step - loss: 0.3495 - accuracy: 0.8481\n",
            "Epoch 7/100\n",
            "112/112 [==============================] - 0s 2ms/step - loss: 0.3469 - accuracy: 0.8501\n",
            "Epoch 8/100\n",
            "112/112 [==============================] - 0s 2ms/step - loss: 0.3447 - accuracy: 0.8513\n",
            "Epoch 9/100\n",
            "112/112 [==============================] - 0s 1ms/step - loss: 0.3431 - accuracy: 0.8514\n",
            "Epoch 10/100\n",
            "112/112 [==============================] - 0s 2ms/step - loss: 0.3416 - accuracy: 0.8522\n",
            "Epoch 11/100\n",
            "112/112 [==============================] - 0s 2ms/step - loss: 0.3404 - accuracy: 0.8530\n",
            "Epoch 12/100\n",
            "112/112 [==============================] - 0s 2ms/step - loss: 0.3392 - accuracy: 0.8536\n",
            "Epoch 13/100\n",
            "112/112 [==============================] - 0s 2ms/step - loss: 0.3382 - accuracy: 0.8539\n",
            "Epoch 14/100\n",
            "112/112 [==============================] - 0s 2ms/step - loss: 0.3373 - accuracy: 0.8543\n",
            "Epoch 15/100\n",
            "112/112 [==============================] - 0s 2ms/step - loss: 0.3366 - accuracy: 0.8551\n",
            "Epoch 16/100\n",
            "112/112 [==============================] - 0s 2ms/step - loss: 0.3358 - accuracy: 0.8551\n",
            "Epoch 17/100\n",
            "112/112 [==============================] - 0s 2ms/step - loss: 0.3350 - accuracy: 0.8555\n",
            "Epoch 18/100\n",
            "112/112 [==============================] - 0s 2ms/step - loss: 0.3344 - accuracy: 0.8560\n",
            "Epoch 19/100\n",
            "112/112 [==============================] - 0s 2ms/step - loss: 0.3339 - accuracy: 0.8560\n",
            "Epoch 20/100\n",
            "112/112 [==============================] - 0s 2ms/step - loss: 0.3334 - accuracy: 0.8564\n",
            "Epoch 21/100\n",
            "112/112 [==============================] - 0s 1ms/step - loss: 0.3330 - accuracy: 0.8562\n",
            "Epoch 22/100\n",
            "112/112 [==============================] - 0s 1ms/step - loss: 0.3324 - accuracy: 0.8563\n",
            "Epoch 23/100\n",
            "112/112 [==============================] - 0s 2ms/step - loss: 0.3319 - accuracy: 0.8567\n",
            "Epoch 24/100\n",
            "112/112 [==============================] - 0s 2ms/step - loss: 0.3316 - accuracy: 0.8563\n",
            "Epoch 25/100\n",
            "112/112 [==============================] - 0s 1ms/step - loss: 0.3311 - accuracy: 0.8570\n",
            "Epoch 26/100\n",
            "112/112 [==============================] - 0s 1ms/step - loss: 0.3306 - accuracy: 0.8568\n",
            "Epoch 27/100\n",
            "112/112 [==============================] - 0s 1ms/step - loss: 0.3301 - accuracy: 0.8575\n",
            "Epoch 28/100\n",
            "112/112 [==============================] - 0s 2ms/step - loss: 0.3300 - accuracy: 0.8570\n",
            "Epoch 29/100\n",
            "112/112 [==============================] - 0s 2ms/step - loss: 0.3298 - accuracy: 0.8569\n",
            "Epoch 30/100\n",
            "112/112 [==============================] - 0s 2ms/step - loss: 0.3293 - accuracy: 0.8575\n",
            "Epoch 31/100\n",
            "112/112 [==============================] - 0s 2ms/step - loss: 0.3292 - accuracy: 0.8578\n",
            "Epoch 32/100\n",
            "112/112 [==============================] - 0s 1ms/step - loss: 0.3287 - accuracy: 0.8577\n",
            "Epoch 33/100\n",
            "112/112 [==============================] - 0s 2ms/step - loss: 0.3286 - accuracy: 0.8580\n",
            "Epoch 34/100\n",
            "112/112 [==============================] - 0s 2ms/step - loss: 0.3283 - accuracy: 0.8578\n",
            "Epoch 35/100\n",
            "112/112 [==============================] - 0s 2ms/step - loss: 0.3280 - accuracy: 0.8581\n",
            "Epoch 36/100\n",
            "112/112 [==============================] - 0s 2ms/step - loss: 0.3278 - accuracy: 0.8583\n",
            "Epoch 37/100\n",
            "112/112 [==============================] - 0s 2ms/step - loss: 0.3275 - accuracy: 0.8587\n",
            "Epoch 38/100\n",
            "112/112 [==============================] - 0s 2ms/step - loss: 0.3273 - accuracy: 0.8585\n",
            "Epoch 39/100\n",
            "112/112 [==============================] - 0s 2ms/step - loss: 0.3272 - accuracy: 0.8586\n",
            "Epoch 40/100\n",
            "112/112 [==============================] - 0s 2ms/step - loss: 0.3268 - accuracy: 0.8584\n",
            "Epoch 41/100\n",
            "112/112 [==============================] - 0s 2ms/step - loss: 0.3267 - accuracy: 0.8588\n",
            "Epoch 42/100\n",
            "112/112 [==============================] - 0s 2ms/step - loss: 0.3264 - accuracy: 0.8588\n",
            "Epoch 43/100\n",
            "112/112 [==============================] - 0s 1ms/step - loss: 0.3264 - accuracy: 0.8589\n",
            "Epoch 44/100\n",
            "112/112 [==============================] - 0s 2ms/step - loss: 0.3260 - accuracy: 0.8589\n",
            "Epoch 45/100\n",
            "112/112 [==============================] - 0s 2ms/step - loss: 0.3258 - accuracy: 0.8587\n",
            "Epoch 46/100\n",
            "112/112 [==============================] - 0s 2ms/step - loss: 0.3257 - accuracy: 0.8586\n",
            "Epoch 47/100\n",
            "112/112 [==============================] - 0s 2ms/step - loss: 0.3256 - accuracy: 0.8590\n",
            "Epoch 48/100\n",
            "112/112 [==============================] - 0s 1ms/step - loss: 0.3255 - accuracy: 0.8587\n",
            "Epoch 49/100\n",
            "112/112 [==============================] - 0s 1ms/step - loss: 0.3252 - accuracy: 0.8593\n",
            "Epoch 50/100\n",
            "112/112 [==============================] - 0s 2ms/step - loss: 0.3249 - accuracy: 0.8588\n",
            "Epoch 51/100\n",
            "112/112 [==============================] - 0s 2ms/step - loss: 0.3247 - accuracy: 0.8593\n",
            "Epoch 52/100\n",
            "112/112 [==============================] - 0s 2ms/step - loss: 0.3248 - accuracy: 0.8593\n",
            "Epoch 53/100\n",
            "112/112 [==============================] - 0s 2ms/step - loss: 0.3249 - accuracy: 0.8591\n",
            "Epoch 54/100\n",
            "112/112 [==============================] - 0s 2ms/step - loss: 0.3244 - accuracy: 0.8595\n",
            "Epoch 55/100\n",
            "112/112 [==============================] - 0s 2ms/step - loss: 0.3243 - accuracy: 0.8590\n",
            "Epoch 56/100\n",
            "112/112 [==============================] - 0s 2ms/step - loss: 0.3241 - accuracy: 0.8592\n",
            "Epoch 57/100\n",
            "112/112 [==============================] - 0s 2ms/step - loss: 0.3239 - accuracy: 0.8595\n",
            "Epoch 58/100\n",
            "112/112 [==============================] - 0s 2ms/step - loss: 0.3239 - accuracy: 0.8596\n",
            "Epoch 59/100\n",
            "112/112 [==============================] - 0s 2ms/step - loss: 0.3237 - accuracy: 0.8595\n",
            "Epoch 60/100\n",
            "112/112 [==============================] - 0s 2ms/step - loss: 0.3236 - accuracy: 0.8595\n",
            "Epoch 61/100\n",
            "112/112 [==============================] - 0s 2ms/step - loss: 0.3236 - accuracy: 0.8600\n",
            "Epoch 62/100\n",
            "112/112 [==============================] - 0s 2ms/step - loss: 0.3234 - accuracy: 0.8594\n",
            "Epoch 63/100\n",
            "112/112 [==============================] - 0s 2ms/step - loss: 0.3233 - accuracy: 0.8601\n",
            "Epoch 64/100\n",
            "112/112 [==============================] - 0s 2ms/step - loss: 0.3232 - accuracy: 0.8602\n",
            "Epoch 65/100\n",
            "112/112 [==============================] - 0s 1ms/step - loss: 0.3231 - accuracy: 0.8599\n",
            "Epoch 66/100\n",
            "112/112 [==============================] - 0s 2ms/step - loss: 0.3232 - accuracy: 0.8596\n",
            "Epoch 67/100\n",
            "112/112 [==============================] - 0s 2ms/step - loss: 0.3230 - accuracy: 0.8602\n",
            "Epoch 68/100\n",
            "112/112 [==============================] - 0s 2ms/step - loss: 0.3229 - accuracy: 0.8600\n",
            "Epoch 69/100\n",
            "112/112 [==============================] - 0s 2ms/step - loss: 0.3228 - accuracy: 0.8602\n",
            "Epoch 70/100\n",
            "112/112 [==============================] - 0s 2ms/step - loss: 0.3226 - accuracy: 0.8604\n",
            "Epoch 71/100\n",
            "112/112 [==============================] - 0s 2ms/step - loss: 0.3226 - accuracy: 0.8602\n",
            "Epoch 72/100\n",
            "112/112 [==============================] - 0s 2ms/step - loss: 0.3225 - accuracy: 0.8603\n",
            "Epoch 73/100\n",
            "112/112 [==============================] - 0s 2ms/step - loss: 0.3225 - accuracy: 0.8607\n",
            "Epoch 74/100\n",
            "112/112 [==============================] - 0s 2ms/step - loss: 0.3224 - accuracy: 0.8602\n",
            "Epoch 75/100\n",
            "112/112 [==============================] - 0s 2ms/step - loss: 0.3221 - accuracy: 0.8604\n",
            "Epoch 76/100\n",
            "112/112 [==============================] - 0s 2ms/step - loss: 0.3221 - accuracy: 0.8608\n",
            "Epoch 77/100\n",
            "112/112 [==============================] - 0s 2ms/step - loss: 0.3221 - accuracy: 0.8602\n",
            "Epoch 78/100\n",
            "112/112 [==============================] - 0s 2ms/step - loss: 0.3219 - accuracy: 0.8604\n",
            "Epoch 79/100\n",
            "112/112 [==============================] - 0s 2ms/step - loss: 0.3219 - accuracy: 0.8606\n",
            "Epoch 80/100\n",
            "112/112 [==============================] - 0s 2ms/step - loss: 0.3220 - accuracy: 0.8606\n",
            "Epoch 81/100\n",
            "112/112 [==============================] - 0s 1ms/step - loss: 0.3218 - accuracy: 0.8604\n",
            "Epoch 82/100\n",
            "112/112 [==============================] - 0s 1ms/step - loss: 0.3217 - accuracy: 0.8601\n",
            "Epoch 83/100\n",
            "112/112 [==============================] - 0s 2ms/step - loss: 0.3215 - accuracy: 0.8610\n",
            "Epoch 84/100\n",
            "112/112 [==============================] - 0s 2ms/step - loss: 0.3216 - accuracy: 0.8604\n",
            "Epoch 85/100\n",
            "112/112 [==============================] - 0s 2ms/step - loss: 0.3217 - accuracy: 0.8607\n",
            "Epoch 86/100\n",
            "112/112 [==============================] - 0s 2ms/step - loss: 0.3214 - accuracy: 0.8605\n",
            "Epoch 87/100\n",
            "112/112 [==============================] - 0s 1ms/step - loss: 0.3215 - accuracy: 0.8605\n",
            "Epoch 88/100\n",
            "112/112 [==============================] - 0s 1ms/step - loss: 0.3214 - accuracy: 0.8606\n",
            "Epoch 89/100\n",
            "112/112 [==============================] - 0s 2ms/step - loss: 0.3212 - accuracy: 0.8610\n",
            "Epoch 90/100\n",
            "112/112 [==============================] - 0s 1ms/step - loss: 0.3211 - accuracy: 0.8604\n",
            "Epoch 91/100\n",
            "112/112 [==============================] - 0s 2ms/step - loss: 0.3213 - accuracy: 0.8608\n",
            "Epoch 92/100\n",
            "112/112 [==============================] - 0s 2ms/step - loss: 0.3212 - accuracy: 0.8608\n",
            "Epoch 93/100\n",
            "112/112 [==============================] - 0s 2ms/step - loss: 0.3211 - accuracy: 0.8609\n",
            "Epoch 94/100\n",
            "112/112 [==============================] - 0s 2ms/step - loss: 0.3208 - accuracy: 0.8609\n",
            "Epoch 95/100\n",
            "112/112 [==============================] - 0s 2ms/step - loss: 0.3209 - accuracy: 0.8612\n",
            "Epoch 96/100\n",
            "112/112 [==============================] - 0s 2ms/step - loss: 0.3210 - accuracy: 0.8605\n",
            "Epoch 97/100\n",
            "112/112 [==============================] - 0s 2ms/step - loss: 0.3208 - accuracy: 0.8611\n",
            "Epoch 98/100\n",
            "112/112 [==============================] - 0s 2ms/step - loss: 0.3206 - accuracy: 0.8611\n",
            "Epoch 99/100\n",
            "112/112 [==============================] - 0s 2ms/step - loss: 0.3207 - accuracy: 0.8610\n",
            "Epoch 100/100\n",
            "112/112 [==============================] - 0s 1ms/step - loss: 0.3207 - accuracy: 0.8609\n",
            "28/28 [==============================] - 0s 1ms/step - loss: 0.3294 - accuracy: 0.8566\n",
            "Model: \"weather_guru\"\n",
            "_________________________________________________________________\n",
            "Layer (type)                 Output Shape              Param #   \n",
            "=================================================================\n",
            "dense_1 (Dense)              (None, 27)                729       \n",
            "_________________________________________________________________\n",
            "dense_2 (Dense)              (None, 7)                 196       \n",
            "_________________________________________________________________\n",
            "output (Dense)               (None, 1)                 8         \n",
            "=================================================================\n",
            "Total params: 933\n",
            "Trainable params: 933\n",
            "Non-trainable params: 0\n",
            "_________________________________________________________________\n",
            "None\n",
            "Epoch 1/100\n",
            "112/112 [==============================] - 1s 2ms/step - loss: 0.4807 - accuracy: 0.7798\n",
            "Epoch 2/100\n",
            "112/112 [==============================] - 0s 2ms/step - loss: 0.3855 - accuracy: 0.8307\n",
            "Epoch 3/100\n",
            "112/112 [==============================] - 0s 2ms/step - loss: 0.3657 - accuracy: 0.8421\n",
            "Epoch 4/100\n",
            "112/112 [==============================] - 0s 2ms/step - loss: 0.3565 - accuracy: 0.8459\n",
            "Epoch 5/100\n",
            "112/112 [==============================] - 0s 2ms/step - loss: 0.3512 - accuracy: 0.8485\n",
            "Epoch 6/100\n",
            "112/112 [==============================] - 0s 2ms/step - loss: 0.3476 - accuracy: 0.8501\n",
            "Epoch 7/100\n",
            "112/112 [==============================] - 0s 2ms/step - loss: 0.3450 - accuracy: 0.8513\n",
            "Epoch 8/100\n",
            "112/112 [==============================] - 0s 2ms/step - loss: 0.3431 - accuracy: 0.8519\n",
            "Epoch 9/100\n",
            "112/112 [==============================] - 0s 2ms/step - loss: 0.3415 - accuracy: 0.8530\n",
            "Epoch 10/100\n",
            "112/112 [==============================] - 0s 2ms/step - loss: 0.3401 - accuracy: 0.8535\n",
            "Epoch 11/100\n",
            "112/112 [==============================] - 0s 2ms/step - loss: 0.3391 - accuracy: 0.8540\n",
            "Epoch 12/100\n",
            "112/112 [==============================] - 0s 2ms/step - loss: 0.3384 - accuracy: 0.8541\n",
            "Epoch 13/100\n",
            "112/112 [==============================] - 0s 2ms/step - loss: 0.3371 - accuracy: 0.8548\n",
            "Epoch 14/100\n",
            "112/112 [==============================] - 0s 2ms/step - loss: 0.3365 - accuracy: 0.8550\n",
            "Epoch 15/100\n",
            "112/112 [==============================] - 0s 2ms/step - loss: 0.3359 - accuracy: 0.8553\n",
            "Epoch 16/100\n",
            "112/112 [==============================] - 0s 2ms/step - loss: 0.3354 - accuracy: 0.8553\n",
            "Epoch 17/100\n",
            "112/112 [==============================] - 0s 2ms/step - loss: 0.3348 - accuracy: 0.8557\n",
            "Epoch 18/100\n",
            "112/112 [==============================] - 0s 2ms/step - loss: 0.3344 - accuracy: 0.8557\n",
            "Epoch 19/100\n",
            "112/112 [==============================] - 0s 2ms/step - loss: 0.3340 - accuracy: 0.8561\n",
            "Epoch 20/100\n",
            "112/112 [==============================] - 0s 1ms/step - loss: 0.3336 - accuracy: 0.8564\n",
            "Epoch 21/100\n",
            "112/112 [==============================] - 0s 2ms/step - loss: 0.3331 - accuracy: 0.8561\n",
            "Epoch 22/100\n",
            "112/112 [==============================] - 0s 2ms/step - loss: 0.3328 - accuracy: 0.8565\n",
            "Epoch 23/100\n",
            "112/112 [==============================] - 0s 2ms/step - loss: 0.3326 - accuracy: 0.8561\n",
            "Epoch 24/100\n",
            "112/112 [==============================] - 0s 2ms/step - loss: 0.3321 - accuracy: 0.8569\n",
            "Epoch 25/100\n",
            "112/112 [==============================] - 0s 2ms/step - loss: 0.3320 - accuracy: 0.8563\n",
            "Epoch 26/100\n",
            "112/112 [==============================] - 0s 2ms/step - loss: 0.3316 - accuracy: 0.8572\n",
            "Epoch 27/100\n",
            "112/112 [==============================] - 0s 2ms/step - loss: 0.3313 - accuracy: 0.8568\n",
            "Epoch 28/100\n",
            "112/112 [==============================] - 0s 2ms/step - loss: 0.3314 - accuracy: 0.8571\n",
            "Epoch 29/100\n",
            "112/112 [==============================] - 0s 2ms/step - loss: 0.3308 - accuracy: 0.8569\n",
            "Epoch 30/100\n",
            "112/112 [==============================] - 0s 2ms/step - loss: 0.3305 - accuracy: 0.8570\n",
            "Epoch 31/100\n",
            "112/112 [==============================] - 0s 2ms/step - loss: 0.3304 - accuracy: 0.8570\n",
            "Epoch 32/100\n",
            "112/112 [==============================] - 0s 1ms/step - loss: 0.3301 - accuracy: 0.8571\n",
            "Epoch 33/100\n",
            "112/112 [==============================] - 0s 2ms/step - loss: 0.3299 - accuracy: 0.8573\n",
            "Epoch 34/100\n",
            "112/112 [==============================] - 0s 1ms/step - loss: 0.3298 - accuracy: 0.8574\n",
            "Epoch 35/100\n",
            "112/112 [==============================] - 0s 2ms/step - loss: 0.3296 - accuracy: 0.8576\n",
            "Epoch 36/100\n",
            "112/112 [==============================] - 0s 2ms/step - loss: 0.3292 - accuracy: 0.8571\n",
            "Epoch 37/100\n",
            "112/112 [==============================] - 0s 2ms/step - loss: 0.3291 - accuracy: 0.8577\n",
            "Epoch 38/100\n",
            "112/112 [==============================] - 0s 2ms/step - loss: 0.3288 - accuracy: 0.8578\n",
            "Epoch 39/100\n",
            "112/112 [==============================] - 0s 2ms/step - loss: 0.3287 - accuracy: 0.8575\n",
            "Epoch 40/100\n",
            "112/112 [==============================] - 0s 2ms/step - loss: 0.3286 - accuracy: 0.8578\n",
            "Epoch 41/100\n",
            "112/112 [==============================] - 0s 2ms/step - loss: 0.3283 - accuracy: 0.8579\n",
            "Epoch 42/100\n",
            "112/112 [==============================] - 0s 1ms/step - loss: 0.3281 - accuracy: 0.8581\n",
            "Epoch 43/100\n",
            "112/112 [==============================] - 0s 1ms/step - loss: 0.3280 - accuracy: 0.8583\n",
            "Epoch 44/100\n",
            "112/112 [==============================] - 0s 2ms/step - loss: 0.3278 - accuracy: 0.8582\n",
            "Epoch 45/100\n",
            "112/112 [==============================] - 0s 1ms/step - loss: 0.3276 - accuracy: 0.8586\n",
            "Epoch 46/100\n",
            "112/112 [==============================] - 0s 2ms/step - loss: 0.3274 - accuracy: 0.8584\n",
            "Epoch 47/100\n",
            "112/112 [==============================] - 0s 2ms/step - loss: 0.3273 - accuracy: 0.8580\n",
            "Epoch 48/100\n",
            "112/112 [==============================] - 0s 2ms/step - loss: 0.3271 - accuracy: 0.8586\n",
            "Epoch 49/100\n",
            "112/112 [==============================] - 0s 1ms/step - loss: 0.3270 - accuracy: 0.8584\n",
            "Epoch 50/100\n",
            "112/112 [==============================] - 0s 2ms/step - loss: 0.3268 - accuracy: 0.8585\n",
            "Epoch 51/100\n",
            "112/112 [==============================] - 0s 2ms/step - loss: 0.3267 - accuracy: 0.8585\n",
            "Epoch 52/100\n",
            "112/112 [==============================] - 0s 2ms/step - loss: 0.3265 - accuracy: 0.8587\n",
            "Epoch 53/100\n",
            "112/112 [==============================] - 0s 2ms/step - loss: 0.3263 - accuracy: 0.8587\n",
            "Epoch 54/100\n",
            "112/112 [==============================] - 0s 2ms/step - loss: 0.3261 - accuracy: 0.8585\n",
            "Epoch 55/100\n",
            "112/112 [==============================] - 0s 1ms/step - loss: 0.3262 - accuracy: 0.8591\n",
            "Epoch 56/100\n",
            "112/112 [==============================] - 0s 2ms/step - loss: 0.3261 - accuracy: 0.8589\n",
            "Epoch 57/100\n",
            "112/112 [==============================] - 0s 2ms/step - loss: 0.3257 - accuracy: 0.8591\n",
            "Epoch 58/100\n",
            "112/112 [==============================] - 0s 2ms/step - loss: 0.3258 - accuracy: 0.8595\n",
            "Epoch 59/100\n",
            "112/112 [==============================] - 0s 2ms/step - loss: 0.3257 - accuracy: 0.8588\n",
            "Epoch 60/100\n",
            "112/112 [==============================] - 0s 2ms/step - loss: 0.3254 - accuracy: 0.8590\n",
            "Epoch 61/100\n",
            "112/112 [==============================] - 0s 2ms/step - loss: 0.3254 - accuracy: 0.8592\n",
            "Epoch 62/100\n",
            "112/112 [==============================] - 0s 2ms/step - loss: 0.3251 - accuracy: 0.8589\n",
            "Epoch 63/100\n",
            "112/112 [==============================] - 0s 2ms/step - loss: 0.3251 - accuracy: 0.8591\n",
            "Epoch 64/100\n",
            "112/112 [==============================] - 0s 2ms/step - loss: 0.3249 - accuracy: 0.8590\n",
            "Epoch 65/100\n",
            "112/112 [==============================] - 0s 2ms/step - loss: 0.3249 - accuracy: 0.8593\n",
            "Epoch 66/100\n",
            "112/112 [==============================] - 0s 2ms/step - loss: 0.3247 - accuracy: 0.8596\n",
            "Epoch 67/100\n",
            "112/112 [==============================] - 0s 2ms/step - loss: 0.3246 - accuracy: 0.8592\n",
            "Epoch 68/100\n",
            "112/112 [==============================] - 0s 2ms/step - loss: 0.3245 - accuracy: 0.8590\n",
            "Epoch 69/100\n",
            "112/112 [==============================] - 0s 2ms/step - loss: 0.3244 - accuracy: 0.8589\n",
            "Epoch 70/100\n",
            "112/112 [==============================] - 0s 2ms/step - loss: 0.3243 - accuracy: 0.8594\n",
            "Epoch 71/100\n",
            "112/112 [==============================] - 0s 2ms/step - loss: 0.3243 - accuracy: 0.8592\n",
            "Epoch 72/100\n",
            "112/112 [==============================] - 0s 2ms/step - loss: 0.3243 - accuracy: 0.8590\n",
            "Epoch 73/100\n",
            "112/112 [==============================] - 0s 2ms/step - loss: 0.3242 - accuracy: 0.8597\n",
            "Epoch 74/100\n",
            "112/112 [==============================] - 0s 2ms/step - loss: 0.3239 - accuracy: 0.8596\n",
            "Epoch 75/100\n",
            "112/112 [==============================] - 0s 2ms/step - loss: 0.3238 - accuracy: 0.8593\n",
            "Epoch 76/100\n",
            "112/112 [==============================] - 0s 2ms/step - loss: 0.3237 - accuracy: 0.8597\n",
            "Epoch 77/100\n",
            "112/112 [==============================] - 0s 2ms/step - loss: 0.3236 - accuracy: 0.8594\n",
            "Epoch 78/100\n",
            "112/112 [==============================] - 0s 2ms/step - loss: 0.3237 - accuracy: 0.8593\n",
            "Epoch 79/100\n",
            "112/112 [==============================] - 0s 2ms/step - loss: 0.3233 - accuracy: 0.8595\n",
            "Epoch 80/100\n",
            "112/112 [==============================] - 0s 2ms/step - loss: 0.3235 - accuracy: 0.8595\n",
            "Epoch 81/100\n",
            "112/112 [==============================] - 0s 2ms/step - loss: 0.3231 - accuracy: 0.8600\n",
            "Epoch 82/100\n",
            "112/112 [==============================] - 0s 2ms/step - loss: 0.3231 - accuracy: 0.8594\n",
            "Epoch 83/100\n",
            "112/112 [==============================] - 0s 2ms/step - loss: 0.3231 - accuracy: 0.8596\n",
            "Epoch 84/100\n",
            "112/112 [==============================] - 0s 2ms/step - loss: 0.3229 - accuracy: 0.8594\n",
            "Epoch 85/100\n",
            "112/112 [==============================] - 0s 2ms/step - loss: 0.3229 - accuracy: 0.8595\n",
            "Epoch 86/100\n",
            "112/112 [==============================] - 0s 2ms/step - loss: 0.3227 - accuracy: 0.8596\n",
            "Epoch 87/100\n",
            "112/112 [==============================] - 0s 2ms/step - loss: 0.3227 - accuracy: 0.8595\n",
            "Epoch 88/100\n",
            "112/112 [==============================] - 0s 2ms/step - loss: 0.3225 - accuracy: 0.8596\n",
            "Epoch 89/100\n",
            "112/112 [==============================] - 0s 2ms/step - loss: 0.3226 - accuracy: 0.8600\n",
            "Epoch 90/100\n",
            "112/112 [==============================] - 0s 2ms/step - loss: 0.3224 - accuracy: 0.8595\n",
            "Epoch 91/100\n",
            "112/112 [==============================] - 0s 2ms/step - loss: 0.3224 - accuracy: 0.8598\n",
            "Epoch 92/100\n",
            "112/112 [==============================] - 0s 2ms/step - loss: 0.3222 - accuracy: 0.8602\n",
            "Epoch 93/100\n",
            "112/112 [==============================] - 0s 2ms/step - loss: 0.3223 - accuracy: 0.8599\n",
            "Epoch 94/100\n",
            "112/112 [==============================] - 0s 1ms/step - loss: 0.3222 - accuracy: 0.8599\n",
            "Epoch 95/100\n",
            "112/112 [==============================] - 0s 2ms/step - loss: 0.3222 - accuracy: 0.8594\n",
            "Epoch 96/100\n",
            "112/112 [==============================] - 0s 1ms/step - loss: 0.3222 - accuracy: 0.8594\n",
            "Epoch 97/100\n",
            "112/112 [==============================] - 0s 2ms/step - loss: 0.3219 - accuracy: 0.8598\n",
            "Epoch 98/100\n",
            "112/112 [==============================] - 0s 2ms/step - loss: 0.3221 - accuracy: 0.8593\n",
            "Epoch 99/100\n",
            "112/112 [==============================] - 0s 2ms/step - loss: 0.3217 - accuracy: 0.8599\n",
            "Epoch 100/100\n",
            "112/112 [==============================] - 0s 2ms/step - loss: 0.3217 - accuracy: 0.8602\n",
            "28/28 [==============================] - 0s 1ms/step - loss: 0.3260 - accuracy: 0.8569\n",
            "Model: \"weather_guru\"\n",
            "_________________________________________________________________\n",
            "Layer (type)                 Output Shape              Param #   \n",
            "=================================================================\n",
            "dense_1 (Dense)              (None, 27)                729       \n",
            "_________________________________________________________________\n",
            "dense_2 (Dense)              (None, 7)                 196       \n",
            "_________________________________________________________________\n",
            "output (Dense)               (None, 1)                 8         \n",
            "=================================================================\n",
            "Total params: 933\n",
            "Trainable params: 933\n",
            "Non-trainable params: 0\n",
            "_________________________________________________________________\n",
            "None\n",
            "Epoch 1/100\n",
            "112/112 [==============================] - 1s 2ms/step - loss: 0.4859 - accuracy: 0.7671\n",
            "Epoch 2/100\n",
            "112/112 [==============================] - 0s 2ms/step - loss: 0.3788 - accuracy: 0.8336\n",
            "Epoch 3/100\n",
            "112/112 [==============================] - 0s 2ms/step - loss: 0.3645 - accuracy: 0.8412\n",
            "Epoch 4/100\n",
            "112/112 [==============================] - 0s 2ms/step - loss: 0.3570 - accuracy: 0.8446\n",
            "Epoch 5/100\n",
            "112/112 [==============================] - 0s 2ms/step - loss: 0.3522 - accuracy: 0.8472\n",
            "Epoch 6/100\n",
            "112/112 [==============================] - 0s 2ms/step - loss: 0.3488 - accuracy: 0.8489\n",
            "Epoch 7/100\n",
            "112/112 [==============================] - 0s 1ms/step - loss: 0.3464 - accuracy: 0.8499\n",
            "Epoch 8/100\n",
            "112/112 [==============================] - 0s 2ms/step - loss: 0.3443 - accuracy: 0.8510\n",
            "Epoch 9/100\n",
            "112/112 [==============================] - 0s 2ms/step - loss: 0.3428 - accuracy: 0.8519\n",
            "Epoch 10/100\n",
            "112/112 [==============================] - 0s 2ms/step - loss: 0.3414 - accuracy: 0.8528\n",
            "Epoch 11/100\n",
            "112/112 [==============================] - 0s 2ms/step - loss: 0.3403 - accuracy: 0.8533\n",
            "Epoch 12/100\n",
            "112/112 [==============================] - 0s 2ms/step - loss: 0.3393 - accuracy: 0.8530\n",
            "Epoch 13/100\n",
            "112/112 [==============================] - 0s 2ms/step - loss: 0.3386 - accuracy: 0.8538\n",
            "Epoch 14/100\n",
            "112/112 [==============================] - 0s 2ms/step - loss: 0.3378 - accuracy: 0.8537\n",
            "Epoch 15/100\n",
            "112/112 [==============================] - 0s 2ms/step - loss: 0.3372 - accuracy: 0.8542\n",
            "Epoch 16/100\n",
            "112/112 [==============================] - 0s 2ms/step - loss: 0.3366 - accuracy: 0.8547\n",
            "Epoch 17/100\n",
            "112/112 [==============================] - 0s 2ms/step - loss: 0.3360 - accuracy: 0.8548\n",
            "Epoch 18/100\n",
            "112/112 [==============================] - 0s 2ms/step - loss: 0.3355 - accuracy: 0.8548\n",
            "Epoch 19/100\n",
            "112/112 [==============================] - 0s 2ms/step - loss: 0.3350 - accuracy: 0.8554\n",
            "Epoch 20/100\n",
            "112/112 [==============================] - 0s 2ms/step - loss: 0.3347 - accuracy: 0.8552\n",
            "Epoch 21/100\n",
            "112/112 [==============================] - 0s 2ms/step - loss: 0.3342 - accuracy: 0.8557\n",
            "Epoch 22/100\n",
            "112/112 [==============================] - 0s 2ms/step - loss: 0.3338 - accuracy: 0.8557\n",
            "Epoch 23/100\n",
            "112/112 [==============================] - 0s 2ms/step - loss: 0.3332 - accuracy: 0.8561\n",
            "Epoch 24/100\n",
            "112/112 [==============================] - 0s 2ms/step - loss: 0.3328 - accuracy: 0.8562\n",
            "Epoch 25/100\n",
            "112/112 [==============================] - 0s 2ms/step - loss: 0.3324 - accuracy: 0.8565\n",
            "Epoch 26/100\n",
            "112/112 [==============================] - 0s 2ms/step - loss: 0.3321 - accuracy: 0.8566\n",
            "Epoch 27/100\n",
            "112/112 [==============================] - 0s 2ms/step - loss: 0.3316 - accuracy: 0.8571\n",
            "Epoch 28/100\n",
            "112/112 [==============================] - 0s 2ms/step - loss: 0.3315 - accuracy: 0.8570\n",
            "Epoch 29/100\n",
            "112/112 [==============================] - 0s 2ms/step - loss: 0.3311 - accuracy: 0.8572\n",
            "Epoch 30/100\n",
            "112/112 [==============================] - 0s 2ms/step - loss: 0.3310 - accuracy: 0.8571\n",
            "Epoch 31/100\n",
            "112/112 [==============================] - 0s 2ms/step - loss: 0.3306 - accuracy: 0.8570\n",
            "Epoch 32/100\n",
            "112/112 [==============================] - 0s 2ms/step - loss: 0.3303 - accuracy: 0.8572\n",
            "Epoch 33/100\n",
            "112/112 [==============================] - 0s 2ms/step - loss: 0.3301 - accuracy: 0.8577\n",
            "Epoch 34/100\n",
            "112/112 [==============================] - 0s 2ms/step - loss: 0.3297 - accuracy: 0.8576\n",
            "Epoch 35/100\n",
            "112/112 [==============================] - 0s 2ms/step - loss: 0.3295 - accuracy: 0.8581\n",
            "Epoch 36/100\n",
            "112/112 [==============================] - 0s 2ms/step - loss: 0.3295 - accuracy: 0.8577\n",
            "Epoch 37/100\n",
            "112/112 [==============================] - 0s 2ms/step - loss: 0.3292 - accuracy: 0.8583\n",
            "Epoch 38/100\n",
            "112/112 [==============================] - 0s 2ms/step - loss: 0.3289 - accuracy: 0.8581\n",
            "Epoch 39/100\n",
            "112/112 [==============================] - 0s 2ms/step - loss: 0.3286 - accuracy: 0.8580\n",
            "Epoch 40/100\n",
            "112/112 [==============================] - 0s 2ms/step - loss: 0.3284 - accuracy: 0.8584\n",
            "Epoch 41/100\n",
            "112/112 [==============================] - 0s 2ms/step - loss: 0.3283 - accuracy: 0.8585\n",
            "Epoch 42/100\n",
            "112/112 [==============================] - 0s 2ms/step - loss: 0.3281 - accuracy: 0.8583\n",
            "Epoch 43/100\n",
            "112/112 [==============================] - 0s 2ms/step - loss: 0.3278 - accuracy: 0.8588\n",
            "Epoch 44/100\n",
            "112/112 [==============================] - 0s 2ms/step - loss: 0.3276 - accuracy: 0.8585\n",
            "Epoch 45/100\n",
            "112/112 [==============================] - 0s 1ms/step - loss: 0.3275 - accuracy: 0.8585\n",
            "Epoch 46/100\n",
            "112/112 [==============================] - 0s 2ms/step - loss: 0.3274 - accuracy: 0.8585\n",
            "Epoch 47/100\n",
            "112/112 [==============================] - 0s 2ms/step - loss: 0.3270 - accuracy: 0.8591\n",
            "Epoch 48/100\n",
            "112/112 [==============================] - 0s 2ms/step - loss: 0.3270 - accuracy: 0.8589\n",
            "Epoch 49/100\n",
            "112/112 [==============================] - 0s 2ms/step - loss: 0.3269 - accuracy: 0.8591\n",
            "Epoch 50/100\n",
            "112/112 [==============================] - 0s 2ms/step - loss: 0.3266 - accuracy: 0.8588\n",
            "Epoch 51/100\n",
            "112/112 [==============================] - 0s 2ms/step - loss: 0.3266 - accuracy: 0.8591\n",
            "Epoch 52/100\n",
            "112/112 [==============================] - 0s 2ms/step - loss: 0.3263 - accuracy: 0.8592\n",
            "Epoch 53/100\n",
            "112/112 [==============================] - 0s 2ms/step - loss: 0.3261 - accuracy: 0.8593\n",
            "Epoch 54/100\n",
            "112/112 [==============================] - 0s 2ms/step - loss: 0.3263 - accuracy: 0.8589\n",
            "Epoch 55/100\n",
            "112/112 [==============================] - 0s 2ms/step - loss: 0.3262 - accuracy: 0.8595\n",
            "Epoch 56/100\n",
            "112/112 [==============================] - 0s 2ms/step - loss: 0.3258 - accuracy: 0.8595\n",
            "Epoch 57/100\n",
            "112/112 [==============================] - 0s 2ms/step - loss: 0.3258 - accuracy: 0.8594\n",
            "Epoch 58/100\n",
            "112/112 [==============================] - 0s 2ms/step - loss: 0.3256 - accuracy: 0.8595\n",
            "Epoch 59/100\n",
            "112/112 [==============================] - 0s 2ms/step - loss: 0.3254 - accuracy: 0.8596\n",
            "Epoch 60/100\n",
            "112/112 [==============================] - 0s 2ms/step - loss: 0.3252 - accuracy: 0.8595\n",
            "Epoch 61/100\n",
            "112/112 [==============================] - 0s 2ms/step - loss: 0.3253 - accuracy: 0.8595\n",
            "Epoch 62/100\n",
            "112/112 [==============================] - 0s 2ms/step - loss: 0.3252 - accuracy: 0.8599\n",
            "Epoch 63/100\n",
            "112/112 [==============================] - 0s 2ms/step - loss: 0.3250 - accuracy: 0.8592\n",
            "Epoch 64/100\n",
            "112/112 [==============================] - 0s 2ms/step - loss: 0.3249 - accuracy: 0.8597\n",
            "Epoch 65/100\n",
            "112/112 [==============================] - 0s 2ms/step - loss: 0.3249 - accuracy: 0.8595\n",
            "Epoch 66/100\n",
            "112/112 [==============================] - 0s 1ms/step - loss: 0.3248 - accuracy: 0.8600\n",
            "Epoch 67/100\n",
            "112/112 [==============================] - 0s 2ms/step - loss: 0.3246 - accuracy: 0.8605\n",
            "Epoch 68/100\n",
            "112/112 [==============================] - 0s 2ms/step - loss: 0.3246 - accuracy: 0.8601\n",
            "Epoch 69/100\n",
            "112/112 [==============================] - 0s 2ms/step - loss: 0.3245 - accuracy: 0.8601\n",
            "Epoch 70/100\n",
            "112/112 [==============================] - 0s 2ms/step - loss: 0.3243 - accuracy: 0.8605\n",
            "Epoch 71/100\n",
            "112/112 [==============================] - 0s 2ms/step - loss: 0.3242 - accuracy: 0.8603\n",
            "Epoch 72/100\n",
            "112/112 [==============================] - 0s 2ms/step - loss: 0.3242 - accuracy: 0.8603\n",
            "Epoch 73/100\n",
            "112/112 [==============================] - 0s 2ms/step - loss: 0.3239 - accuracy: 0.8604\n",
            "Epoch 74/100\n",
            "112/112 [==============================] - 0s 2ms/step - loss: 0.3238 - accuracy: 0.8603\n",
            "Epoch 75/100\n",
            "112/112 [==============================] - 0s 2ms/step - loss: 0.3239 - accuracy: 0.8605\n",
            "Epoch 76/100\n",
            "112/112 [==============================] - 0s 2ms/step - loss: 0.3238 - accuracy: 0.8603\n",
            "Epoch 77/100\n",
            "112/112 [==============================] - 0s 2ms/step - loss: 0.3237 - accuracy: 0.8599\n",
            "Epoch 78/100\n",
            "112/112 [==============================] - 0s 2ms/step - loss: 0.3235 - accuracy: 0.8606\n",
            "Epoch 79/100\n",
            "112/112 [==============================] - 0s 2ms/step - loss: 0.3235 - accuracy: 0.8607\n",
            "Epoch 80/100\n",
            "112/112 [==============================] - 0s 2ms/step - loss: 0.3234 - accuracy: 0.8608\n",
            "Epoch 81/100\n",
            "112/112 [==============================] - 0s 2ms/step - loss: 0.3234 - accuracy: 0.8606\n",
            "Epoch 82/100\n",
            "112/112 [==============================] - 0s 2ms/step - loss: 0.3232 - accuracy: 0.8610\n",
            "Epoch 83/100\n",
            "112/112 [==============================] - 0s 2ms/step - loss: 0.3232 - accuracy: 0.8608\n",
            "Epoch 84/100\n",
            "112/112 [==============================] - 0s 2ms/step - loss: 0.3231 - accuracy: 0.8607\n",
            "Epoch 85/100\n",
            "112/112 [==============================] - 0s 2ms/step - loss: 0.3230 - accuracy: 0.8608\n",
            "Epoch 86/100\n",
            "112/112 [==============================] - 0s 2ms/step - loss: 0.3229 - accuracy: 0.8609\n",
            "Epoch 87/100\n",
            "112/112 [==============================] - 0s 2ms/step - loss: 0.3229 - accuracy: 0.8612\n",
            "Epoch 88/100\n",
            "112/112 [==============================] - 0s 2ms/step - loss: 0.3229 - accuracy: 0.8612\n",
            "Epoch 89/100\n",
            "112/112 [==============================] - 0s 2ms/step - loss: 0.3227 - accuracy: 0.8612\n",
            "Epoch 90/100\n",
            "112/112 [==============================] - 0s 2ms/step - loss: 0.3226 - accuracy: 0.8615\n",
            "Epoch 91/100\n",
            "112/112 [==============================] - 0s 2ms/step - loss: 0.3225 - accuracy: 0.8610\n",
            "Epoch 92/100\n",
            "112/112 [==============================] - 0s 2ms/step - loss: 0.3224 - accuracy: 0.8611\n",
            "Epoch 93/100\n",
            "112/112 [==============================] - 0s 2ms/step - loss: 0.3224 - accuracy: 0.8614\n",
            "Epoch 94/100\n",
            "112/112 [==============================] - 0s 2ms/step - loss: 0.3223 - accuracy: 0.8614\n",
            "Epoch 95/100\n",
            "112/112 [==============================] - 0s 2ms/step - loss: 0.3223 - accuracy: 0.8614\n",
            "Epoch 96/100\n",
            "112/112 [==============================] - 0s 2ms/step - loss: 0.3221 - accuracy: 0.8614\n",
            "Epoch 97/100\n",
            "112/112 [==============================] - 0s 2ms/step - loss: 0.3222 - accuracy: 0.8617\n",
            "Epoch 98/100\n",
            "112/112 [==============================] - 0s 2ms/step - loss: 0.3219 - accuracy: 0.8616\n",
            "Epoch 99/100\n",
            "112/112 [==============================] - 0s 2ms/step - loss: 0.3220 - accuracy: 0.8606\n",
            "Epoch 100/100\n",
            "112/112 [==============================] - 0s 2ms/step - loss: 0.3220 - accuracy: 0.8613\n",
            "28/28 [==============================] - 0s 1ms/step - loss: 0.3278 - accuracy: 0.8585\n",
            "Model: \"weather_guru\"\n",
            "_________________________________________________________________\n",
            "Layer (type)                 Output Shape              Param #   \n",
            "=================================================================\n",
            "dense_1 (Dense)              (None, 27)                729       \n",
            "_________________________________________________________________\n",
            "dense_2 (Dense)              (None, 7)                 196       \n",
            "_________________________________________________________________\n",
            "output (Dense)               (None, 1)                 8         \n",
            "=================================================================\n",
            "Total params: 933\n",
            "Trainable params: 933\n",
            "Non-trainable params: 0\n",
            "_________________________________________________________________\n",
            "None\n",
            "Epoch 1/100\n",
            "112/112 [==============================] - 1s 2ms/step - loss: 0.4729 - accuracy: 0.7757\n",
            "Epoch 2/100\n",
            "112/112 [==============================] - 0s 2ms/step - loss: 0.4050 - accuracy: 0.7806\n",
            "Epoch 3/100\n",
            "112/112 [==============================] - 0s 2ms/step - loss: 0.3810 - accuracy: 0.8348\n",
            "Epoch 4/100\n",
            "112/112 [==============================] - 0s 2ms/step - loss: 0.3591 - accuracy: 0.8446\n",
            "Epoch 5/100\n",
            "112/112 [==============================] - 0s 2ms/step - loss: 0.3516 - accuracy: 0.8470\n",
            "Epoch 6/100\n",
            "112/112 [==============================] - 0s 2ms/step - loss: 0.3477 - accuracy: 0.8490\n",
            "Epoch 7/100\n",
            "112/112 [==============================] - 0s 2ms/step - loss: 0.3448 - accuracy: 0.8503\n",
            "Epoch 8/100\n",
            "112/112 [==============================] - 0s 2ms/step - loss: 0.3428 - accuracy: 0.8518\n",
            "Epoch 9/100\n",
            "112/112 [==============================] - 0s 2ms/step - loss: 0.3411 - accuracy: 0.8524\n",
            "Epoch 10/100\n",
            "112/112 [==============================] - 0s 2ms/step - loss: 0.3396 - accuracy: 0.8530\n",
            "Epoch 11/100\n",
            "112/112 [==============================] - 0s 2ms/step - loss: 0.3384 - accuracy: 0.8534\n",
            "Epoch 12/100\n",
            "112/112 [==============================] - 0s 2ms/step - loss: 0.3375 - accuracy: 0.8536\n",
            "Epoch 13/100\n",
            "112/112 [==============================] - 0s 2ms/step - loss: 0.3366 - accuracy: 0.8538\n",
            "Epoch 14/100\n",
            "112/112 [==============================] - 0s 2ms/step - loss: 0.3359 - accuracy: 0.8540\n",
            "Epoch 15/100\n",
            "112/112 [==============================] - 0s 2ms/step - loss: 0.3353 - accuracy: 0.8545\n",
            "Epoch 16/100\n",
            "112/112 [==============================] - 0s 2ms/step - loss: 0.3346 - accuracy: 0.8545\n",
            "Epoch 17/100\n",
            "112/112 [==============================] - 0s 2ms/step - loss: 0.3340 - accuracy: 0.8549\n",
            "Epoch 18/100\n",
            "112/112 [==============================] - 0s 2ms/step - loss: 0.3335 - accuracy: 0.8547\n",
            "Epoch 19/100\n",
            "112/112 [==============================] - 0s 2ms/step - loss: 0.3330 - accuracy: 0.8550\n",
            "Epoch 20/100\n",
            "112/112 [==============================] - 0s 2ms/step - loss: 0.3325 - accuracy: 0.8551\n",
            "Epoch 21/100\n",
            "112/112 [==============================] - 0s 2ms/step - loss: 0.3320 - accuracy: 0.8557\n",
            "Epoch 22/100\n",
            "112/112 [==============================] - 0s 2ms/step - loss: 0.3316 - accuracy: 0.8562\n",
            "Epoch 23/100\n",
            "112/112 [==============================] - 0s 2ms/step - loss: 0.3312 - accuracy: 0.8559\n",
            "Epoch 24/100\n",
            "112/112 [==============================] - 0s 2ms/step - loss: 0.3308 - accuracy: 0.8565\n",
            "Epoch 25/100\n",
            "112/112 [==============================] - 0s 2ms/step - loss: 0.3304 - accuracy: 0.8563\n",
            "Epoch 26/100\n",
            "112/112 [==============================] - 0s 2ms/step - loss: 0.3301 - accuracy: 0.8566\n",
            "Epoch 27/100\n",
            "112/112 [==============================] - 0s 2ms/step - loss: 0.3298 - accuracy: 0.8565\n",
            "Epoch 28/100\n",
            "112/112 [==============================] - 0s 2ms/step - loss: 0.3295 - accuracy: 0.8565\n",
            "Epoch 29/100\n",
            "112/112 [==============================] - 0s 2ms/step - loss: 0.3292 - accuracy: 0.8569\n",
            "Epoch 30/100\n",
            "112/112 [==============================] - 0s 2ms/step - loss: 0.3288 - accuracy: 0.8571\n",
            "Epoch 31/100\n",
            "112/112 [==============================] - 0s 2ms/step - loss: 0.3286 - accuracy: 0.8573\n",
            "Epoch 32/100\n",
            "112/112 [==============================] - 0s 2ms/step - loss: 0.3282 - accuracy: 0.8578\n",
            "Epoch 33/100\n",
            "112/112 [==============================] - 0s 2ms/step - loss: 0.3279 - accuracy: 0.8581\n",
            "Epoch 34/100\n",
            "112/112 [==============================] - 0s 2ms/step - loss: 0.3278 - accuracy: 0.8578\n",
            "Epoch 35/100\n",
            "112/112 [==============================] - 0s 2ms/step - loss: 0.3274 - accuracy: 0.8578\n",
            "Epoch 36/100\n",
            "112/112 [==============================] - 0s 2ms/step - loss: 0.3273 - accuracy: 0.8584\n",
            "Epoch 37/100\n",
            "112/112 [==============================] - 0s 2ms/step - loss: 0.3269 - accuracy: 0.8581\n",
            "Epoch 38/100\n",
            "112/112 [==============================] - 0s 2ms/step - loss: 0.3270 - accuracy: 0.8587\n",
            "Epoch 39/100\n",
            "112/112 [==============================] - 0s 2ms/step - loss: 0.3267 - accuracy: 0.8587\n",
            "Epoch 40/100\n",
            "112/112 [==============================] - 0s 2ms/step - loss: 0.3265 - accuracy: 0.8587\n",
            "Epoch 41/100\n",
            "112/112 [==============================] - 0s 2ms/step - loss: 0.3263 - accuracy: 0.8588\n",
            "Epoch 42/100\n",
            "112/112 [==============================] - 0s 2ms/step - loss: 0.3262 - accuracy: 0.8586\n",
            "Epoch 43/100\n",
            "112/112 [==============================] - 0s 2ms/step - loss: 0.3259 - accuracy: 0.8590\n",
            "Epoch 44/100\n",
            "112/112 [==============================] - 0s 2ms/step - loss: 0.3259 - accuracy: 0.8585\n",
            "Epoch 45/100\n",
            "112/112 [==============================] - 0s 2ms/step - loss: 0.3256 - accuracy: 0.8593\n",
            "Epoch 46/100\n",
            "112/112 [==============================] - 0s 2ms/step - loss: 0.3254 - accuracy: 0.8592\n",
            "Epoch 47/100\n",
            "112/112 [==============================] - 0s 2ms/step - loss: 0.3253 - accuracy: 0.8588\n",
            "Epoch 48/100\n",
            "112/112 [==============================] - 0s 2ms/step - loss: 0.3252 - accuracy: 0.8594\n",
            "Epoch 49/100\n",
            "112/112 [==============================] - 0s 2ms/step - loss: 0.3251 - accuracy: 0.8591\n",
            "Epoch 50/100\n",
            "112/112 [==============================] - 0s 2ms/step - loss: 0.3251 - accuracy: 0.8596\n",
            "Epoch 51/100\n",
            "112/112 [==============================] - 0s 2ms/step - loss: 0.3246 - accuracy: 0.8590\n",
            "Epoch 52/100\n",
            "112/112 [==============================] - 0s 2ms/step - loss: 0.3247 - accuracy: 0.8595\n",
            "Epoch 53/100\n",
            "112/112 [==============================] - 0s 2ms/step - loss: 0.3244 - accuracy: 0.8595\n",
            "Epoch 54/100\n",
            "112/112 [==============================] - 0s 2ms/step - loss: 0.3243 - accuracy: 0.8595\n",
            "Epoch 55/100\n",
            "112/112 [==============================] - 0s 2ms/step - loss: 0.3244 - accuracy: 0.8595\n",
            "Epoch 56/100\n",
            "112/112 [==============================] - 0s 2ms/step - loss: 0.3241 - accuracy: 0.8598\n",
            "Epoch 57/100\n",
            "112/112 [==============================] - 0s 2ms/step - loss: 0.3240 - accuracy: 0.8596\n",
            "Epoch 58/100\n",
            "112/112 [==============================] - 0s 2ms/step - loss: 0.3238 - accuracy: 0.8595\n",
            "Epoch 59/100\n",
            "112/112 [==============================] - 0s 2ms/step - loss: 0.3238 - accuracy: 0.8596\n",
            "Epoch 60/100\n",
            "112/112 [==============================] - 0s 2ms/step - loss: 0.3237 - accuracy: 0.8596\n",
            "Epoch 61/100\n",
            "112/112 [==============================] - 0s 2ms/step - loss: 0.3235 - accuracy: 0.8596\n",
            "Epoch 62/100\n",
            "112/112 [==============================] - 0s 2ms/step - loss: 0.3236 - accuracy: 0.8599\n",
            "Epoch 63/100\n",
            "112/112 [==============================] - 0s 2ms/step - loss: 0.3234 - accuracy: 0.8598\n",
            "Epoch 64/100\n",
            "112/112 [==============================] - 0s 2ms/step - loss: 0.3234 - accuracy: 0.8603\n",
            "Epoch 65/100\n",
            "112/112 [==============================] - 0s 2ms/step - loss: 0.3232 - accuracy: 0.8600\n",
            "Epoch 66/100\n",
            "112/112 [==============================] - 0s 2ms/step - loss: 0.3231 - accuracy: 0.8596\n",
            "Epoch 67/100\n",
            "112/112 [==============================] - 0s 2ms/step - loss: 0.3230 - accuracy: 0.8597\n",
            "Epoch 68/100\n",
            "112/112 [==============================] - 0s 2ms/step - loss: 0.3230 - accuracy: 0.8598\n",
            "Epoch 69/100\n",
            "112/112 [==============================] - 0s 2ms/step - loss: 0.3228 - accuracy: 0.8602\n",
            "Epoch 70/100\n",
            "112/112 [==============================] - 0s 2ms/step - loss: 0.3228 - accuracy: 0.8600\n",
            "Epoch 71/100\n",
            "112/112 [==============================] - 0s 2ms/step - loss: 0.3228 - accuracy: 0.8595\n",
            "Epoch 72/100\n",
            "112/112 [==============================] - 0s 2ms/step - loss: 0.3226 - accuracy: 0.8602\n",
            "Epoch 73/100\n",
            "112/112 [==============================] - 0s 2ms/step - loss: 0.3225 - accuracy: 0.8604\n",
            "Epoch 74/100\n",
            "112/112 [==============================] - 0s 2ms/step - loss: 0.3223 - accuracy: 0.8598\n",
            "Epoch 75/100\n",
            "112/112 [==============================] - 0s 2ms/step - loss: 0.3225 - accuracy: 0.8599\n",
            "Epoch 76/100\n",
            "112/112 [==============================] - 0s 2ms/step - loss: 0.3223 - accuracy: 0.8600\n",
            "Epoch 77/100\n",
            "112/112 [==============================] - 0s 2ms/step - loss: 0.3222 - accuracy: 0.8603\n",
            "Epoch 78/100\n",
            "112/112 [==============================] - 0s 2ms/step - loss: 0.3221 - accuracy: 0.8604\n",
            "Epoch 79/100\n",
            "112/112 [==============================] - 0s 2ms/step - loss: 0.3220 - accuracy: 0.8602\n",
            "Epoch 80/100\n",
            "112/112 [==============================] - 0s 2ms/step - loss: 0.3221 - accuracy: 0.8603\n",
            "Epoch 81/100\n",
            "112/112 [==============================] - 0s 2ms/step - loss: 0.3219 - accuracy: 0.8606\n",
            "Epoch 82/100\n",
            "112/112 [==============================] - 0s 2ms/step - loss: 0.3219 - accuracy: 0.8600\n",
            "Epoch 83/100\n",
            "112/112 [==============================] - 0s 2ms/step - loss: 0.3218 - accuracy: 0.8600\n",
            "Epoch 84/100\n",
            "112/112 [==============================] - 0s 2ms/step - loss: 0.3217 - accuracy: 0.8599\n",
            "Epoch 85/100\n",
            "112/112 [==============================] - 0s 2ms/step - loss: 0.3215 - accuracy: 0.8601\n",
            "Epoch 86/100\n",
            "112/112 [==============================] - 0s 2ms/step - loss: 0.3215 - accuracy: 0.8606\n",
            "Epoch 87/100\n",
            "112/112 [==============================] - 0s 2ms/step - loss: 0.3214 - accuracy: 0.8606\n",
            "Epoch 88/100\n",
            "112/112 [==============================] - 0s 2ms/step - loss: 0.3212 - accuracy: 0.8605\n",
            "Epoch 89/100\n",
            "112/112 [==============================] - 0s 2ms/step - loss: 0.3213 - accuracy: 0.8604\n",
            "Epoch 90/100\n",
            "112/112 [==============================] - 0s 2ms/step - loss: 0.3213 - accuracy: 0.8606\n",
            "Epoch 91/100\n",
            "112/112 [==============================] - 0s 2ms/step - loss: 0.3211 - accuracy: 0.8607\n",
            "Epoch 92/100\n",
            "112/112 [==============================] - 0s 2ms/step - loss: 0.3214 - accuracy: 0.8607\n",
            "Epoch 93/100\n",
            "112/112 [==============================] - 0s 2ms/step - loss: 0.3211 - accuracy: 0.8608\n",
            "Epoch 94/100\n",
            "112/112 [==============================] - 0s 2ms/step - loss: 0.3210 - accuracy: 0.8606\n",
            "Epoch 95/100\n",
            "112/112 [==============================] - 0s 2ms/step - loss: 0.3211 - accuracy: 0.8607\n",
            "Epoch 96/100\n",
            "112/112 [==============================] - 0s 2ms/step - loss: 0.3210 - accuracy: 0.8610\n",
            "Epoch 97/100\n",
            "112/112 [==============================] - 0s 2ms/step - loss: 0.3208 - accuracy: 0.8609\n",
            "Epoch 98/100\n",
            "112/112 [==============================] - 0s 2ms/step - loss: 0.3209 - accuracy: 0.8608\n",
            "Epoch 99/100\n",
            "112/112 [==============================] - 0s 2ms/step - loss: 0.3208 - accuracy: 0.8608\n",
            "Epoch 100/100\n",
            "112/112 [==============================] - 0s 2ms/step - loss: 0.3207 - accuracy: 0.8604\n",
            "28/28 [==============================] - 0s 1ms/step - loss: 0.3333 - accuracy: 0.8546\n",
            "Model: \"weather_guru\"\n",
            "_________________________________________________________________\n",
            "Layer (type)                 Output Shape              Param #   \n",
            "=================================================================\n",
            "dense_1 (Dense)              (None, 27)                729       \n",
            "_________________________________________________________________\n",
            "dense_2 (Dense)              (None, 7)                 196       \n",
            "_________________________________________________________________\n",
            "output (Dense)               (None, 1)                 8         \n",
            "=================================================================\n",
            "Total params: 933\n",
            "Trainable params: 933\n",
            "Non-trainable params: 0\n",
            "_________________________________________________________________\n",
            "None\n",
            "Epoch 1/100\n",
            "112/112 [==============================] - 1s 2ms/step - loss: 0.5155 - accuracy: 0.7481\n",
            "Epoch 2/100\n",
            "112/112 [==============================] - 0s 2ms/step - loss: 0.3959 - accuracy: 0.8257\n",
            "Epoch 3/100\n",
            "112/112 [==============================] - 0s 2ms/step - loss: 0.3738 - accuracy: 0.8354\n",
            "Epoch 4/100\n",
            "112/112 [==============================] - 0s 2ms/step - loss: 0.3620 - accuracy: 0.8417\n",
            "Epoch 5/100\n",
            "112/112 [==============================] - 0s 2ms/step - loss: 0.3548 - accuracy: 0.8457\n",
            "Epoch 6/100\n",
            "112/112 [==============================] - 0s 2ms/step - loss: 0.3503 - accuracy: 0.8476\n",
            "Epoch 7/100\n",
            "112/112 [==============================] - 0s 2ms/step - loss: 0.3472 - accuracy: 0.8493\n",
            "Epoch 8/100\n",
            "112/112 [==============================] - 0s 2ms/step - loss: 0.3449 - accuracy: 0.8503\n",
            "Epoch 9/100\n",
            "112/112 [==============================] - 0s 2ms/step - loss: 0.3428 - accuracy: 0.8512\n",
            "Epoch 10/100\n",
            "112/112 [==============================] - 0s 2ms/step - loss: 0.3413 - accuracy: 0.8519\n",
            "Epoch 11/100\n",
            "112/112 [==============================] - 0s 2ms/step - loss: 0.3400 - accuracy: 0.8528\n",
            "Epoch 12/100\n",
            "112/112 [==============================] - 0s 2ms/step - loss: 0.3389 - accuracy: 0.8535\n",
            "Epoch 13/100\n",
            "112/112 [==============================] - 0s 2ms/step - loss: 0.3379 - accuracy: 0.8542\n",
            "Epoch 14/100\n",
            "112/112 [==============================] - 0s 2ms/step - loss: 0.3371 - accuracy: 0.8542\n",
            "Epoch 15/100\n",
            "112/112 [==============================] - 0s 2ms/step - loss: 0.3364 - accuracy: 0.8551\n",
            "Epoch 16/100\n",
            "112/112 [==============================] - 0s 2ms/step - loss: 0.3358 - accuracy: 0.8555\n",
            "Epoch 17/100\n",
            "112/112 [==============================] - 0s 2ms/step - loss: 0.3352 - accuracy: 0.8559\n",
            "Epoch 18/100\n",
            "112/112 [==============================] - 0s 2ms/step - loss: 0.3346 - accuracy: 0.8564\n",
            "Epoch 19/100\n",
            "112/112 [==============================] - 0s 2ms/step - loss: 0.3342 - accuracy: 0.8560\n",
            "Epoch 20/100\n",
            "112/112 [==============================] - 0s 2ms/step - loss: 0.3337 - accuracy: 0.8562\n",
            "Epoch 21/100\n",
            "112/112 [==============================] - 0s 2ms/step - loss: 0.3333 - accuracy: 0.8564\n",
            "Epoch 22/100\n",
            "112/112 [==============================] - 0s 2ms/step - loss: 0.3330 - accuracy: 0.8563\n",
            "Epoch 23/100\n",
            "112/112 [==============================] - 0s 2ms/step - loss: 0.3325 - accuracy: 0.8570\n",
            "Epoch 24/100\n",
            "112/112 [==============================] - 0s 2ms/step - loss: 0.3321 - accuracy: 0.8570\n",
            "Epoch 25/100\n",
            "112/112 [==============================] - 0s 2ms/step - loss: 0.3318 - accuracy: 0.8572\n",
            "Epoch 26/100\n",
            "112/112 [==============================] - 0s 2ms/step - loss: 0.3314 - accuracy: 0.8575\n",
            "Epoch 27/100\n",
            "112/112 [==============================] - 0s 2ms/step - loss: 0.3311 - accuracy: 0.8574\n",
            "Epoch 28/100\n",
            "112/112 [==============================] - 0s 2ms/step - loss: 0.3309 - accuracy: 0.8575\n",
            "Epoch 29/100\n",
            "112/112 [==============================] - 0s 2ms/step - loss: 0.3305 - accuracy: 0.8577\n",
            "Epoch 30/100\n",
            "112/112 [==============================] - 0s 2ms/step - loss: 0.3304 - accuracy: 0.8582\n",
            "Epoch 31/100\n",
            "112/112 [==============================] - 0s 2ms/step - loss: 0.3300 - accuracy: 0.8580\n",
            "Epoch 32/100\n",
            "112/112 [==============================] - 0s 2ms/step - loss: 0.3297 - accuracy: 0.8582\n",
            "Epoch 33/100\n",
            "112/112 [==============================] - 0s 2ms/step - loss: 0.3295 - accuracy: 0.8585\n",
            "Epoch 34/100\n",
            "112/112 [==============================] - 0s 2ms/step - loss: 0.3293 - accuracy: 0.8582\n",
            "Epoch 35/100\n",
            "112/112 [==============================] - 0s 2ms/step - loss: 0.3290 - accuracy: 0.8587\n",
            "Epoch 36/100\n",
            "112/112 [==============================] - 0s 2ms/step - loss: 0.3288 - accuracy: 0.8587\n",
            "Epoch 37/100\n",
            "112/112 [==============================] - 0s 2ms/step - loss: 0.3285 - accuracy: 0.8587\n",
            "Epoch 38/100\n",
            "112/112 [==============================] - 0s 2ms/step - loss: 0.3282 - accuracy: 0.8586\n",
            "Epoch 39/100\n",
            "112/112 [==============================] - 0s 2ms/step - loss: 0.3281 - accuracy: 0.8586\n",
            "Epoch 40/100\n",
            "112/112 [==============================] - 0s 2ms/step - loss: 0.3277 - accuracy: 0.8587\n",
            "Epoch 41/100\n",
            "112/112 [==============================] - 0s 2ms/step - loss: 0.3277 - accuracy: 0.8589\n",
            "Epoch 42/100\n",
            "112/112 [==============================] - 0s 2ms/step - loss: 0.3275 - accuracy: 0.8592\n",
            "Epoch 43/100\n",
            "112/112 [==============================] - 0s 2ms/step - loss: 0.3272 - accuracy: 0.8594\n",
            "Epoch 44/100\n",
            "112/112 [==============================] - 0s 2ms/step - loss: 0.3270 - accuracy: 0.8594\n",
            "Epoch 45/100\n",
            "112/112 [==============================] - 0s 2ms/step - loss: 0.3269 - accuracy: 0.8592\n",
            "Epoch 46/100\n",
            "112/112 [==============================] - 0s 2ms/step - loss: 0.3267 - accuracy: 0.8592\n",
            "Epoch 47/100\n",
            "112/112 [==============================] - 0s 2ms/step - loss: 0.3265 - accuracy: 0.8595\n",
            "Epoch 48/100\n",
            "112/112 [==============================] - 0s 2ms/step - loss: 0.3265 - accuracy: 0.8600\n",
            "Epoch 49/100\n",
            "112/112 [==============================] - 0s 2ms/step - loss: 0.3261 - accuracy: 0.8597\n",
            "Epoch 50/100\n",
            "112/112 [==============================] - 0s 2ms/step - loss: 0.3258 - accuracy: 0.8595\n",
            "Epoch 51/100\n",
            "112/112 [==============================] - 0s 2ms/step - loss: 0.3257 - accuracy: 0.8597\n",
            "Epoch 52/100\n",
            "112/112 [==============================] - 0s 2ms/step - loss: 0.3255 - accuracy: 0.8599\n",
            "Epoch 53/100\n",
            "112/112 [==============================] - 0s 2ms/step - loss: 0.3254 - accuracy: 0.8600\n",
            "Epoch 54/100\n",
            "112/112 [==============================] - 0s 2ms/step - loss: 0.3253 - accuracy: 0.8604\n",
            "Epoch 55/100\n",
            "112/112 [==============================] - 0s 2ms/step - loss: 0.3251 - accuracy: 0.8596\n",
            "Epoch 56/100\n",
            "112/112 [==============================] - 0s 2ms/step - loss: 0.3249 - accuracy: 0.8602\n",
            "Epoch 57/100\n",
            "112/112 [==============================] - 0s 2ms/step - loss: 0.3247 - accuracy: 0.8600\n",
            "Epoch 58/100\n",
            "112/112 [==============================] - 0s 2ms/step - loss: 0.3244 - accuracy: 0.8604\n",
            "Epoch 59/100\n",
            "112/112 [==============================] - 0s 2ms/step - loss: 0.3243 - accuracy: 0.8603\n",
            "Epoch 60/100\n",
            "112/112 [==============================] - 0s 2ms/step - loss: 0.3242 - accuracy: 0.8604\n",
            "Epoch 61/100\n",
            "112/112 [==============================] - 0s 2ms/step - loss: 0.3241 - accuracy: 0.8601\n",
            "Epoch 62/100\n",
            "112/112 [==============================] - 0s 2ms/step - loss: 0.3237 - accuracy: 0.8607\n",
            "Epoch 63/100\n",
            "112/112 [==============================] - 0s 2ms/step - loss: 0.3238 - accuracy: 0.8604\n",
            "Epoch 64/100\n",
            "112/112 [==============================] - 0s 2ms/step - loss: 0.3236 - accuracy: 0.8608\n",
            "Epoch 65/100\n",
            "112/112 [==============================] - 0s 2ms/step - loss: 0.3235 - accuracy: 0.8607\n",
            "Epoch 66/100\n",
            "112/112 [==============================] - 0s 2ms/step - loss: 0.3234 - accuracy: 0.8610\n",
            "Epoch 67/100\n",
            "112/112 [==============================] - 0s 2ms/step - loss: 0.3232 - accuracy: 0.8612\n",
            "Epoch 68/100\n",
            "112/112 [==============================] - 0s 2ms/step - loss: 0.3232 - accuracy: 0.8608\n",
            "Epoch 69/100\n",
            "112/112 [==============================] - 0s 2ms/step - loss: 0.3230 - accuracy: 0.8610\n",
            "Epoch 70/100\n",
            "112/112 [==============================] - 0s 2ms/step - loss: 0.3229 - accuracy: 0.8603\n",
            "Epoch 71/100\n",
            "112/112 [==============================] - 0s 2ms/step - loss: 0.3227 - accuracy: 0.8608\n",
            "Epoch 72/100\n",
            "112/112 [==============================] - 0s 2ms/step - loss: 0.3226 - accuracy: 0.8607\n",
            "Epoch 73/100\n",
            "112/112 [==============================] - 0s 2ms/step - loss: 0.3226 - accuracy: 0.8607\n",
            "Epoch 74/100\n",
            "112/112 [==============================] - 0s 2ms/step - loss: 0.3225 - accuracy: 0.8606\n",
            "Epoch 75/100\n",
            "112/112 [==============================] - 0s 2ms/step - loss: 0.3221 - accuracy: 0.8615\n",
            "Epoch 76/100\n",
            "112/112 [==============================] - 0s 2ms/step - loss: 0.3221 - accuracy: 0.8616\n",
            "Epoch 77/100\n",
            "112/112 [==============================] - 0s 2ms/step - loss: 0.3220 - accuracy: 0.8613\n",
            "Epoch 78/100\n",
            "112/112 [==============================] - 0s 2ms/step - loss: 0.3219 - accuracy: 0.8617\n",
            "Epoch 79/100\n",
            "112/112 [==============================] - 0s 2ms/step - loss: 0.3218 - accuracy: 0.8612\n",
            "Epoch 80/100\n",
            "112/112 [==============================] - 0s 2ms/step - loss: 0.3217 - accuracy: 0.8617\n",
            "Epoch 81/100\n",
            "112/112 [==============================] - 0s 2ms/step - loss: 0.3217 - accuracy: 0.8615\n",
            "Epoch 82/100\n",
            "112/112 [==============================] - 0s 2ms/step - loss: 0.3216 - accuracy: 0.8614\n",
            "Epoch 83/100\n",
            "112/112 [==============================] - 0s 2ms/step - loss: 0.3216 - accuracy: 0.8614\n",
            "Epoch 84/100\n",
            "112/112 [==============================] - 0s 2ms/step - loss: 0.3213 - accuracy: 0.8617\n",
            "Epoch 85/100\n",
            "112/112 [==============================] - 0s 2ms/step - loss: 0.3213 - accuracy: 0.8618\n",
            "Epoch 86/100\n",
            "112/112 [==============================] - 0s 2ms/step - loss: 0.3212 - accuracy: 0.8618\n",
            "Epoch 87/100\n",
            "112/112 [==============================] - 0s 2ms/step - loss: 0.3210 - accuracy: 0.8614\n",
            "Epoch 88/100\n",
            "112/112 [==============================] - 0s 2ms/step - loss: 0.3212 - accuracy: 0.8617\n",
            "Epoch 89/100\n",
            "112/112 [==============================] - 0s 2ms/step - loss: 0.3208 - accuracy: 0.8617\n",
            "Epoch 90/100\n",
            "112/112 [==============================] - 0s 2ms/step - loss: 0.3208 - accuracy: 0.8619\n",
            "Epoch 91/100\n",
            "112/112 [==============================] - 0s 2ms/step - loss: 0.3209 - accuracy: 0.8619\n",
            "Epoch 92/100\n",
            "112/112 [==============================] - 0s 2ms/step - loss: 0.3206 - accuracy: 0.8623\n",
            "Epoch 93/100\n",
            "112/112 [==============================] - 0s 2ms/step - loss: 0.3206 - accuracy: 0.8619\n",
            "Epoch 94/100\n",
            "112/112 [==============================] - 0s 2ms/step - loss: 0.3204 - accuracy: 0.8620\n",
            "Epoch 95/100\n",
            "112/112 [==============================] - 0s 2ms/step - loss: 0.3204 - accuracy: 0.8624\n",
            "Epoch 96/100\n",
            "112/112 [==============================] - 0s 2ms/step - loss: 0.3205 - accuracy: 0.8614\n",
            "Epoch 97/100\n",
            "112/112 [==============================] - 0s 2ms/step - loss: 0.3206 - accuracy: 0.8617\n",
            "Epoch 98/100\n",
            "112/112 [==============================] - 0s 2ms/step - loss: 0.3203 - accuracy: 0.8622\n",
            "Epoch 99/100\n",
            "112/112 [==============================] - 0s 2ms/step - loss: 0.3202 - accuracy: 0.8618\n",
            "Epoch 100/100\n",
            "112/112 [==============================] - 0s 2ms/step - loss: 0.3201 - accuracy: 0.8621\n",
            "28/28 [==============================] - 0s 1ms/step - loss: 0.3301 - accuracy: 0.8565\n",
            "CPU times: user 2min, sys: 8.45 s, total: 2min 9s\n",
            "Wall time: 2min 3s\n"
          ],
          "name": "stdout"
        }
      ]
    },
    {
      "cell_type": "markdown",
      "metadata": {
        "id": "9nwFWPVzNnA7"
      },
      "source": [
        "## Final Results"
      ]
    },
    {
      "cell_type": "code",
      "metadata": {
        "colab": {
          "base_uri": "https://localhost:8080/",
          "height": 35
        },
        "id": "D6Xb7NorNxke",
        "outputId": "a425c4c1-a6ca-4406-dbed-d149c00f7612"
      },
      "source": [
        "\"Accuracy: %.2f%% (%.2f%%)\" % (results.mean()*100, results.std()*100)"
      ],
      "execution_count": 29,
      "outputs": [
        {
          "output_type": "execute_result",
          "data": {
            "application/vnd.google.colaboratory.intrinsic+json": {
              "type": "string"
            },
            "text/plain": [
              "'Accuracy: 85.66% (0.12%)'"
            ]
          },
          "metadata": {
            "tags": []
          },
          "execution_count": 29
        }
      ]
    },
    {
      "cell_type": "markdown",
      "metadata": {
        "id": "Qc4tmQcUTX5_"
      },
      "source": [
        "This is the final **accuracy result** of the model, after the Cross Validation Score. \n",
        "\n",
        "If necessary, we can change the model topology or configurations to try better accuracy scores."
      ]
    }
  ]
}