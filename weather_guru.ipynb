{
  "nbformat": 4,
  "nbformat_minor": 0,
  "metadata": {
    "colab": {
      "name": "weather-guru.ipynb",
      "provenance": [],
      "toc_visible": true,
      "authorship_tag": "ABX9TyOsrJBKQaqEdZgL7kx3PiZY",
      "include_colab_link": true
    },
    "kernelspec": {
      "name": "python3",
      "display_name": "Python 3"
    },
    "language_info": {
      "name": "python"
    }
  },
  "cells": [
    {
      "cell_type": "markdown",
      "metadata": {
        "id": "view-in-github",
        "colab_type": "text"
      },
      "source": [
        "<a href=\"https://colab.research.google.com/github/marlonrcfranco/weather-guru/blob/main/weather_guru.ipynb\" target=\"_parent\"><img src=\"https://colab.research.google.com/assets/colab-badge.svg\" alt=\"Open In Colab\"/></a>"
      ]
    },
    {
      "cell_type": "code",
      "metadata": {
        "id": "E7xTHCMocuFH"
      },
      "source": [
        ""
      ],
      "execution_count": null,
      "outputs": []
    },
    {
      "cell_type": "markdown",
      "metadata": {
        "id": "RJ0V8yZcc1g9"
      },
      "source": [
        "# weather-guru\n",
        "Will it rain tomorrow?\n",
        "\n",
        "\n",
        "## Goal 🌦\n",
        "Implement an algorithm that performs **next day rain prediction** by training machine learning models on the target variable `RainTomorrow`.\n",
        "\n",
        "\n",
        "\n",
        "## Dataset 📂\n",
        "The dataset contains about **10 years of daily weather observations** from various locations in **Australia**.\n",
        "\n",
        "**`RainTomorrow`** is the target variable to be  predicted. It means - it rained the next day, this column is `Yes` if the rain that day was 1mm or more.\n",
        "\n",
        "\n",
        "\n",
        "\n",
        "\n"
      ]
    }
  ]
}