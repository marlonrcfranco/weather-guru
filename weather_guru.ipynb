{
  "nbformat": 4,
  "nbformat_minor": 0,
  "metadata": {
    "colab": {
      "name": "weather-guru.ipynb",
      "provenance": [],
      "collapsed_sections": [],
      "toc_visible": true,
      "authorship_tag": "ABX9TyOtvkEaO1hFp/JHyYmAo0Ao",
      "include_colab_link": true
    },
    "kernelspec": {
      "name": "python3",
      "display_name": "Python 3"
    },
    "language_info": {
      "name": "python"
    }
  },
  "cells": [
    {
      "cell_type": "markdown",
      "metadata": {
        "id": "view-in-github",
        "colab_type": "text"
      },
      "source": [
        "<a href=\"https://colab.research.google.com/github/marlonrcfranco/weather-guru/blob/main/weather_guru.ipynb\" target=\"_parent\"><img src=\"https://colab.research.google.com/assets/colab-badge.svg\" alt=\"Open In Colab\"/></a>"
      ]
    },
    {
      "cell_type": "markdown",
      "metadata": {
        "id": "RJ0V8yZcc1g9"
      },
      "source": [
        "# weather-guru\n",
        "## Will it rain tomorrow?\n",
        "\n",
        "\n",
        "### Goal 🌦\n",
        "Implement an algorithm that performs **next day rain prediction** by training machine learning models on the target variable `RainTomorrow`.\n",
        "\n",
        "\n",
        "\n",
        "### Dataset 📂\n",
        "The dataset contains about **10 years of daily weather observations** from various locations in **Australia**.\n",
        "\n",
        "**`RainTomorrow`** is the target variable to be  predicted. It means - it rained the next day, this column is `Yes` if the rain that day was 1mm or more.\n",
        "\n",
        "\n",
        "\n",
        "\n",
        "\n"
      ]
    },
    {
      "cell_type": "markdown",
      "metadata": {
        "id": "F80l3nZwiSEj"
      },
      "source": [
        "## Imports & Defines"
      ]
    },
    {
      "cell_type": "code",
      "metadata": {
        "id": "hpvWyhLNimyM",
        "colab": {
          "base_uri": "https://localhost:8080/"
        },
        "outputId": "48f7193d-cf67-4650-9dde-3775c0297203"
      },
      "source": [
        "%matplotlib inline\n",
        "import re\n",
        "import pandas as pd\n",
        "import numpy as np\n",
        "import matplotlib.pyplot as plt\n",
        "import matplotlib.ticker as mticker\n",
        "import matplotlib.patches as mpatches\n",
        "from sklearn.preprocessing import MinMaxScaler\n",
        "from sklearn.preprocessing import LabelEncoder\n",
        "from sklearn.metrics import mean_squared_error, accuracy_score\n",
        "from tensorflow.keras.layers import LSTM, Dense, Input, TimeDistributed, Masking\n",
        "from tensorflow.keras.models import Model, Sequential, model_from_json\n",
        "from tensorflow.keras.optimizers import Adam, RMSprop\n",
        "from tensorflow.keras.utils import plot_model\n",
        "from tensorflow.python.keras.callbacks import EarlyStopping, ModelCheckpoint, TensorBoard, ReduceLROnPlateau\n",
        "\n",
        "from geopy.geocoders import Nominatim\n",
        "from geopy.extra.rate_limiter import RateLimiter\n",
        "from functools import partial\n",
        "import plotly.express as px\n",
        "!pip install portolan\n",
        "import portolan\n",
        "\n",
        "DATASET_URL = \"https://raw.githubusercontent.com/marlonrcfranco/weather-guru/main/data/weatherAUS.csv\"\n",
        "EPOCHS = 100\n",
        "BATCH_SIZE = 77\n",
        "TRAIN_SPLIT = 0.87\n",
        "LOSS_FUNCTION = 'mse' # 'mse': Mean Square Error, 'mae': Mean Absolute Error, 'binary_crossentropy'\n",
        "LEARNING_RATE = 0.001 #0.001\n",
        "NEURONS = 128\n"
      ],
      "execution_count": 1,
      "outputs": [
        {
          "output_type": "stream",
          "text": [
            "Requirement already satisfied: portolan in /usr/local/lib/python3.7/dist-packages (1.0.1)\n"
          ],
          "name": "stdout"
        }
      ]
    },
    {
      "cell_type": "markdown",
      "metadata": {
        "id": "XhowXUCfjM5r"
      },
      "source": [
        "## Fetch Data"
      ]
    },
    {
      "cell_type": "code",
      "metadata": {
        "id": "eqPoSDMxjYH5"
      },
      "source": [
        "weather_df = pd.read_csv(DATASET_URL,parse_dates=True)\n",
        "# Dataset is now stored in a Pandas Dataframe"
      ],
      "execution_count": 2,
      "outputs": []
    },
    {
      "cell_type": "markdown",
      "metadata": {
        "id": "G5Nz4VmGkvvi"
      },
      "source": [
        "## Data Preprocessing"
      ]
    },
    {
      "cell_type": "markdown",
      "metadata": {
        "id": "-irldH4cnZHq"
      },
      "source": [
        "### Dataframe Info"
      ]
    },
    {
      "cell_type": "code",
      "metadata": {
        "colab": {
          "base_uri": "https://localhost:8080/"
        },
        "id": "U7GpWG_lk07u",
        "outputId": "30aaaf76-fb87-4557-a4ee-5931f2f81178"
      },
      "source": [
        "weather_df.info()\n",
        "# 145460 rows, 23 columns"
      ],
      "execution_count": 3,
      "outputs": [
        {
          "output_type": "stream",
          "text": [
            "<class 'pandas.core.frame.DataFrame'>\n",
            "RangeIndex: 145460 entries, 0 to 145459\n",
            "Data columns (total 23 columns):\n",
            " #   Column         Non-Null Count   Dtype  \n",
            "---  ------         --------------   -----  \n",
            " 0   Date           145460 non-null  object \n",
            " 1   Location       145460 non-null  object \n",
            " 2   MinTemp        143975 non-null  float64\n",
            " 3   MaxTemp        144199 non-null  float64\n",
            " 4   Rainfall       142199 non-null  float64\n",
            " 5   Evaporation    82670 non-null   float64\n",
            " 6   Sunshine       75625 non-null   float64\n",
            " 7   WindGustDir    135134 non-null  object \n",
            " 8   WindGustSpeed  135197 non-null  float64\n",
            " 9   WindDir9am     134894 non-null  object \n",
            " 10  WindDir3pm     141232 non-null  object \n",
            " 11  WindSpeed9am   143693 non-null  float64\n",
            " 12  WindSpeed3pm   142398 non-null  float64\n",
            " 13  Humidity9am    142806 non-null  float64\n",
            " 14  Humidity3pm    140953 non-null  float64\n",
            " 15  Pressure9am    130395 non-null  float64\n",
            " 16  Pressure3pm    130432 non-null  float64\n",
            " 17  Cloud9am       89572 non-null   float64\n",
            " 18  Cloud3pm       86102 non-null   float64\n",
            " 19  Temp9am        143693 non-null  float64\n",
            " 20  Temp3pm        141851 non-null  float64\n",
            " 21  RainToday      142199 non-null  object \n",
            " 22  RainTomorrow   142193 non-null  object \n",
            "dtypes: float64(16), object(7)\n",
            "memory usage: 25.5+ MB\n"
          ],
          "name": "stdout"
        }
      ]
    },
    {
      "cell_type": "markdown",
      "metadata": {
        "id": "XjEPTRAKnKbU"
      },
      "source": [
        "### Sample"
      ]
    },
    {
      "cell_type": "code",
      "metadata": {
        "colab": {
          "base_uri": "https://localhost:8080/",
          "height": 134
        },
        "id": "a30TK-tGmTNA",
        "outputId": "e927f46a-881d-4dca-c583-4aaf1d5cce14"
      },
      "source": [
        "weather_df.sample()"
      ],
      "execution_count": 4,
      "outputs": [
        {
          "output_type": "execute_result",
          "data": {
            "text/html": [
              "<div>\n",
              "<style scoped>\n",
              "    .dataframe tbody tr th:only-of-type {\n",
              "        vertical-align: middle;\n",
              "    }\n",
              "\n",
              "    .dataframe tbody tr th {\n",
              "        vertical-align: top;\n",
              "    }\n",
              "\n",
              "    .dataframe thead th {\n",
              "        text-align: right;\n",
              "    }\n",
              "</style>\n",
              "<table border=\"1\" class=\"dataframe\">\n",
              "  <thead>\n",
              "    <tr style=\"text-align: right;\">\n",
              "      <th></th>\n",
              "      <th>Date</th>\n",
              "      <th>Location</th>\n",
              "      <th>MinTemp</th>\n",
              "      <th>MaxTemp</th>\n",
              "      <th>Rainfall</th>\n",
              "      <th>Evaporation</th>\n",
              "      <th>Sunshine</th>\n",
              "      <th>WindGustDir</th>\n",
              "      <th>WindGustSpeed</th>\n",
              "      <th>WindDir9am</th>\n",
              "      <th>WindDir3pm</th>\n",
              "      <th>WindSpeed9am</th>\n",
              "      <th>WindSpeed3pm</th>\n",
              "      <th>Humidity9am</th>\n",
              "      <th>Humidity3pm</th>\n",
              "      <th>Pressure9am</th>\n",
              "      <th>Pressure3pm</th>\n",
              "      <th>Cloud9am</th>\n",
              "      <th>Cloud3pm</th>\n",
              "      <th>Temp9am</th>\n",
              "      <th>Temp3pm</th>\n",
              "      <th>RainToday</th>\n",
              "      <th>RainTomorrow</th>\n",
              "    </tr>\n",
              "  </thead>\n",
              "  <tbody>\n",
              "    <tr>\n",
              "      <th>34382</th>\n",
              "      <td>2011-06-12</td>\n",
              "      <td>SydneyAirport</td>\n",
              "      <td>11.4</td>\n",
              "      <td>15.5</td>\n",
              "      <td>10.4</td>\n",
              "      <td>4.8</td>\n",
              "      <td>0.3</td>\n",
              "      <td>S</td>\n",
              "      <td>67.0</td>\n",
              "      <td>SSE</td>\n",
              "      <td>S</td>\n",
              "      <td>41.0</td>\n",
              "      <td>46.0</td>\n",
              "      <td>99.0</td>\n",
              "      <td>72.0</td>\n",
              "      <td>1025.5</td>\n",
              "      <td>1023.1</td>\n",
              "      <td>7.0</td>\n",
              "      <td>7.0</td>\n",
              "      <td>12.5</td>\n",
              "      <td>15.2</td>\n",
              "      <td>Yes</td>\n",
              "      <td>Yes</td>\n",
              "    </tr>\n",
              "  </tbody>\n",
              "</table>\n",
              "</div>"
            ],
            "text/plain": [
              "             Date       Location  MinTemp  ...  Temp3pm  RainToday  RainTomorrow\n",
              "34382  2011-06-12  SydneyAirport     11.4  ...     15.2        Yes           Yes\n",
              "\n",
              "[1 rows x 23 columns]"
            ]
          },
          "metadata": {
            "tags": []
          },
          "execution_count": 4
        }
      ]
    },
    {
      "cell_type": "markdown",
      "metadata": {
        "id": "JwFHZtOqvkxU"
      },
      "source": [
        "### Unique values for non-numeric columns"
      ]
    },
    {
      "cell_type": "code",
      "metadata": {
        "colab": {
          "base_uri": "https://localhost:8080/"
        },
        "id": "JLNKQxEOvxBG",
        "outputId": "26b136f5-32a3-400e-bc4a-c22a7df20dab"
      },
      "source": [
        "for col in weather_df:\n",
        "  if not pd.api.types.is_numeric_dtype(weather_df[col]):\n",
        "    print(\"\\n-------\\nColumn: \"+col+\" [\"+str(len(weather_df[col].unique()))+\" unique values]:\\n\")\n",
        "    print(weather_df[col].unique())"
      ],
      "execution_count": 5,
      "outputs": [
        {
          "output_type": "stream",
          "text": [
            "\n",
            "-------\n",
            "Column: Date [3436 unique values]:\n",
            "\n",
            "['2008-12-01' '2008-12-02' '2008-12-03' ... '2008-01-29' '2008-01-30'\n",
            " '2008-01-31']\n",
            "\n",
            "-------\n",
            "Column: Location [49 unique values]:\n",
            "\n",
            "['Albury' 'BadgerysCreek' 'Cobar' 'CoffsHarbour' 'Moree' 'Newcastle'\n",
            " 'NorahHead' 'NorfolkIsland' 'Penrith' 'Richmond' 'Sydney' 'SydneyAirport'\n",
            " 'WaggaWagga' 'Williamtown' 'Wollongong' 'Canberra' 'Tuggeranong'\n",
            " 'MountGinini' 'Ballarat' 'Bendigo' 'Sale' 'MelbourneAirport' 'Melbourne'\n",
            " 'Mildura' 'Nhil' 'Portland' 'Watsonia' 'Dartmoor' 'Brisbane' 'Cairns'\n",
            " 'GoldCoast' 'Townsville' 'Adelaide' 'MountGambier' 'Nuriootpa' 'Woomera'\n",
            " 'Albany' 'Witchcliffe' 'PearceRAAF' 'PerthAirport' 'Perth' 'SalmonGums'\n",
            " 'Walpole' 'Hobart' 'Launceston' 'AliceSprings' 'Darwin' 'Katherine'\n",
            " 'Uluru']\n",
            "\n",
            "-------\n",
            "Column: WindGustDir [17 unique values]:\n",
            "\n",
            "['W' 'WNW' 'WSW' 'NE' 'NNW' 'N' 'NNE' 'SW' nan 'ENE' 'SSE' 'S' 'NW' 'SE'\n",
            " 'ESE' 'E' 'SSW']\n",
            "\n",
            "-------\n",
            "Column: WindDir9am [17 unique values]:\n",
            "\n",
            "['W' 'NNW' 'SE' 'ENE' 'SW' 'SSE' 'S' 'NE' nan 'SSW' 'N' 'WSW' 'ESE' 'E'\n",
            " 'NW' 'WNW' 'NNE']\n",
            "\n",
            "-------\n",
            "Column: WindDir3pm [17 unique values]:\n",
            "\n",
            "['WNW' 'WSW' 'E' 'NW' 'W' 'SSE' 'ESE' 'ENE' 'NNW' 'SSW' 'SW' 'SE' 'N' 'S'\n",
            " 'NNE' nan 'NE']\n",
            "\n",
            "-------\n",
            "Column: RainToday [3 unique values]:\n",
            "\n",
            "['No' 'Yes' nan]\n",
            "\n",
            "-------\n",
            "Column: RainTomorrow [3 unique values]:\n",
            "\n",
            "['No' 'Yes' nan]\n"
          ],
          "name": "stdout"
        }
      ]
    },
    {
      "cell_type": "markdown",
      "metadata": {
        "id": "uNAlhF_nW00m"
      },
      "source": [
        "So there are 3436 days of observation in the dataset."
      ]
    },
    {
      "cell_type": "markdown",
      "metadata": {
        "id": "2QxWYwWkR-1L"
      },
      "source": [
        "### Check for duplicated rows"
      ]
    },
    {
      "cell_type": "code",
      "metadata": {
        "colab": {
          "base_uri": "https://localhost:8080/"
        },
        "id": "UWZFBm81R-O2",
        "outputId": "91fab03e-817e-495b-9e3e-70ee301f9bd3"
      },
      "source": [
        "# Check if exists duplicated rows based on all columns\n",
        "duplicateRowsDF = weather_df[weather_df.duplicated()]\n",
        "if len(duplicateRowsDF)!=0: print(\"Identical rows were found!\")\n",
        "\n",
        "# Check if exists is duplicated rows based on 'Date' column\n",
        "duplicateRowsDF = weather_df[weather_df.duplicated(['Date'])]\n",
        "if len(duplicateRowsDF)!=0: \n",
        "  print(len(duplicateRowsDF),\"rows with the same Date were found.\\n\")\n",
        "\n",
        "# Check if exists is duplicated rows based on 'Date' and 'Location' columns\n",
        "duplicateRowsDF = weather_df[weather_df.duplicated(['Date','Location'])]\n",
        "if len(duplicateRowsDF)!=0: \n",
        "  print(len(duplicateRowsDF),\"rows with the same Date and Location were found.\\n\")"
      ],
      "execution_count": 6,
      "outputs": [
        {
          "output_type": "stream",
          "text": [
            "142024 rows with the same Date were found.\n",
            "\n"
          ],
          "name": "stdout"
        }
      ]
    },
    {
      "cell_type": "markdown",
      "metadata": {
        "id": "6B03O9lBUvjx"
      },
      "source": [
        "### Use Date and Location as indexes\n",
        "\n",
        "There's an unique observation for each day and location in the dataset, so it should be indexed as 'Date' and 'Location'"
      ]
    },
    {
      "cell_type": "code",
      "metadata": {
        "id": "U9DYpnXLVKyo"
      },
      "source": [
        "#weather_df.set_index(keys=['Date','Location'], inplace=True)"
      ],
      "execution_count": 7,
      "outputs": []
    },
    {
      "cell_type": "markdown",
      "metadata": {
        "id": "pE04PyDszMUE"
      },
      "source": [
        "### Convert Data Types"
      ]
    },
    {
      "cell_type": "markdown",
      "metadata": {
        "id": "FOrX2IccWd_a"
      },
      "source": [
        "#### Wind Cardinal directions (string) to Degrees (float)"
      ]
    },
    {
      "cell_type": "code",
      "metadata": {
        "id": "O6jHeV_aW2-A"
      },
      "source": [
        "weather_df['WindGustDir'] = weather_df['WindGustDir'].apply(lambda w: portolan.middle(str(w)) if str(w)!='nan' else w)\n",
        "weather_df['WindDir9am'] = weather_df['WindDir9am'].apply(lambda w: portolan.middle(str(w)) if str(w)!='nan' else w)\n",
        "weather_df['WindDir3pm'] = weather_df['WindDir3pm'].apply(lambda w: portolan.middle(str(w)) if str(w)!='nan' else w)"
      ],
      "execution_count": 8,
      "outputs": []
    },
    {
      "cell_type": "markdown",
      "metadata": {
        "id": "Savqoh3XW3fV"
      },
      "source": [
        "#### Map 'Yes' and 'No' to True and False to infer boolean values\n"
      ]
    },
    {
      "cell_type": "code",
      "metadata": {
        "id": "VJUyk8KOW9vr"
      },
      "source": [
        "weather_df.RainToday = weather_df.RainToday.map(dict(Yes=True, No=False))\n",
        "weather_df.RainTomorrow = weather_df.RainTomorrow.map(dict(Yes=True, No=False))"
      ],
      "execution_count": 9,
      "outputs": []
    },
    {
      "cell_type": "markdown",
      "metadata": {
        "id": "r909dR3tW_gG"
      },
      "source": [
        "#### Proceed with data type conversion"
      ]
    },
    {
      "cell_type": "code",
      "metadata": {
        "colab": {
          "base_uri": "https://localhost:8080/"
        },
        "id": "I2SMRC11zRk6",
        "outputId": "2bbcd769-e270-4d89-8d88-eef52e7b28f5"
      },
      "source": [
        "# Convert data types\n",
        "weather_df['Date'] = pd.to_datetime(weather_df['Date'])\n",
        "weather_df = weather_df.convert_dtypes()\n",
        "\n",
        "# Visualize new data types\n",
        "weather_df.info()"
      ],
      "execution_count": 10,
      "outputs": [
        {
          "output_type": "stream",
          "text": [
            "<class 'pandas.core.frame.DataFrame'>\n",
            "RangeIndex: 145460 entries, 0 to 145459\n",
            "Data columns (total 23 columns):\n",
            " #   Column         Non-Null Count   Dtype         \n",
            "---  ------         --------------   -----         \n",
            " 0   Date           145460 non-null  datetime64[ns]\n",
            " 1   Location       145460 non-null  string        \n",
            " 2   MinTemp        143975 non-null  float64       \n",
            " 3   MaxTemp        144199 non-null  float64       \n",
            " 4   Rainfall       142199 non-null  float64       \n",
            " 5   Evaporation    82670 non-null   float64       \n",
            " 6   Sunshine       75625 non-null   float64       \n",
            " 7   WindGustDir    135134 non-null  float64       \n",
            " 8   WindGustSpeed  135197 non-null  Int64         \n",
            " 9   WindDir9am     134894 non-null  float64       \n",
            " 10  WindDir3pm     141232 non-null  float64       \n",
            " 11  WindSpeed9am   143693 non-null  Int64         \n",
            " 12  WindSpeed3pm   142398 non-null  Int64         \n",
            " 13  Humidity9am    142806 non-null  Int64         \n",
            " 14  Humidity3pm    140953 non-null  Int64         \n",
            " 15  Pressure9am    130395 non-null  float64       \n",
            " 16  Pressure3pm    130432 non-null  float64       \n",
            " 17  Cloud9am       89572 non-null   Int64         \n",
            " 18  Cloud3pm       86102 non-null   Int64         \n",
            " 19  Temp9am        143693 non-null  float64       \n",
            " 20  Temp3pm        141851 non-null  float64       \n",
            " 21  RainToday      142199 non-null  boolean       \n",
            " 22  RainTomorrow   142193 non-null  boolean       \n",
            "dtypes: Int64(7), boolean(2), datetime64[ns](1), float64(12), string(1)\n",
            "memory usage: 24.8 MB\n"
          ],
          "name": "stdout"
        }
      ]
    },
    {
      "cell_type": "markdown",
      "metadata": {
        "id": "RPyoYdgh4CzG"
      },
      "source": [
        "### Correlation"
      ]
    },
    {
      "cell_type": "code",
      "metadata": {
        "colab": {
          "base_uri": "https://localhost:8080/",
          "height": 874
        },
        "id": "IUVz16Q44E2y",
        "outputId": "f9eca203-11e0-473d-be32-af0dc716378c"
      },
      "source": [
        "f = plt.figure(figsize=(20, 20))\n",
        "plt.matshow(weather_df.corr(), fignum=f.number)\n",
        "plt.xticks(range(weather_df.select_dtypes(['number']).shape[1]), weather_df.select_dtypes(['number']).columns, fontsize=14, rotation=45)\n",
        "plt.yticks(range(weather_df.select_dtypes(['number']).shape[1]), weather_df.select_dtypes(['number']).columns, fontsize=14)\n",
        "cb = plt.colorbar()\n",
        "cb.ax.tick_params(labelsize=14)\n",
        "plt.title('Correlation Matrix', fontsize=16);"
      ],
      "execution_count": 11,
      "outputs": [
        {
          "output_type": "display_data",
          "data": {
            "image/png": "[encoded data removed]",
            "text/plain": [
              "<Figure size 1440x1440 with 2 Axes>"
            ]
          },
          "metadata": {
            "tags": [],
            "needs_background": "light"
          }
        }
      ]
    },
    {
      "cell_type": "markdown",
      "metadata": {
        "id": "lXdct1vWuqUk"
      },
      "source": [
        "## Data Cleaning"
      ]
    },
    {
      "cell_type": "markdown",
      "metadata": {
        "id": "LkyUBpXfn_-K"
      },
      "source": [
        "### Remove rows with null values in the target column"
      ]
    },
    {
      "cell_type": "code",
      "metadata": {
        "colab": {
          "base_uri": "https://localhost:8080/"
        },
        "id": "a0LuiPD0oXZp",
        "outputId": "36b5f9d9-620b-4f25-c995-d5b9a23869f3"
      },
      "source": [
        "# There are null values (nan) in the RainTomorrow column\n",
        "print(\"Before:\\n  Unique values in the RainTomorrow column: \", weather_df.RainTomorrow.unique())\n",
        "rows_before = len(weather_df)\n",
        "print(\"> Total number of rows: [\", rows_before, \"]\")\n",
        "# Select only the not-null rows\n",
        "weather_df = weather_df[weather_df.RainTomorrow.notna()]\n",
        "print(\"\\nAfter:\\n  Unique values in the RainTomorrow column: \", weather_df.RainTomorrow.unique())\n",
        "rows_after = len(weather_df)\n",
        "print(\"> Total number of rows: [\", rows_after, \"] (\", (rows_before-rows_after) , \" rows removed )\")"
      ],
      "execution_count": 12,
      "outputs": [
        {
          "output_type": "stream",
          "text": [
            "Before:\n",
            "  Unique values in the RainTomorrow column:  <BooleanArray>\n",
            "[False, True, <NA>]\n",
            "Length: 3, dtype: boolean\n",
            "> Total number of rows: [ 145460 ]\n",
            "\n",
            "After:\n",
            "  Unique values in the RainTomorrow column:  <BooleanArray>\n",
            "[False, True]\n",
            "Length: 2, dtype: boolean\n",
            "> Total number of rows: [ 142193 ] ( 3267  rows removed )\n"
          ],
          "name": "stdout"
        }
      ]
    },
    {
      "cell_type": "markdown",
      "metadata": {
        "id": "bY7GHuOZiW68"
      },
      "source": [
        "## Feature Engineering"
      ]
    },
    {
      "cell_type": "markdown",
      "metadata": {
        "id": "XOGrY_-_Fkoo"
      },
      "source": [
        "### Add latitude and longitude columns"
      ]
    },
    {
      "cell_type": "code",
      "metadata": {
        "colab": {
          "base_uri": "https://localhost:8080/"
        },
        "id": "R_gki7EEFjLl",
        "outputId": "fb77cb50-d1a4-4985-8974-70ca25420db4"
      },
      "source": [
        "locator = Nominatim(user_agent=\"weather-guru\")\n",
        "# conveneint function to delay between geocoding calls\n",
        "geocode = RateLimiter(locator.geocode, min_delay_seconds=1)\n",
        "\n",
        "# 1 - List the unique values of Location, to further improve performance\n",
        "unique_locations = pd.DataFrame()\n",
        "unique_locations['description'] = weather_df['Location'].unique()\n",
        "unique_locations['id'] = weather_df['Location'].unique()\n",
        "unique_locations.set_index(['id'], inplace = True)\n",
        "unique_locations['num_days'] = weather_df['Location'].value_counts().values\n",
        "print(\"Total unique locations: {}\".format(len(unique_locations)))\n",
        "\n",
        "# Separate CamelCase with space to allow geocode to find the location\n",
        "unique_locations['description'] = unique_locations['description'].apply(lambda loc: re.sub('([A-Z][a-z]+)', r' \\1', re.sub('([A-Z]+)', r' \\1', loc)))\n",
        "# Add the country to the Location in order to avoid misunderstandings\n",
        "unique_locations['description'] = unique_locations['description'].apply(lambda loc: loc + ', Australia')\n",
        "\n",
        "# 2- create improved location column (gcode)\n",
        "print(\"Searching for locations...\")\n",
        "unique_locations['gcode'] =  unique_locations['description'].apply(partial(geocode, addressdetails=True))\n",
        "\n",
        "# 3 - create point (longitude, latitude and altitude) from gcode (location) column (returns tuple)\n",
        "unique_locations['point'] = unique_locations['gcode'].apply(lambda loc: tuple(loc.point) if loc else None)\n",
        "\n",
        "# 4 - split point column into latitude, longitude and altitude columns\n",
        "unique_locations[['latitude', 'longitude', 'altitude']] = pd.DataFrame(unique_locations['point'].tolist(), index=unique_locations.index)\n",
        "\n",
        "# Verify if all the locations were found\n",
        "if not unique_locations['gcode'].isnull().any(): \n",
        "  print(\"All the locations were found!\")\n",
        "else: \n",
        "  print(\"The current locations were not found:\")\n",
        "  print(unique_locations[unique_locations['gcode'].isnull()])\n",
        "\n",
        "# Verify if all the found locations are from Australia\n",
        "unique_locations['country'] = unique_locations['gcode'].apply(lambda loc: (loc.raw.get('address').get('country')) if loc else None)\n",
        "if unique_locations['country'].str.contains('Australia').all():\n",
        "  print(\"All the found locations are from Australia\")\n",
        "\n",
        "def get_lat_lon_alt_from_location(location_name):\n",
        "  location_data = unique_locations.loc[location_name]\n",
        "  lat = location_data['latitude']\n",
        "  lon = location_data['longitude']\n",
        "  alt = location_data['altitude']\n",
        "  return lat,lon,alt\n",
        "\n",
        "weather_df[['latitude', 'longitude', 'altitude']] = list(weather_df['Location'].apply(get_lat_lon_alt_from_location))\n"
      ],
      "execution_count": 13,
      "outputs": [
        {
          "output_type": "stream",
          "text": [
            "Total unique locations: 49\n",
            "Searching for locations...\n",
            "All the locations were found!\n",
            "All the found locations are from Australia\n"
          ],
          "name": "stdout"
        }
      ]
    },
    {
      "cell_type": "markdown",
      "metadata": {
        "id": "g2G3uSI5dUey"
      },
      "source": [
        "### Plot map (just for fun)"
      ]
    },
    {
      "cell_type": "code",
      "metadata": {
        "colab": {
          "base_uri": "https://localhost:8080/",
          "height": 542
        },
        "id": "GTUMsvLtgNRK",
        "outputId": "98e71110-9551-4cc2-d2fb-1f4356725dd8"
      },
      "source": [
        "fig = px.scatter_geo(unique_locations,lat='latitude',lon='longitude', hover_name=\"description\", color='num_days')\n",
        "fig.update_layout(title = 'Locations in the dataset', title_x=0.5)\n",
        "fig.show()"
      ],
      "execution_count": 14,
      "outputs": [
        {
          "output_type": "display_data",
          "data": {
            "text/html": [
              "<html>\n",
              "<head><meta charset=\"utf-8\" /></head>\n",
              "<body>\n",
              "    <div>\n",
              "            <script src=\"https://cdnjs.cloudflare.com/ajax/libs/mathjax/2.7.5/MathJax.js?config=TeX-AMS-MML_SVG\"></script><script type=\"text/javascript\">if (window.MathJax) {MathJax.Hub.Config({SVG: {font: \"STIX-Web\"}});}</script>\n",
              "                <script type=\"text/javascript\">window.PlotlyConfig = {MathJaxConfig: 'local'};</script>\n",
              "        <script src=\"https://cdn.plot.ly/plotly-latest.min.js\"></script>    \n",
              "            <div id=\"517fe283-d902-49cf-9296-daaa1b66584a\" class=\"plotly-graph-div\" style=\"height:525px; width:100%;\"></div>\n",
              "            <script type=\"text/javascript\">\n",
              "                \n",
              "                    window.PLOTLYENV=window.PLOTLYENV || {};\n",
              "                    \n",
              "                if (document.getElementById(\"517fe283-d902-49cf-9296-daaa1b66584a\")) {\n",
              "                    Plotly.newPlot(\n",
              "                        '517fe283-d902-49cf-9296-daaa1b66584a',\n",
              "                        [{\"geo\": \"geo\", \"hoverlabel\": {\"namelength\": 0}, \"hovertemplate\": \"<b>%{hovertext}</b><br><br>latitude=%{lat}<br>longitude=%{lon}<br>num_days=%{marker.color}\", \"hovertext\": [\"  Albury, Australia\", \"  Badgerys  Creek, Australia\", \"  Cobar, Australia\", \"  Coffs  Harbour, Australia\", \"  Moree, Australia\", \"  Newcastle, Australia\", \"  Norah  Head, Australia\", \"  Norfolk  Island, Australia\", \"  Penrith, Australia\", \"  Richmond, Australia\", \"  Sydney, Australia\", \"  Sydney  Airport, Australia\", \"  Wagga  Wagga, Australia\", \"  Williamtown, Australia\", \"  Wollongong, Australia\", \"  Canberra, Australia\", \"  Tuggeranong, Australia\", \"  Mount  Ginini, Australia\", \"  Ballarat, Australia\", \"  Bendigo, Australia\", \"  Sale, Australia\", \"  Melbourne  Airport, Australia\", \"  Melbourne, Australia\", \"  Mildura, Australia\", \"  Nhil, Australia\", \"  Portland, Australia\", \"  Watsonia, Australia\", \"  Dartmoor, Australia\", \"  Brisbane, Australia\", \"  Cairns, Australia\", \"  Gold  Coast, Australia\", \"  Townsville, Australia\", \"  Adelaide, Australia\", \"  Mount  Gambier, Australia\", \"  Nuriootpa, Australia\", \"  Woomera, Australia\", \"  Albany, Australia\", \"  Witchcliffe, Australia\", \"  Pearce RAAF, Australia\", \"  Perth  Airport, Australia\", \"  Perth, Australia\", \"  Salmon  Gums, Australia\", \"  Walpole, Australia\", \"  Hobart, Australia\", \"  Launceston, Australia\", \"  Alice  Springs, Australia\", \"  Darwin, Australia\", \"  Katherine, Australia\", \"  Uluru, Australia\"], \"lat\": [-36.0804766, -33.8816671, -31.4983333, -30.2962407, -29.4617202, -32.9192953, -33.2816667, -29.0289575, -33.7510792, -20.569655, -33.8548157, -33.9498935, -35.115, -32.815, -34.4243941, -35.2975906, -35.4209771, -35.5297196, -37.5622632, -36.7588767, -38.1050358, -37.667111000000006, -37.8142176, -34.1847265, -35.4713087, -38.3456231, -37.7110022, -37.9225444, -27.4689682, -16.9206657, -28.0023731, -19.2569391, -34.9281805, -37.8246698, -34.4693354, -31.1999142, -35.0247822, -34.0263348, -31.6739604, -31.9406095, -31.9527121, -32.9815347, -34.9776796, -42.8825088, -41.4340813, -23.6983884, -12.46044, -14.4642313, -25.344857], \"legendgroup\": \"\", \"lon\": [146.9162795, 150.7441627, 145.8344444, 153.1135293, 149.8407153, 151.7795348, 151.5677778, 167.9587289126371, 150.6941684, 142.9283602143393, 151.2164539, 151.18196819346016, 147.3677778, 151.8427778, 150.89385, 149.1012676, 149.0921341, 148.7726345, 143.8607215, 144.2825931, 147.0647902, 144.83348076679553, 144.9631608, 142.1624972, 141.3062355, 141.6042304, 145.083635, 141.2766551, 153.0234991, 145.7721854, 153.4145987, 146.8239537, 138.5999312, 140.7820067624113, 138.9939006, 136.8253532, 117.883608, 115.1004768, 116.01754351808195, 115.96760765137932, 115.8604796, 121.6439417, 116.7310063, 147.3281233, 147.1373496, 133.8812885, 130.8410469, 132.2638568, 131.0325171], \"marker\": {\"color\": [3418, 3337, 3193, 3192, 3188, 3161, 3090, 3034, 3033, 3031, 3030, 3028, 3028, 3016, 3011, 3009, 3009, 3007, 3005, 3002, 3000, 2999, 2998, 2996, 2990, 2988, 2988, 2983, 2980, 2976, 2964, 2964, 2955, 2955, 2953, 2952, 2951, 2943, 2929, 2928, 2907, 2854, 2819, 2762, 2553, 2435, 1569, 1559, 1521], \"coloraxis\": \"coloraxis\"}, \"name\": \"\", \"showlegend\": false, \"type\": \"scattergeo\"}],\n",
              "                        {\"coloraxis\": {\"colorbar\": {\"title\": {\"text\": \"num_days\"}}, \"colorscale\": [[0.0, \"#0d0887\"], [0.1111111111111111, \"#46039f\"], [0.2222222222222222, \"#7201a8\"], [0.3333333333333333, \"#9c179e\"], [0.4444444444444444, \"#bd3786\"], [0.5555555555555556, \"#d8576b\"], [0.6666666666666666, \"#ed7953\"], [0.7777777777777778, \"#fb9f3a\"], [0.8888888888888888, \"#fdca26\"], [1.0, \"#f0f921\"]]}, \"geo\": {\"center\": {}, \"domain\": {\"x\": [0.0, 1.0], \"y\": [0.0, 1.0]}}, \"legend\": {\"tracegroupgap\": 0}, \"margin\": {\"t\": 60}, \"template\": {\"data\": {\"bar\": [{\"error_x\": {\"color\": \"#2a3f5f\"}, \"error_y\": {\"color\": \"#2a3f5f\"}, \"marker\": {\"line\": {\"color\": \"#E5ECF6\", \"width\": 0.5}}, \"type\": \"bar\"}], \"barpolar\": [{\"marker\": {\"line\": {\"color\": \"#E5ECF6\", \"width\": 0.5}}, \"type\": \"barpolar\"}], \"carpet\": [{\"aaxis\": {\"endlinecolor\": \"#2a3f5f\", \"gridcolor\": \"white\", \"linecolor\": \"white\", \"minorgridcolor\": \"white\", \"startlinecolor\": \"#2a3f5f\"}, \"baxis\": {\"endlinecolor\": \"#2a3f5f\", \"gridcolor\": \"white\", \"linecolor\": \"white\", \"minorgridcolor\": \"white\", \"startlinecolor\": \"#2a3f5f\"}, \"type\": \"carpet\"}], \"choropleth\": [{\"colorbar\": {\"outlinewidth\": 0, \"ticks\": \"\"}, \"type\": \"choropleth\"}], \"contour\": [{\"colorbar\": {\"outlinewidth\": 0, \"ticks\": \"\"}, \"colorscale\": [[0.0, \"#0d0887\"], [0.1111111111111111, \"#46039f\"], [0.2222222222222222, \"#7201a8\"], [0.3333333333333333, \"#9c179e\"], [0.4444444444444444, \"#bd3786\"], [0.5555555555555556, \"#d8576b\"], [0.6666666666666666, \"#ed7953\"], [0.7777777777777778, \"#fb9f3a\"], [0.8888888888888888, \"#fdca26\"], [1.0, \"#f0f921\"]], \"type\": \"contour\"}], \"contourcarpet\": [{\"colorbar\": {\"outlinewidth\": 0, \"ticks\": \"\"}, \"type\": \"contourcarpet\"}], \"heatmap\": [{\"colorbar\": {\"outlinewidth\": 0, \"ticks\": \"\"}, \"colorscale\": [[0.0, \"#0d0887\"], [0.1111111111111111, \"#46039f\"], [0.2222222222222222, \"#7201a8\"], [0.3333333333333333, \"#9c179e\"], [0.4444444444444444, \"#bd3786\"], [0.5555555555555556, \"#d8576b\"], [0.6666666666666666, \"#ed7953\"], [0.7777777777777778, \"#fb9f3a\"], [0.8888888888888888, \"#fdca26\"], [1.0, \"#f0f921\"]], \"type\": \"heatmap\"}], \"heatmapgl\": [{\"colorbar\": {\"outlinewidth\": 0, \"ticks\": \"\"}, \"colorscale\": [[0.0, \"#0d0887\"], [0.1111111111111111, \"#46039f\"], [0.2222222222222222, \"#7201a8\"], [0.3333333333333333, \"#9c179e\"], [0.4444444444444444, \"#bd3786\"], [0.5555555555555556, \"#d8576b\"], [0.6666666666666666, \"#ed7953\"], [0.7777777777777778, \"#fb9f3a\"], [0.8888888888888888, \"#fdca26\"], [1.0, \"#f0f921\"]], \"type\": \"heatmapgl\"}], \"histogram\": [{\"marker\": {\"colorbar\": {\"outlinewidth\": 0, \"ticks\": \"\"}}, \"type\": \"histogram\"}], \"histogram2d\": [{\"colorbar\": {\"outlinewidth\": 0, \"ticks\": \"\"}, \"colorscale\": [[0.0, \"#0d0887\"], [0.1111111111111111, \"#46039f\"], [0.2222222222222222, \"#7201a8\"], [0.3333333333333333, \"#9c179e\"], [0.4444444444444444, \"#bd3786\"], [0.5555555555555556, \"#d8576b\"], [0.6666666666666666, \"#ed7953\"], [0.7777777777777778, \"#fb9f3a\"], [0.8888888888888888, \"#fdca26\"], [1.0, \"#f0f921\"]], \"type\": \"histogram2d\"}], \"histogram2dcontour\": [{\"colorbar\": {\"outlinewidth\": 0, \"ticks\": \"\"}, \"colorscale\": [[0.0, \"#0d0887\"], [0.1111111111111111, \"#46039f\"], [0.2222222222222222, \"#7201a8\"], [0.3333333333333333, \"#9c179e\"], [0.4444444444444444, \"#bd3786\"], [0.5555555555555556, \"#d8576b\"], [0.6666666666666666, \"#ed7953\"], [0.7777777777777778, \"#fb9f3a\"], [0.8888888888888888, \"#fdca26\"], [1.0, \"#f0f921\"]], \"type\": \"histogram2dcontour\"}], \"mesh3d\": [{\"colorbar\": {\"outlinewidth\": 0, \"ticks\": \"\"}, \"type\": \"mesh3d\"}], \"parcoords\": [{\"line\": {\"colorbar\": {\"outlinewidth\": 0, \"ticks\": \"\"}}, \"type\": \"parcoords\"}], \"pie\": [{\"automargin\": true, \"type\": \"pie\"}], \"scatter\": [{\"marker\": {\"colorbar\": {\"outlinewidth\": 0, \"ticks\": \"\"}}, \"type\": \"scatter\"}], \"scatter3d\": [{\"line\": {\"colorbar\": {\"outlinewidth\": 0, \"ticks\": \"\"}}, \"marker\": {\"colorbar\": {\"outlinewidth\": 0, \"ticks\": \"\"}}, \"type\": \"scatter3d\"}], \"scattercarpet\": [{\"marker\": {\"colorbar\": {\"outlinewidth\": 0, \"ticks\": \"\"}}, \"type\": \"scattercarpet\"}], \"scattergeo\": [{\"marker\": {\"colorbar\": {\"outlinewidth\": 0, \"ticks\": \"\"}}, \"type\": \"scattergeo\"}], \"scattergl\": [{\"marker\": {\"colorbar\": {\"outlinewidth\": 0, \"ticks\": \"\"}}, \"type\": \"scattergl\"}], \"scattermapbox\": [{\"marker\": {\"colorbar\": {\"outlinewidth\": 0, \"ticks\": \"\"}}, \"type\": \"scattermapbox\"}], \"scatterpolar\": [{\"marker\": {\"colorbar\": {\"outlinewidth\": 0, \"ticks\": \"\"}}, \"type\": \"scatterpolar\"}], \"scatterpolargl\": [{\"marker\": {\"colorbar\": {\"outlinewidth\": 0, \"ticks\": \"\"}}, \"type\": \"scatterpolargl\"}], \"scatterternary\": [{\"marker\": {\"colorbar\": {\"outlinewidth\": 0, \"ticks\": \"\"}}, \"type\": \"scatterternary\"}], \"surface\": [{\"colorbar\": {\"outlinewidth\": 0, \"ticks\": \"\"}, \"colorscale\": [[0.0, \"#0d0887\"], [0.1111111111111111, \"#46039f\"], [0.2222222222222222, \"#7201a8\"], [0.3333333333333333, \"#9c179e\"], [0.4444444444444444, \"#bd3786\"], [0.5555555555555556, \"#d8576b\"], [0.6666666666666666, \"#ed7953\"], [0.7777777777777778, \"#fb9f3a\"], [0.8888888888888888, \"#fdca26\"], [1.0, \"#f0f921\"]], \"type\": \"surface\"}], \"table\": [{\"cells\": {\"fill\": {\"color\": \"#EBF0F8\"}, \"line\": {\"color\": \"white\"}}, \"header\": {\"fill\": {\"color\": \"#C8D4E3\"}, \"line\": {\"color\": \"white\"}}, \"type\": \"table\"}]}, \"layout\": {\"annotationdefaults\": {\"arrowcolor\": \"#2a3f5f\", \"arrowhead\": 0, \"arrowwidth\": 1}, \"coloraxis\": {\"colorbar\": {\"outlinewidth\": 0, \"ticks\": \"\"}}, \"colorscale\": {\"diverging\": [[0, \"#8e0152\"], [0.1, \"#c51b7d\"], [0.2, \"#de77ae\"], [0.3, \"#f1b6da\"], [0.4, \"#fde0ef\"], [0.5, \"#f7f7f7\"], [0.6, \"#e6f5d0\"], [0.7, \"#b8e186\"], [0.8, \"#7fbc41\"], [0.9, \"#4d9221\"], [1, \"#276419\"]], \"sequential\": [[0.0, \"#0d0887\"], [0.1111111111111111, \"#46039f\"], [0.2222222222222222, \"#7201a8\"], [0.3333333333333333, \"#9c179e\"], [0.4444444444444444, \"#bd3786\"], [0.5555555555555556, \"#d8576b\"], [0.6666666666666666, \"#ed7953\"], [0.7777777777777778, \"#fb9f3a\"], [0.8888888888888888, \"#fdca26\"], [1.0, \"#f0f921\"]], \"sequentialminus\": [[0.0, \"#0d0887\"], [0.1111111111111111, \"#46039f\"], [0.2222222222222222, \"#7201a8\"], [0.3333333333333333, \"#9c179e\"], [0.4444444444444444, \"#bd3786\"], [0.5555555555555556, \"#d8576b\"], [0.6666666666666666, \"#ed7953\"], [0.7777777777777778, \"#fb9f3a\"], [0.8888888888888888, \"#fdca26\"], [1.0, \"#f0f921\"]]}, \"colorway\": [\"#636efa\", \"#EF553B\", \"#00cc96\", \"#ab63fa\", \"#FFA15A\", \"#19d3f3\", \"#FF6692\", \"#B6E880\", \"#FF97FF\", \"#FECB52\"], \"font\": {\"color\": \"#2a3f5f\"}, \"geo\": {\"bgcolor\": \"white\", \"lakecolor\": \"white\", \"landcolor\": \"#E5ECF6\", \"showlakes\": true, \"showland\": true, \"subunitcolor\": \"white\"}, \"hoverlabel\": {\"align\": \"left\"}, \"hovermode\": \"closest\", \"mapbox\": {\"style\": \"light\"}, \"paper_bgcolor\": \"white\", \"plot_bgcolor\": \"#E5ECF6\", \"polar\": {\"angularaxis\": {\"gridcolor\": \"white\", \"linecolor\": \"white\", \"ticks\": \"\"}, \"bgcolor\": \"#E5ECF6\", \"radialaxis\": {\"gridcolor\": \"white\", \"linecolor\": \"white\", \"ticks\": \"\"}}, \"scene\": {\"xaxis\": {\"backgroundcolor\": \"#E5ECF6\", \"gridcolor\": \"white\", \"gridwidth\": 2, \"linecolor\": \"white\", \"showbackground\": true, \"ticks\": \"\", \"zerolinecolor\": \"white\"}, \"yaxis\": {\"backgroundcolor\": \"#E5ECF6\", \"gridcolor\": \"white\", \"gridwidth\": 2, \"linecolor\": \"white\", \"showbackground\": true, \"ticks\": \"\", \"zerolinecolor\": \"white\"}, \"zaxis\": {\"backgroundcolor\": \"#E5ECF6\", \"gridcolor\": \"white\", \"gridwidth\": 2, \"linecolor\": \"white\", \"showbackground\": true, \"ticks\": \"\", \"zerolinecolor\": \"white\"}}, \"shapedefaults\": {\"line\": {\"color\": \"#2a3f5f\"}}, \"ternary\": {\"aaxis\": {\"gridcolor\": \"white\", \"linecolor\": \"white\", \"ticks\": \"\"}, \"baxis\": {\"gridcolor\": \"white\", \"linecolor\": \"white\", \"ticks\": \"\"}, \"bgcolor\": \"#E5ECF6\", \"caxis\": {\"gridcolor\": \"white\", \"linecolor\": \"white\", \"ticks\": \"\"}}, \"title\": {\"x\": 0.05}, \"xaxis\": {\"automargin\": true, \"gridcolor\": \"white\", \"linecolor\": \"white\", \"ticks\": \"\", \"title\": {\"standoff\": 15}, \"zerolinecolor\": \"white\", \"zerolinewidth\": 2}, \"yaxis\": {\"automargin\": true, \"gridcolor\": \"white\", \"linecolor\": \"white\", \"ticks\": \"\", \"title\": {\"standoff\": 15}, \"zerolinecolor\": \"white\", \"zerolinewidth\": 2}}}, \"title\": {\"text\": \"Locations in the dataset\", \"x\": 0.5}},\n",
              "                        {\"responsive\": true}\n",
              "                    ).then(function(){\n",
              "                            \n",
              "var gd = document.getElementById('517fe283-d902-49cf-9296-daaa1b66584a');\n",
              "var x = new MutationObserver(function (mutations, observer) {{\n",
              "        var display = window.getComputedStyle(gd).display;\n",
              "        if (!display || display === 'none') {{\n",
              "            console.log([gd, 'removed!']);\n",
              "            Plotly.purge(gd);\n",
              "            observer.disconnect();\n",
              "        }}\n",
              "}});\n",
              "\n",
              "// Listen for the removal of the full notebook cells\n",
              "var notebookContainer = gd.closest('#notebook-container');\n",
              "if (notebookContainer) {{\n",
              "    x.observe(notebookContainer, {childList: true});\n",
              "}}\n",
              "\n",
              "// Listen for the clearing of the current output cell\n",
              "var outputEl = gd.closest('.output');\n",
              "if (outputEl) {{\n",
              "    x.observe(outputEl, {childList: true});\n",
              "}}\n",
              "\n",
              "                        })\n",
              "                };\n",
              "                \n",
              "            </script>\n",
              "        </div>\n",
              "</body>\n",
              "</html>"
            ]
          },
          "metadata": {
            "tags": []
          }
        }
      ]
    },
    {
      "cell_type": "markdown",
      "metadata": {
        "id": "gGnZy4YdvU6i"
      },
      "source": [
        "### Add YEAR, MONTH and DAY columns"
      ]
    },
    {
      "cell_type": "code",
      "metadata": {
        "colab": {
          "base_uri": "https://localhost:8080/",
          "height": 117
        },
        "id": "ZRaElrBbvpDH",
        "outputId": "0aebfae5-4254-4391-813c-e69d4a6b6822"
      },
      "source": [
        "weather_df['YEAR'] = weather_df.Date.dt.year\n",
        "weather_df['MONTH'] = weather_df.Date.dt.month\n",
        "weather_df['DAY'] = weather_df.Date.dt.day\n",
        "#weather_df.set_index(keys=['Date','YEAR','MONTH','DAY'], inplace=True)\n",
        "\n",
        "weather_df.sample()"
      ],
      "execution_count": 15,
      "outputs": [
        {
          "output_type": "execute_result",
          "data": {
            "text/html": [
              "<div>\n",
              "<style scoped>\n",
              "    .dataframe tbody tr th:only-of-type {\n",
              "        vertical-align: middle;\n",
              "    }\n",
              "\n",
              "    .dataframe tbody tr th {\n",
              "        vertical-align: top;\n",
              "    }\n",
              "\n",
              "    .dataframe thead th {\n",
              "        text-align: right;\n",
              "    }\n",
              "</style>\n",
              "<table border=\"1\" class=\"dataframe\">\n",
              "  <thead>\n",
              "    <tr style=\"text-align: right;\">\n",
              "      <th></th>\n",
              "      <th>Date</th>\n",
              "      <th>Location</th>\n",
              "      <th>MinTemp</th>\n",
              "      <th>MaxTemp</th>\n",
              "      <th>Rainfall</th>\n",
              "      <th>Evaporation</th>\n",
              "      <th>Sunshine</th>\n",
              "      <th>WindGustDir</th>\n",
              "      <th>WindGustSpeed</th>\n",
              "      <th>WindDir9am</th>\n",
              "      <th>WindDir3pm</th>\n",
              "      <th>WindSpeed9am</th>\n",
              "      <th>WindSpeed3pm</th>\n",
              "      <th>Humidity9am</th>\n",
              "      <th>Humidity3pm</th>\n",
              "      <th>Pressure9am</th>\n",
              "      <th>Pressure3pm</th>\n",
              "      <th>Cloud9am</th>\n",
              "      <th>Cloud3pm</th>\n",
              "      <th>Temp9am</th>\n",
              "      <th>Temp3pm</th>\n",
              "      <th>RainToday</th>\n",
              "      <th>RainTomorrow</th>\n",
              "      <th>latitude</th>\n",
              "      <th>longitude</th>\n",
              "      <th>altitude</th>\n",
              "      <th>YEAR</th>\n",
              "      <th>MONTH</th>\n",
              "      <th>DAY</th>\n",
              "    </tr>\n",
              "  </thead>\n",
              "  <tbody>\n",
              "    <tr>\n",
              "      <th>10580</th>\n",
              "      <td>2013-05-31</td>\n",
              "      <td>CoffsHarbour</td>\n",
              "      <td>11.7</td>\n",
              "      <td>21.0</td>\n",
              "      <td>2.6</td>\n",
              "      <td>0.6</td>\n",
              "      <td>NaN</td>\n",
              "      <td>45.0</td>\n",
              "      <td>33</td>\n",
              "      <td>270.0</td>\n",
              "      <td>90.0</td>\n",
              "      <td>7</td>\n",
              "      <td>19</td>\n",
              "      <td>89</td>\n",
              "      <td>78</td>\n",
              "      <td>1029.8</td>\n",
              "      <td>1026.7</td>\n",
              "      <td>4</td>\n",
              "      <td>8</td>\n",
              "      <td>18.2</td>\n",
              "      <td>19.2</td>\n",
              "      <td>True</td>\n",
              "      <td>False</td>\n",
              "      <td>-30.296241</td>\n",
              "      <td>153.113529</td>\n",
              "      <td>0.0</td>\n",
              "      <td>2013</td>\n",
              "      <td>5</td>\n",
              "      <td>31</td>\n",
              "    </tr>\n",
              "  </tbody>\n",
              "</table>\n",
              "</div>"
            ],
            "text/plain": [
              "            Date      Location  MinTemp  MaxTemp  ...  altitude  YEAR  MONTH  DAY\n",
              "10580 2013-05-31  CoffsHarbour     11.7     21.0  ...       0.0  2013      5   31\n",
              "\n",
              "[1 rows x 29 columns]"
            ]
          },
          "metadata": {
            "tags": []
          },
          "execution_count": 15
        }
      ]
    },
    {
      "cell_type": "markdown",
      "metadata": {
        "id": "M5UOEPWSADz3"
      },
      "source": [
        "### Integer encode direction"
      ]
    },
    {
      "cell_type": "code",
      "metadata": {
        "id": "LvgIOyhPAFLt"
      },
      "source": [
        "encoder = LabelEncoder()\n",
        "values[:,4] = encoder.fit_transform(values[:,4])"
      ],
      "execution_count": null,
      "outputs": []
    },
    {
      "cell_type": "markdown",
      "metadata": {
        "id": "aLV0A4-Q-mXA"
      },
      "source": [
        "### Ensure all data is float"
      ]
    },
    {
      "cell_type": "code",
      "metadata": {
        "id": "TBDcRbq5-lFj"
      },
      "source": [
        "values = weather_df.values\n",
        "values = values.astype('float32')"
      ],
      "execution_count": null,
      "outputs": []
    },
    {
      "cell_type": "markdown",
      "metadata": {
        "id": "keMPn3eh78VI"
      },
      "source": [
        "### Normalize features"
      ]
    },
    {
      "cell_type": "code",
      "metadata": {
        "id": "J4o16e7y8BNq"
      },
      "source": [
        "scaler = MinMaxScaler(feature_range=(0, 1))\n",
        "scaled = scaler.fit_transform(values)"
      ],
      "execution_count": null,
      "outputs": []
    },
    {
      "cell_type": "markdown",
      "metadata": {
        "id": "WVV-QmR-59Cq"
      },
      "source": [
        "## Design network"
      ]
    },
    {
      "cell_type": "markdown",
      "metadata": {
        "id": "rZRpXyXt2xjz"
      },
      "source": [
        "We want to predict a boolean value ('Yes' or 'No') for the target variable **`RainTomorrow`**. In this case, we need to use a **classification** model, istead of a **regression** model, wich is used to predict real-world values (e.g. `Rainfall`)."
      ]
    },
    {
      "cell_type": "code",
      "metadata": {
        "id": "RZ_bl0cp6DMg"
      },
      "source": [
        "model = Sequential()\n",
        "model.add(LSTM(NEURONS, input_shape=(train_X.shape[1], train_X.shape[2]), return_sequences=True, name='lstm1'))\n",
        "model.add(LSTM(NEURONS, name='lstm2'))\n",
        "model.add(Dense(1, activation='linear', name='output'))\n",
        "optimizer = Adam(lr=LEARNING_RATE)\n",
        "model.compile(loss=LOSS_FUNCTION, optimizer=optimizer)\n",
        "model.summary()"
      ],
      "execution_count": null,
      "outputs": []
    },
    {
      "cell_type": "markdown",
      "metadata": {
        "id": "GkBzihGe6Dvo"
      },
      "source": [
        "## Training"
      ]
    },
    {
      "cell_type": "markdown",
      "metadata": {
        "id": "DrEi-MynvgaO"
      },
      "source": [
        "To be Continued..."
      ]
    }
  ]
}