{
  "nbformat": 4,
  "nbformat_minor": 0,
  "metadata": {
    "colab": {
      "name": "weather-guru.ipynb",
      "provenance": [],
      "collapsed_sections": [],
      "toc_visible": true,
      "authorship_tag": "ABX9TyPFAsD7K4lsutM/m9HhgsIt",
      "include_colab_link": true
    },
    "kernelspec": {
      "name": "python3",
      "display_name": "Python 3"
    },
    "language_info": {
      "name": "python"
    }
  },
  "cells": [
    {
      "cell_type": "markdown",
      "metadata": {
        "id": "view-in-github",
        "colab_type": "text"
      },
      "source": [
        "<a href=\"https://colab.research.google.com/github/marlonrcfranco/weather-guru/blob/main/weather_guru.ipynb\" target=\"_parent\"><img src=\"https://colab.research.google.com/assets/colab-badge.svg\" alt=\"Open In Colab\"/></a>"
      ]
    },
    {
      "cell_type": "markdown",
      "metadata": {
        "id": "RJ0V8yZcc1g9"
      },
      "source": [
        "# weather-guru\n",
        "## Will it rain tomorrow?\n",
        "\n",
        "\n",
        "### Goal 🌦\n",
        "Implement an algorithm that performs **next day rain prediction** by training machine learning models on the target variable `RainTomorrow`.\n",
        "\n",
        "\n",
        "\n",
        "### Dataset 📂\n",
        "The dataset contains about **10 years of daily weather observations** from various locations in **Australia**.\n",
        "\n",
        "**`RainTomorrow`** is the target variable to be  predicted. It means - it rained the next day, this column is `Yes` if the rain that day was 1mm or more.\n",
        "\n",
        "\n",
        "\n",
        "\n",
        "\n"
      ]
    },
    {
      "cell_type": "markdown",
      "metadata": {
        "id": "F80l3nZwiSEj"
      },
      "source": [
        "## Imports & Defines"
      ]
    },
    {
      "cell_type": "code",
      "metadata": {
        "id": "hpvWyhLNimyM",
        "colab": {
          "base_uri": "https://localhost:8080/"
        },
        "outputId": "096d56fa-ef67-45db-8257-9bf9335b70e3"
      },
      "source": [
        "%matplotlib inline\n",
        "import re\n",
        "import pandas as pd\n",
        "import numpy as np\n",
        "import matplotlib.pyplot as plt\n",
        "import matplotlib.ticker as mticker\n",
        "import matplotlib.patches as mpatches\n",
        "\n",
        "from tensorflow.keras.models import Sequential\n",
        "from tensorflow.keras.layers import Dense\n",
        "from tensorflow.keras.optimizers import Adam\n",
        "from tensorflow.keras.wrappers.scikit_learn import KerasClassifier\n",
        "from sklearn.model_selection import cross_val_score\n",
        "from sklearn.preprocessing import LabelEncoder,MinMaxScaler,StandardScaler\n",
        "from sklearn.model_selection import StratifiedKFold\n",
        "from sklearn.impute import SimpleImputer\n",
        "from sklearn.pipeline import Pipeline\n",
        "\n",
        "from geopy.geocoders import Nominatim\n",
        "from geopy.extra.rate_limiter import RateLimiter\n",
        "from functools import partial\n",
        "import plotly.express as px\n",
        "!pip install portolan\n",
        "import portolan\n",
        "\n",
        "# Defines\n",
        "DATASET_URL = \"https://raw.githubusercontent.com/marlonrcfranco/weather-guru/main/data/weatherAUS.csv\"\n",
        "MODEL_PATH = \"model/\"\n",
        "\n",
        "TARGET_NAME = 'RainTomorrow'\n",
        "\n",
        "EPOCHS = 100 # The number of epochs is the number of complete passes through the training dataset. \n",
        "BATCH_SIZE = 1023 # The size of a batch must be more than or equal to one and less than or equal to the number of samples in the training dataset.\n",
        "K_FOLD_SPLITS = 5\n",
        "LOSS_FUNCTION = 'binary_crossentropy' # 'binary_crossentropy'. Others: 'mse': Mean Square Error, 'mae': Mean Absolute Error\n",
        "LEARNING_RATE = 0.001 #0.001\n",
        "NEURONS_1 = 27\n",
        "NEURONS_2 = 7 # This amount of neurons in the second hidden layer forces the network to choose the most relevant features"
      ],
      "execution_count": 1,
      "outputs": [
        {
          "output_type": "stream",
          "text": [
            "Requirement already satisfied: portolan in /usr/local/lib/python3.7/dist-packages (1.0.1)\n"
          ],
          "name": "stdout"
        }
      ]
    },
    {
      "cell_type": "markdown",
      "metadata": {
        "id": "XhowXUCfjM5r"
      },
      "source": [
        "## Fetch Data"
      ]
    },
    {
      "cell_type": "code",
      "metadata": {
        "id": "eqPoSDMxjYH5"
      },
      "source": [
        "weather_df = pd.read_csv(DATASET_URL,parse_dates=True)\n",
        "weather_df.shape()"
      ],
      "execution_count": 2,
      "outputs": []
    },
    {
      "cell_type": "markdown",
      "metadata": {
        "id": "G5Nz4VmGkvvi"
      },
      "source": [
        "## Data Preprocessing"
      ]
    },
    {
      "cell_type": "markdown",
      "metadata": {
        "id": "-irldH4cnZHq"
      },
      "source": [
        "### Dataframe Info"
      ]
    },
    {
      "cell_type": "code",
      "metadata": {
        "colab": {
          "base_uri": "https://localhost:8080/"
        },
        "id": "U7GpWG_lk07u",
        "outputId": "04e3cdd5-a4e9-4054-c799-76a6793a474a"
      },
      "source": [
        "weather_df.info()"
      ],
      "execution_count": 3,
      "outputs": [
        {
          "output_type": "stream",
          "text": [
            "<class 'pandas.core.frame.DataFrame'>\n",
            "RangeIndex: 145460 entries, 0 to 145459\n",
            "Data columns (total 23 columns):\n",
            " #   Column         Non-Null Count   Dtype  \n",
            "---  ------         --------------   -----  \n",
            " 0   Date           145460 non-null  object \n",
            " 1   Location       145460 non-null  object \n",
            " 2   MinTemp        143975 non-null  float64\n",
            " 3   MaxTemp        144199 non-null  float64\n",
            " 4   Rainfall       142199 non-null  float64\n",
            " 5   Evaporation    82670 non-null   float64\n",
            " 6   Sunshine       75625 non-null   float64\n",
            " 7   WindGustDir    135134 non-null  object \n",
            " 8   WindGustSpeed  135197 non-null  float64\n",
            " 9   WindDir9am     134894 non-null  object \n",
            " 10  WindDir3pm     141232 non-null  object \n",
            " 11  WindSpeed9am   143693 non-null  float64\n",
            " 12  WindSpeed3pm   142398 non-null  float64\n",
            " 13  Humidity9am    142806 non-null  float64\n",
            " 14  Humidity3pm    140953 non-null  float64\n",
            " 15  Pressure9am    130395 non-null  float64\n",
            " 16  Pressure3pm    130432 non-null  float64\n",
            " 17  Cloud9am       89572 non-null   float64\n",
            " 18  Cloud3pm       86102 non-null   float64\n",
            " 19  Temp9am        143693 non-null  float64\n",
            " 20  Temp3pm        141851 non-null  float64\n",
            " 21  RainToday      142199 non-null  object \n",
            " 22  RainTomorrow   142193 non-null  object \n",
            "dtypes: float64(16), object(7)\n",
            "memory usage: 25.5+ MB\n"
          ],
          "name": "stdout"
        }
      ]
    },
    {
      "cell_type": "code",
      "metadata": {
        "colab": {
          "base_uri": "https://localhost:8080/"
        },
        "id": "yAmgOzQb9MpT",
        "outputId": "723f4019-0682-4f49-a7f0-8bc6a26fca47"
      },
      "source": [
        "weather_df.shape"
      ],
      "execution_count": 4,
      "outputs": [
        {
          "output_type": "execute_result",
          "data": {
            "text/plain": [
              "(145460, 23)"
            ]
          },
          "metadata": {
            "tags": []
          },
          "execution_count": 4
        }
      ]
    },
    {
      "cell_type": "markdown",
      "metadata": {
        "id": "XjEPTRAKnKbU"
      },
      "source": [
        "### Sample"
      ]
    },
    {
      "cell_type": "code",
      "metadata": {
        "colab": {
          "base_uri": "https://localhost:8080/",
          "height": 117
        },
        "id": "a30TK-tGmTNA",
        "outputId": "ecb96b59-5e65-426b-f0fa-25a5b8a7ed45"
      },
      "source": [
        "weather_df.sample()"
      ],
      "execution_count": 5,
      "outputs": [
        {
          "output_type": "execute_result",
          "data": {
            "text/html": [
              "<div>\n",
              "<style scoped>\n",
              "    .dataframe tbody tr th:only-of-type {\n",
              "        vertical-align: middle;\n",
              "    }\n",
              "\n",
              "    .dataframe tbody tr th {\n",
              "        vertical-align: top;\n",
              "    }\n",
              "\n",
              "    .dataframe thead th {\n",
              "        text-align: right;\n",
              "    }\n",
              "</style>\n",
              "<table border=\"1\" class=\"dataframe\">\n",
              "  <thead>\n",
              "    <tr style=\"text-align: right;\">\n",
              "      <th></th>\n",
              "      <th>Date</th>\n",
              "      <th>Location</th>\n",
              "      <th>MinTemp</th>\n",
              "      <th>MaxTemp</th>\n",
              "      <th>Rainfall</th>\n",
              "      <th>Evaporation</th>\n",
              "      <th>Sunshine</th>\n",
              "      <th>WindGustDir</th>\n",
              "      <th>WindGustSpeed</th>\n",
              "      <th>WindDir9am</th>\n",
              "      <th>WindDir3pm</th>\n",
              "      <th>WindSpeed9am</th>\n",
              "      <th>WindSpeed3pm</th>\n",
              "      <th>Humidity9am</th>\n",
              "      <th>Humidity3pm</th>\n",
              "      <th>Pressure9am</th>\n",
              "      <th>Pressure3pm</th>\n",
              "      <th>Cloud9am</th>\n",
              "      <th>Cloud3pm</th>\n",
              "      <th>Temp9am</th>\n",
              "      <th>Temp3pm</th>\n",
              "      <th>RainToday</th>\n",
              "      <th>RainTomorrow</th>\n",
              "    </tr>\n",
              "  </thead>\n",
              "  <tbody>\n",
              "    <tr>\n",
              "      <th>39673</th>\n",
              "      <td>2009-05-16</td>\n",
              "      <td>Williamtown</td>\n",
              "      <td>14.5</td>\n",
              "      <td>23.1</td>\n",
              "      <td>0.0</td>\n",
              "      <td>7.6</td>\n",
              "      <td>8.0</td>\n",
              "      <td>NW</td>\n",
              "      <td>61.0</td>\n",
              "      <td>NW</td>\n",
              "      <td>WNW</td>\n",
              "      <td>31.0</td>\n",
              "      <td>43.0</td>\n",
              "      <td>45.0</td>\n",
              "      <td>42.0</td>\n",
              "      <td>1011.1</td>\n",
              "      <td>1008.9</td>\n",
              "      <td>5.0</td>\n",
              "      <td>NaN</td>\n",
              "      <td>17.7</td>\n",
              "      <td>21.6</td>\n",
              "      <td>No</td>\n",
              "      <td>No</td>\n",
              "    </tr>\n",
              "  </tbody>\n",
              "</table>\n",
              "</div>"
            ],
            "text/plain": [
              "             Date     Location  MinTemp  ...  Temp3pm  RainToday  RainTomorrow\n",
              "39673  2009-05-16  Williamtown     14.5  ...     21.6         No            No\n",
              "\n",
              "[1 rows x 23 columns]"
            ]
          },
          "metadata": {
            "tags": []
          },
          "execution_count": 5
        }
      ]
    },
    {
      "cell_type": "markdown",
      "metadata": {
        "id": "JwFHZtOqvkxU"
      },
      "source": [
        "### Unique values for non-numeric columns"
      ]
    },
    {
      "cell_type": "code",
      "metadata": {
        "colab": {
          "base_uri": "https://localhost:8080/"
        },
        "id": "JLNKQxEOvxBG",
        "outputId": "aee3441c-b341-4aa8-bfc2-b373a9659fe6"
      },
      "source": [
        "for col in weather_df:\n",
        "  if not pd.api.types.is_numeric_dtype(weather_df[col]):\n",
        "    print(\"\\n-------\\nColumn: \"+col+\" [\"+str(len(weather_df[col].unique()))+\" unique values]:\\n\")\n",
        "    print(weather_df[col].unique())"
      ],
      "execution_count": 6,
      "outputs": [
        {
          "output_type": "stream",
          "text": [
            "\n",
            "-------\n",
            "Column: Date [3436 unique values]:\n",
            "\n",
            "['2008-12-01' '2008-12-02' '2008-12-03' ... '2008-01-29' '2008-01-30'\n",
            " '2008-01-31']\n",
            "\n",
            "-------\n",
            "Column: Location [49 unique values]:\n",
            "\n",
            "['Albury' 'BadgerysCreek' 'Cobar' 'CoffsHarbour' 'Moree' 'Newcastle'\n",
            " 'NorahHead' 'NorfolkIsland' 'Penrith' 'Richmond' 'Sydney' 'SydneyAirport'\n",
            " 'WaggaWagga' 'Williamtown' 'Wollongong' 'Canberra' 'Tuggeranong'\n",
            " 'MountGinini' 'Ballarat' 'Bendigo' 'Sale' 'MelbourneAirport' 'Melbourne'\n",
            " 'Mildura' 'Nhil' 'Portland' 'Watsonia' 'Dartmoor' 'Brisbane' 'Cairns'\n",
            " 'GoldCoast' 'Townsville' 'Adelaide' 'MountGambier' 'Nuriootpa' 'Woomera'\n",
            " 'Albany' 'Witchcliffe' 'PearceRAAF' 'PerthAirport' 'Perth' 'SalmonGums'\n",
            " 'Walpole' 'Hobart' 'Launceston' 'AliceSprings' 'Darwin' 'Katherine'\n",
            " 'Uluru']\n",
            "\n",
            "-------\n",
            "Column: WindGustDir [17 unique values]:\n",
            "\n",
            "['W' 'WNW' 'WSW' 'NE' 'NNW' 'N' 'NNE' 'SW' nan 'ENE' 'SSE' 'S' 'NW' 'SE'\n",
            " 'ESE' 'E' 'SSW']\n",
            "\n",
            "-------\n",
            "Column: WindDir9am [17 unique values]:\n",
            "\n",
            "['W' 'NNW' 'SE' 'ENE' 'SW' 'SSE' 'S' 'NE' nan 'SSW' 'N' 'WSW' 'ESE' 'E'\n",
            " 'NW' 'WNW' 'NNE']\n",
            "\n",
            "-------\n",
            "Column: WindDir3pm [17 unique values]:\n",
            "\n",
            "['WNW' 'WSW' 'E' 'NW' 'W' 'SSE' 'ESE' 'ENE' 'NNW' 'SSW' 'SW' 'SE' 'N' 'S'\n",
            " 'NNE' nan 'NE']\n",
            "\n",
            "-------\n",
            "Column: RainToday [3 unique values]:\n",
            "\n",
            "['No' 'Yes' nan]\n",
            "\n",
            "-------\n",
            "Column: RainTomorrow [3 unique values]:\n",
            "\n",
            "['No' 'Yes' nan]\n"
          ],
          "name": "stdout"
        }
      ]
    },
    {
      "cell_type": "markdown",
      "metadata": {
        "id": "uNAlhF_nW00m"
      },
      "source": [
        "So there are 3436 days of observation in the dataset."
      ]
    },
    {
      "cell_type": "markdown",
      "metadata": {
        "id": "2QxWYwWkR-1L"
      },
      "source": [
        "### Check for duplicated rows"
      ]
    },
    {
      "cell_type": "code",
      "metadata": {
        "colab": {
          "base_uri": "https://localhost:8080/"
        },
        "id": "UWZFBm81R-O2",
        "outputId": "3968af65-d1cc-42f1-ffae-e62c06ca2921"
      },
      "source": [
        "# Check if exists duplicated rows based on all columns\n",
        "duplicateRowsDF = weather_df[weather_df.duplicated()]\n",
        "if len(duplicateRowsDF)!=0: print(\"Identical rows were found!\")\n",
        "\n",
        "# Check if exists is duplicated rows based on 'Date' column\n",
        "duplicateRowsDF = weather_df[weather_df.duplicated(['Date'])]\n",
        "if len(duplicateRowsDF)!=0: \n",
        "  print(len(duplicateRowsDF),\"rows with the same Date were found.\\n\")\n",
        "\n",
        "# Check if exists is duplicated rows based on 'Date' and 'Location' columns\n",
        "duplicateRowsDF = weather_df[weather_df.duplicated(['Date','Location'])]\n",
        "if len(duplicateRowsDF)!=0: \n",
        "  print(len(duplicateRowsDF),\"rows with the same Date and Location were found.\\n\")"
      ],
      "execution_count": 7,
      "outputs": [
        {
          "output_type": "stream",
          "text": [
            "142024 rows with the same Date were found.\n",
            "\n"
          ],
          "name": "stdout"
        }
      ]
    },
    {
      "cell_type": "markdown",
      "metadata": {
        "id": "pE04PyDszMUE"
      },
      "source": [
        "### Convert Date to datetime"
      ]
    },
    {
      "cell_type": "code",
      "metadata": {
        "id": "I2SMRC11zRk6"
      },
      "source": [
        "weather_df['Date'] = pd.to_datetime(weather_df['Date'])"
      ],
      "execution_count": 8,
      "outputs": []
    },
    {
      "cell_type": "markdown",
      "metadata": {
        "id": "FOrX2IccWd_a"
      },
      "source": [
        "### Wind Cardinal directions (string) to Degrees (float)"
      ]
    },
    {
      "cell_type": "code",
      "metadata": {
        "id": "O6jHeV_aW2-A"
      },
      "source": [
        "weather_df['WindGustDir'] = weather_df['WindGustDir'].apply(lambda w: portolan.middle(str(w)) if str(w)!='nan' else w)\n",
        "weather_df['WindDir9am'] = weather_df['WindDir9am'].apply(lambda w: portolan.middle(str(w)) if str(w)!='nan' else w)\n",
        "weather_df['WindDir3pm'] = weather_df['WindDir3pm'].apply(lambda w: portolan.middle(str(w)) if str(w)!='nan' else w)"
      ],
      "execution_count": 9,
      "outputs": []
    },
    {
      "cell_type": "markdown",
      "metadata": {
        "id": "Savqoh3XW3fV"
      },
      "source": [
        "### Map 'Yes' and 'No' to infer boolean values\n"
      ]
    },
    {
      "cell_type": "code",
      "metadata": {
        "id": "VJUyk8KOW9vr"
      },
      "source": [
        "weather_df.RainToday = weather_df.RainToday.map(dict(Yes=1, No=0))\n",
        "weather_df.RainTomorrow = weather_df.RainTomorrow.map(dict(Yes=1, No=0))"
      ],
      "execution_count": 10,
      "outputs": []
    },
    {
      "cell_type": "markdown",
      "metadata": {
        "id": "gGnZy4YdvU6i"
      },
      "source": [
        "### Add YEAR, MONTH and DAY columns"
      ]
    },
    {
      "cell_type": "code",
      "metadata": {
        "id": "ZRaElrBbvpDH"
      },
      "source": [
        "weather_df['year'] = weather_df.Date.dt.year\n",
        "weather_df['month'] = weather_df.Date.dt.month\n",
        "weather_df['day'] = weather_df.Date.dt.day\n",
        "\n",
        "# Drop the Date column\n",
        "# It is now replaced by year, month and day columns\n",
        "weather_df.drop(['Date'], axis=1, inplace=True)"
      ],
      "execution_count": 11,
      "outputs": []
    },
    {
      "cell_type": "markdown",
      "metadata": {
        "id": "XOGrY_-_Fkoo"
      },
      "source": [
        "### Add latitude and longitude columns"
      ]
    },
    {
      "cell_type": "code",
      "metadata": {
        "colab": {
          "base_uri": "https://localhost:8080/"
        },
        "id": "R_gki7EEFjLl",
        "outputId": "b9f3b4cb-a5b1-44d3-92c1-1f134a08b22e"
      },
      "source": [
        "locator = Nominatim(user_agent=\"weather-guru\")\n",
        "# conveneint function to delay between geocoding calls\n",
        "geocode = RateLimiter(locator.geocode, min_delay_seconds=1)\n",
        "\n",
        "# 1 - List the unique values of Location, to further improve performance\n",
        "unique_locations = pd.DataFrame()\n",
        "unique_locations['description'] = weather_df['Location'].unique()\n",
        "unique_locations['id'] = weather_df['Location'].unique()\n",
        "unique_locations.set_index(['id'], inplace = True)\n",
        "print(\"Total unique locations: {}\".format(len(unique_locations)))\n",
        "\n",
        "# Add 'rainfall/day' column\n",
        "unique_locations['days'] = weather_df['Location'].value_counts().values\n",
        "unique_locations['rainfall'] = weather_df.groupby(['Location']).sum()['Rainfall'].values\n",
        "unique_locations['rainfall/day'] = unique_locations['rainfall']/unique_locations['days']\n",
        "\n",
        "# Separate CamelCase with space to allow geocode to find the location\n",
        "unique_locations['description'] = unique_locations['description'].apply(lambda loc: re.sub('([A-Z][a-z]+)', r' \\1', re.sub('([A-Z]+)', r' \\1', loc)))\n",
        "# Add the country to the Location in order to avoid misunderstandings\n",
        "unique_locations['description'] = unique_locations['description'].apply(lambda loc: loc + ', Australia')\n",
        "\n",
        "# 2- create improved location column (gcode)\n",
        "print(\"Searching for locations...\")\n",
        "unique_locations['gcode'] =  unique_locations['description'].apply(partial(geocode, addressdetails=True))\n",
        "\n",
        "# 3 - create point (longitude, latitude and altitude) from gcode (location) column (returns tuple)\n",
        "unique_locations['point'] = unique_locations['gcode'].apply(lambda loc: tuple(loc.point) if loc else None)\n",
        "\n",
        "# 4 - split point column into latitude, longitude and altitude columns\n",
        "unique_locations[['latitude', 'longitude', 'altitude']] = pd.DataFrame(unique_locations['point'].tolist(), index=unique_locations.index)\n",
        "\n",
        "# Verify if all the locations were found\n",
        "if not unique_locations['gcode'].isnull().any(): \n",
        "  print(\"All the locations were found!\")\n",
        "else: \n",
        "  print(\"The current locations were not found:\")\n",
        "  print(unique_locations[unique_locations['gcode'].isnull()])\n",
        "\n",
        "# Verify if all the found locations are from Australia\n",
        "unique_locations['country'] = unique_locations['gcode'].apply(lambda loc: (loc.raw.get('address').get('country')) if loc else None)\n",
        "if unique_locations['country'].str.contains('Australia').all():\n",
        "  print(\"All the found locations are from Australia\")\n",
        "\n",
        "def get_lat_lon_alt_from_location(location_name):\n",
        "  location_data = unique_locations.loc[location_name]\n",
        "  lat = location_data['latitude']\n",
        "  lon = location_data['longitude']\n",
        "  alt = location_data['altitude']\n",
        "  return lat,lon,alt\n",
        "\n",
        "print(\"Adding latitude, longitude and altitude columns to the dataset...\")\n",
        "weather_df[['latitude', 'longitude', 'altitude']] = list(weather_df['Location'].apply(get_lat_lon_alt_from_location))\n",
        "\n",
        "# Drop the Location column\n",
        "# It is now replaced by latitude, longitude and altitude columns\n",
        "weather_df.drop(['Location'], axis=1, inplace=True)\n"
      ],
      "execution_count": 12,
      "outputs": [
        {
          "output_type": "stream",
          "text": [
            "Total unique locations: 49\n",
            "Searching for locations...\n",
            "All the locations were found!\n",
            "All the found locations are from Australia\n",
            "Adding latitude, longitude and altitude columns to the dataset...\n"
          ],
          "name": "stdout"
        }
      ]
    },
    {
      "cell_type": "markdown",
      "metadata": {
        "id": "g2G3uSI5dUey"
      },
      "source": [
        "### Plot map (just for fun)"
      ]
    },
    {
      "cell_type": "code",
      "metadata": {
        "colab": {
          "base_uri": "https://localhost:8080/",
          "height": 542
        },
        "id": "GTUMsvLtgNRK",
        "outputId": "bfe1f882-a0d3-47d3-b128-e3e1f2e90a60"
      },
      "source": [
        "# Plot map\n",
        "fig = px.scatter_geo(unique_locations,lat='latitude',lon='longitude', hover_name=\"description\", color='rainfall/day')\n",
        "fig.update_layout(title = 'Locations in the dataset', title_x=0.5)\n",
        "fig.show()"
      ],
      "execution_count": 13,
      "outputs": [
        {
          "output_type": "display_data",
          "data": {
            "text/html": [
              "<html>\n",
              "<head><meta charset=\"utf-8\" /></head>\n",
              "<body>\n",
              "    <div>\n",
              "            <script src=\"https://cdnjs.cloudflare.com/ajax/libs/mathjax/2.7.5/MathJax.js?config=TeX-AMS-MML_SVG\"></script><script type=\"text/javascript\">if (window.MathJax) {MathJax.Hub.Config({SVG: {font: \"STIX-Web\"}});}</script>\n",
              "                <script type=\"text/javascript\">window.PlotlyConfig = {MathJaxConfig: 'local'};</script>\n",
              "        <script src=\"https://cdn.plot.ly/plotly-latest.min.js\"></script>    \n",
              "            <div id=\"c3339ddd-19f1-4002-918c-3e8470c7b518\" class=\"plotly-graph-div\" style=\"height:525px; width:100%;\"></div>\n",
              "            <script type=\"text/javascript\">\n",
              "                \n",
              "                    window.PLOTLYENV=window.PLOTLYENV || {};\n",
              "                    \n",
              "                if (document.getElementById(\"c3339ddd-19f1-4002-918c-3e8470c7b518\")) {\n",
              "                    Plotly.newPlot(\n",
              "                        'c3339ddd-19f1-4002-918c-3e8470c7b518',\n",
              "                        [{\"geo\": \"geo\", \"hoverlabel\": {\"namelength\": 0}, \"hovertemplate\": \"<b>%{hovertext}</b><br><br>latitude=%{lat}<br>longitude=%{lon}<br>rainfall/day=%{marker.color}\", \"hovertext\": [\"  Albury, Australia\", \"  Badgerys  Creek, Australia\", \"  Cobar, Australia\", \"  Coffs  Harbour, Australia\", \"  Moree, Australia\", \"  Newcastle, Australia\", \"  Norah  Head, Australia\", \"  Norfolk  Island, Australia\", \"  Penrith, Australia\", \"  Richmond, Australia\", \"  Sydney, Australia\", \"  Sydney  Airport, Australia\", \"  Wagga  Wagga, Australia\", \"  Williamtown, Australia\", \"  Wollongong, Australia\", \"  Canberra, Australia\", \"  Tuggeranong, Australia\", \"  Mount  Ginini, Australia\", \"  Ballarat, Australia\", \"  Bendigo, Australia\", \"  Sale, Australia\", \"  Melbourne  Airport, Australia\", \"  Melbourne, Australia\", \"  Mildura, Australia\", \"  Nhil, Australia\", \"  Portland, Australia\", \"  Watsonia, Australia\", \"  Dartmoor, Australia\", \"  Brisbane, Australia\", \"  Cairns, Australia\", \"  Gold  Coast, Australia\", \"  Townsville, Australia\", \"  Adelaide, Australia\", \"  Mount  Gambier, Australia\", \"  Nuriootpa, Australia\", \"  Woomera, Australia\", \"  Albany, Australia\", \"  Witchcliffe, Australia\", \"  Pearce RAAF, Australia\", \"  Perth  Airport, Australia\", \"  Perth, Australia\", \"  Salmon  Gums, Australia\", \"  Walpole, Australia\", \"  Hobart, Australia\", \"  Launceston, Australia\", \"  Alice  Springs, Australia\", \"  Darwin, Australia\", \"  Katherine, Australia\", \"  Uluru, Australia\"], \"lat\": [-36.0804766, -33.8816671, -31.4983333, -30.2962407, -29.4617202, -32.9192953, -33.2816667, -29.0289575, -33.7510792, -20.569655, -33.8548157, -33.9498935, -35.115, -32.815, -34.4243941, -35.2975906, -35.4209771, -35.5297196, -37.5622632, -36.7588767, -38.1050358, -37.667111000000006, -37.8142176, -34.1847265, -35.4325283, -38.3456231, -37.7110022, -37.9225444, -27.4689682, -16.9206657, -28.0023731, -19.2569391, -34.9281805, -37.8246698, -34.4693354, -31.1999142, -35.0247822, -34.0263348, -31.6739604, -31.9406095, -31.9527121, -32.9815347, -34.9776796, -42.8825088, -41.4340813, -23.6983884, -12.46044, -14.4642313, -25.3455545], \"legendgroup\": \"\", \"lon\": [146.9162795, 150.7441627, 145.8344444, 153.1135293, 149.8407153, 151.7795348, 151.5677778, 167.9587289126371, 150.6941684, 142.9283602143393, 151.2164539, 151.18196819346016, 147.3677778, 151.8427778, 150.89385, 149.1012676, 149.0921341, 148.7726345, 143.8607215, 144.2825931, 147.0647902, 144.83348076679553, 144.9631608, 142.1624972, 141.2833187, 141.6042304, 145.083635, 141.2766551, 153.0234991, 145.7721854, 153.4145987, 146.8239537, 138.5999312, 140.7820067624113, 138.9939006, 136.8253532, 117.883608, 115.1004768, 116.01754351808195, 115.96760765137932, 115.8604796, 121.6439417, 116.7310063, 147.3281233, 147.1373496, 133.8812885, 130.8410469, 132.2638568, 131.03696147470208], \"marker\": {\"color\": [1.409080325960418, 2.0418062200956872, 1.8050109614782262, 0.8383338553084874, 2.011086752270583, 1.650109614782324, 1.5387409959285834, 3.1133730034450404, 5.643815789473699, 1.9582894736842016, 1.1080263157894723, 4.916644736842121, 2.0773684210526193, 5.348750000000006, 3.6950000000000105, 1.6798026315789405, 1.6426644736842104, 2.0040460526315753, 1.4978947368421027, 1.4371710526315757, 0.9351102336294838, 1.5309641329384647, 2.082066469233286, 3.180658025922229, 3.1267530741110043, 0.4874709205716201, 3.2972416085078127, 3.0808906613492804, 1.3875706214689234, 1.5320704553007614, 2.142771684945152, 2.022864739115981, 1.7616483881688256, 2.519441674975064, 2.097241608507798, 1.505649717514116, 1.015819209039546, 3.686939182452635, 3.0059155865736154, 3.5133931538717187, 2.1561316051844432, 0.39674310402126967, 1.6911930874044487, 2.726014637391873, 1.8577230359520582, 3.055014995001665, 5.416983523447395, 6.793409378960716, 0.9295310519645137], \"coloraxis\": \"coloraxis\"}, \"name\": \"\", \"showlegend\": false, \"type\": \"scattergeo\"}],\n",
              "                        {\"coloraxis\": {\"colorbar\": {\"title\": {\"text\": \"rainfall/day\"}}, \"colorscale\": [[0.0, \"#0d0887\"], [0.1111111111111111, \"#46039f\"], [0.2222222222222222, \"#7201a8\"], [0.3333333333333333, \"#9c179e\"], [0.4444444444444444, \"#bd3786\"], [0.5555555555555556, \"#d8576b\"], [0.6666666666666666, \"#ed7953\"], [0.7777777777777778, \"#fb9f3a\"], [0.8888888888888888, \"#fdca26\"], [1.0, \"#f0f921\"]]}, \"geo\": {\"center\": {}, \"domain\": {\"x\": [0.0, 1.0], \"y\": [0.0, 1.0]}}, \"legend\": {\"tracegroupgap\": 0}, \"margin\": {\"t\": 60}, \"template\": {\"data\": {\"bar\": [{\"error_x\": {\"color\": \"#2a3f5f\"}, \"error_y\": {\"color\": \"#2a3f5f\"}, \"marker\": {\"line\": {\"color\": \"#E5ECF6\", \"width\": 0.5}}, \"type\": \"bar\"}], \"barpolar\": [{\"marker\": {\"line\": {\"color\": \"#E5ECF6\", \"width\": 0.5}}, \"type\": \"barpolar\"}], \"carpet\": [{\"aaxis\": {\"endlinecolor\": \"#2a3f5f\", \"gridcolor\": \"white\", \"linecolor\": \"white\", \"minorgridcolor\": \"white\", \"startlinecolor\": \"#2a3f5f\"}, \"baxis\": {\"endlinecolor\": \"#2a3f5f\", \"gridcolor\": \"white\", \"linecolor\": \"white\", \"minorgridcolor\": \"white\", \"startlinecolor\": \"#2a3f5f\"}, \"type\": \"carpet\"}], \"choropleth\": [{\"colorbar\": {\"outlinewidth\": 0, \"ticks\": \"\"}, \"type\": \"choropleth\"}], \"contour\": [{\"colorbar\": {\"outlinewidth\": 0, \"ticks\": \"\"}, \"colorscale\": [[0.0, \"#0d0887\"], [0.1111111111111111, \"#46039f\"], [0.2222222222222222, \"#7201a8\"], [0.3333333333333333, \"#9c179e\"], [0.4444444444444444, \"#bd3786\"], [0.5555555555555556, \"#d8576b\"], [0.6666666666666666, \"#ed7953\"], [0.7777777777777778, \"#fb9f3a\"], [0.8888888888888888, \"#fdca26\"], [1.0, \"#f0f921\"]], \"type\": \"contour\"}], \"contourcarpet\": [{\"colorbar\": {\"outlinewidth\": 0, \"ticks\": \"\"}, \"type\": \"contourcarpet\"}], \"heatmap\": [{\"colorbar\": {\"outlinewidth\": 0, \"ticks\": \"\"}, \"colorscale\": [[0.0, \"#0d0887\"], [0.1111111111111111, \"#46039f\"], [0.2222222222222222, \"#7201a8\"], [0.3333333333333333, \"#9c179e\"], [0.4444444444444444, \"#bd3786\"], [0.5555555555555556, \"#d8576b\"], [0.6666666666666666, \"#ed7953\"], [0.7777777777777778, \"#fb9f3a\"], [0.8888888888888888, \"#fdca26\"], [1.0, \"#f0f921\"]], \"type\": \"heatmap\"}], \"heatmapgl\": [{\"colorbar\": {\"outlinewidth\": 0, \"ticks\": \"\"}, \"colorscale\": [[0.0, \"#0d0887\"], [0.1111111111111111, \"#46039f\"], [0.2222222222222222, \"#7201a8\"], [0.3333333333333333, \"#9c179e\"], [0.4444444444444444, \"#bd3786\"], [0.5555555555555556, \"#d8576b\"], [0.6666666666666666, \"#ed7953\"], [0.7777777777777778, \"#fb9f3a\"], [0.8888888888888888, \"#fdca26\"], [1.0, \"#f0f921\"]], \"type\": \"heatmapgl\"}], \"histogram\": [{\"marker\": {\"colorbar\": {\"outlinewidth\": 0, \"ticks\": \"\"}}, \"type\": \"histogram\"}], \"histogram2d\": [{\"colorbar\": {\"outlinewidth\": 0, \"ticks\": \"\"}, \"colorscale\": [[0.0, \"#0d0887\"], [0.1111111111111111, \"#46039f\"], [0.2222222222222222, \"#7201a8\"], [0.3333333333333333, \"#9c179e\"], [0.4444444444444444, \"#bd3786\"], [0.5555555555555556, \"#d8576b\"], [0.6666666666666666, \"#ed7953\"], [0.7777777777777778, \"#fb9f3a\"], [0.8888888888888888, \"#fdca26\"], [1.0, \"#f0f921\"]], \"type\": \"histogram2d\"}], \"histogram2dcontour\": [{\"colorbar\": {\"outlinewidth\": 0, \"ticks\": \"\"}, \"colorscale\": [[0.0, \"#0d0887\"], [0.1111111111111111, \"#46039f\"], [0.2222222222222222, \"#7201a8\"], [0.3333333333333333, \"#9c179e\"], [0.4444444444444444, \"#bd3786\"], [0.5555555555555556, \"#d8576b\"], [0.6666666666666666, \"#ed7953\"], [0.7777777777777778, \"#fb9f3a\"], [0.8888888888888888, \"#fdca26\"], [1.0, \"#f0f921\"]], \"type\": \"histogram2dcontour\"}], \"mesh3d\": [{\"colorbar\": {\"outlinewidth\": 0, \"ticks\": \"\"}, \"type\": \"mesh3d\"}], \"parcoords\": [{\"line\": {\"colorbar\": {\"outlinewidth\": 0, \"ticks\": \"\"}}, \"type\": \"parcoords\"}], \"pie\": [{\"automargin\": true, \"type\": \"pie\"}], \"scatter\": [{\"marker\": {\"colorbar\": {\"outlinewidth\": 0, \"ticks\": \"\"}}, \"type\": \"scatter\"}], \"scatter3d\": [{\"line\": {\"colorbar\": {\"outlinewidth\": 0, \"ticks\": \"\"}}, \"marker\": {\"colorbar\": {\"outlinewidth\": 0, \"ticks\": \"\"}}, \"type\": \"scatter3d\"}], \"scattercarpet\": [{\"marker\": {\"colorbar\": {\"outlinewidth\": 0, \"ticks\": \"\"}}, \"type\": \"scattercarpet\"}], \"scattergeo\": [{\"marker\": {\"colorbar\": {\"outlinewidth\": 0, \"ticks\": \"\"}}, \"type\": \"scattergeo\"}], \"scattergl\": [{\"marker\": {\"colorbar\": {\"outlinewidth\": 0, \"ticks\": \"\"}}, \"type\": \"scattergl\"}], \"scattermapbox\": [{\"marker\": {\"colorbar\": {\"outlinewidth\": 0, \"ticks\": \"\"}}, \"type\": \"scattermapbox\"}], \"scatterpolar\": [{\"marker\": {\"colorbar\": {\"outlinewidth\": 0, \"ticks\": \"\"}}, \"type\": \"scatterpolar\"}], \"scatterpolargl\": [{\"marker\": {\"colorbar\": {\"outlinewidth\": 0, \"ticks\": \"\"}}, \"type\": \"scatterpolargl\"}], \"scatterternary\": [{\"marker\": {\"colorbar\": {\"outlinewidth\": 0, \"ticks\": \"\"}}, \"type\": \"scatterternary\"}], \"surface\": [{\"colorbar\": {\"outlinewidth\": 0, \"ticks\": \"\"}, \"colorscale\": [[0.0, \"#0d0887\"], [0.1111111111111111, \"#46039f\"], [0.2222222222222222, \"#7201a8\"], [0.3333333333333333, \"#9c179e\"], [0.4444444444444444, \"#bd3786\"], [0.5555555555555556, \"#d8576b\"], [0.6666666666666666, \"#ed7953\"], [0.7777777777777778, \"#fb9f3a\"], [0.8888888888888888, \"#fdca26\"], [1.0, \"#f0f921\"]], \"type\": \"surface\"}], \"table\": [{\"cells\": {\"fill\": {\"color\": \"#EBF0F8\"}, \"line\": {\"color\": \"white\"}}, \"header\": {\"fill\": {\"color\": \"#C8D4E3\"}, \"line\": {\"color\": \"white\"}}, \"type\": \"table\"}]}, \"layout\": {\"annotationdefaults\": {\"arrowcolor\": \"#2a3f5f\", \"arrowhead\": 0, \"arrowwidth\": 1}, \"coloraxis\": {\"colorbar\": {\"outlinewidth\": 0, \"ticks\": \"\"}}, \"colorscale\": {\"diverging\": [[0, \"#8e0152\"], [0.1, \"#c51b7d\"], [0.2, \"#de77ae\"], [0.3, \"#f1b6da\"], [0.4, \"#fde0ef\"], [0.5, \"#f7f7f7\"], [0.6, \"#e6f5d0\"], [0.7, \"#b8e186\"], [0.8, \"#7fbc41\"], [0.9, \"#4d9221\"], [1, \"#276419\"]], \"sequential\": [[0.0, \"#0d0887\"], [0.1111111111111111, \"#46039f\"], [0.2222222222222222, \"#7201a8\"], [0.3333333333333333, \"#9c179e\"], [0.4444444444444444, \"#bd3786\"], [0.5555555555555556, \"#d8576b\"], [0.6666666666666666, \"#ed7953\"], [0.7777777777777778, \"#fb9f3a\"], [0.8888888888888888, \"#fdca26\"], [1.0, \"#f0f921\"]], \"sequentialminus\": [[0.0, \"#0d0887\"], [0.1111111111111111, \"#46039f\"], [0.2222222222222222, \"#7201a8\"], [0.3333333333333333, \"#9c179e\"], [0.4444444444444444, \"#bd3786\"], [0.5555555555555556, \"#d8576b\"], [0.6666666666666666, \"#ed7953\"], [0.7777777777777778, \"#fb9f3a\"], [0.8888888888888888, \"#fdca26\"], [1.0, \"#f0f921\"]]}, \"colorway\": [\"#636efa\", \"#EF553B\", \"#00cc96\", \"#ab63fa\", \"#FFA15A\", \"#19d3f3\", \"#FF6692\", \"#B6E880\", \"#FF97FF\", \"#FECB52\"], \"font\": {\"color\": \"#2a3f5f\"}, \"geo\": {\"bgcolor\": \"white\", \"lakecolor\": \"white\", \"landcolor\": \"#E5ECF6\", \"showlakes\": true, \"showland\": true, \"subunitcolor\": \"white\"}, \"hoverlabel\": {\"align\": \"left\"}, \"hovermode\": \"closest\", \"mapbox\": {\"style\": \"light\"}, \"paper_bgcolor\": \"white\", \"plot_bgcolor\": \"#E5ECF6\", \"polar\": {\"angularaxis\": {\"gridcolor\": \"white\", \"linecolor\": \"white\", \"ticks\": \"\"}, \"bgcolor\": \"#E5ECF6\", \"radialaxis\": {\"gridcolor\": \"white\", \"linecolor\": \"white\", \"ticks\": \"\"}}, \"scene\": {\"xaxis\": {\"backgroundcolor\": \"#E5ECF6\", \"gridcolor\": \"white\", \"gridwidth\": 2, \"linecolor\": \"white\", \"showbackground\": true, \"ticks\": \"\", \"zerolinecolor\": \"white\"}, \"yaxis\": {\"backgroundcolor\": \"#E5ECF6\", \"gridcolor\": \"white\", \"gridwidth\": 2, \"linecolor\": \"white\", \"showbackground\": true, \"ticks\": \"\", \"zerolinecolor\": \"white\"}, \"zaxis\": {\"backgroundcolor\": \"#E5ECF6\", \"gridcolor\": \"white\", \"gridwidth\": 2, \"linecolor\": \"white\", \"showbackground\": true, \"ticks\": \"\", \"zerolinecolor\": \"white\"}}, \"shapedefaults\": {\"line\": {\"color\": \"#2a3f5f\"}}, \"ternary\": {\"aaxis\": {\"gridcolor\": \"white\", \"linecolor\": \"white\", \"ticks\": \"\"}, \"baxis\": {\"gridcolor\": \"white\", \"linecolor\": \"white\", \"ticks\": \"\"}, \"bgcolor\": \"#E5ECF6\", \"caxis\": {\"gridcolor\": \"white\", \"linecolor\": \"white\", \"ticks\": \"\"}}, \"title\": {\"x\": 0.05}, \"xaxis\": {\"automargin\": true, \"gridcolor\": \"white\", \"linecolor\": \"white\", \"ticks\": \"\", \"title\": {\"standoff\": 15}, \"zerolinecolor\": \"white\", \"zerolinewidth\": 2}, \"yaxis\": {\"automargin\": true, \"gridcolor\": \"white\", \"linecolor\": \"white\", \"ticks\": \"\", \"title\": {\"standoff\": 15}, \"zerolinecolor\": \"white\", \"zerolinewidth\": 2}}}, \"title\": {\"text\": \"Locations in the dataset\", \"x\": 0.5}},\n",
              "                        {\"responsive\": true}\n",
              "                    ).then(function(){\n",
              "                            \n",
              "var gd = document.getElementById('c3339ddd-19f1-4002-918c-3e8470c7b518');\n",
              "var x = new MutationObserver(function (mutations, observer) {{\n",
              "        var display = window.getComputedStyle(gd).display;\n",
              "        if (!display || display === 'none') {{\n",
              "            console.log([gd, 'removed!']);\n",
              "            Plotly.purge(gd);\n",
              "            observer.disconnect();\n",
              "        }}\n",
              "}});\n",
              "\n",
              "// Listen for the removal of the full notebook cells\n",
              "var notebookContainer = gd.closest('#notebook-container');\n",
              "if (notebookContainer) {{\n",
              "    x.observe(notebookContainer, {childList: true});\n",
              "}}\n",
              "\n",
              "// Listen for the clearing of the current output cell\n",
              "var outputEl = gd.closest('.output');\n",
              "if (outputEl) {{\n",
              "    x.observe(outputEl, {childList: true});\n",
              "}}\n",
              "\n",
              "                        })\n",
              "                };\n",
              "                \n",
              "            </script>\n",
              "        </div>\n",
              "</body>\n",
              "</html>"
            ]
          },
          "metadata": {
            "tags": []
          }
        }
      ]
    },
    {
      "cell_type": "markdown",
      "metadata": {
        "id": "bDHSkiBaXPM2"
      },
      "source": [
        "### Reorder columns"
      ]
    },
    {
      "cell_type": "code",
      "metadata": {
        "id": "2kq0L3IhTx_G"
      },
      "source": [
        "# Reorder columns\n",
        "initial_columns = ['year','month','day','latitude','longitude','altitude']\n",
        "target_column = [TARGET_NAME]\n",
        "middle_columns = [col for col in weather_df.columns if col not in initial_columns and col not in target_column]\n",
        "columns_reordered = initial_columns + middle_columns + target_column\n",
        "\n",
        "weather_df =  weather_df[columns_reordered]"
      ],
      "execution_count": 14,
      "outputs": []
    },
    {
      "cell_type": "markdown",
      "metadata": {
        "id": "r909dR3tW_gG"
      },
      "source": [
        "### Proceed with data type conversion"
      ]
    },
    {
      "cell_type": "code",
      "metadata": {
        "id": "Cj8xgLJbW8Yg"
      },
      "source": [
        "# Convert data types\n",
        "weather_df = weather_df.convert_dtypes()"
      ],
      "execution_count": 15,
      "outputs": []
    },
    {
      "cell_type": "markdown",
      "metadata": {
        "id": "lXdct1vWuqUk"
      },
      "source": [
        "## Data Cleaning"
      ]
    },
    {
      "cell_type": "markdown",
      "metadata": {
        "id": "LkyUBpXfn_-K"
      },
      "source": [
        "### Remove rows with null values in the target column"
      ]
    },
    {
      "cell_type": "code",
      "metadata": {
        "colab": {
          "base_uri": "https://localhost:8080/"
        },
        "id": "a0LuiPD0oXZp",
        "outputId": "37f8d427-8e0e-4baf-dca1-fc44e904fafa"
      },
      "source": [
        "# There are null values (nan) in the RainTomorrow column\n",
        "print(\"Before:\\n  Unique values in the RainTomorrow column: \", weather_df.RainTomorrow.unique())\n",
        "rows_before = len(weather_df)\n",
        "print(\" Total number of rows: [\", rows_before, \"]\")\n",
        "# Select only the not-null rows\n",
        "weather_df = weather_df[weather_df.RainTomorrow.notna()]\n",
        "print(\"\\nAfter:\\n  Unique values in the RainTomorrow column: \", weather_df.RainTomorrow.unique())\n",
        "rows_after = len(weather_df)\n",
        "print(\" Total number of rows: [\", rows_after, \"] (\", (rows_before-rows_after) , \" rows removed )\")"
      ],
      "execution_count": 16,
      "outputs": [
        {
          "output_type": "stream",
          "text": [
            "Before:\n",
            "  Unique values in the RainTomorrow column:  <IntegerArray>\n",
            "[0, 1, <NA>]\n",
            "Length: 3, dtype: Int64\n",
            " Total number of rows: [ 145460 ]\n",
            "\n",
            "After:\n",
            "  Unique values in the RainTomorrow column:  <IntegerArray>\n",
            "[0, 1]\n",
            "Length: 2, dtype: Int64\n",
            " Total number of rows: [ 142193 ] ( 3267  rows removed )\n"
          ],
          "name": "stdout"
        }
      ]
    },
    {
      "cell_type": "markdown",
      "metadata": {
        "id": "aLV0A4-Q-mXA"
      },
      "source": [
        "### Ensure all data is float"
      ]
    },
    {
      "cell_type": "code",
      "metadata": {
        "id": "-qBP3-JdSWWZ"
      },
      "source": [
        "for col in weather_df.columns:\n",
        "  weather_df[col] = weather_df[col].astype('float32')"
      ],
      "execution_count": 17,
      "outputs": []
    },
    {
      "cell_type": "markdown",
      "metadata": {
        "id": "L57w3hL2Jbz_"
      },
      "source": [
        "### Filling missing values "
      ]
    },
    {
      "cell_type": "code",
      "metadata": {
        "id": "93HCf9dkNk9w"
      },
      "source": [
        "imputer = SimpleImputer(missing_values=np.nan, strategy='mean')\n",
        "# transform the datasetimputer.fit_transform(values)\n",
        "weather_df_transformed = pd.DataFrame(imputer.fit_transform(weather_df))\n",
        "weather_df_transformed.columns = weather_df.columns\n",
        "weather_df_transformed.index = weather_df.index\n",
        "\n",
        "weather_df = weather_df_transformed"
      ],
      "execution_count": 18,
      "outputs": []
    },
    {
      "cell_type": "markdown",
      "metadata": {
        "id": "RPyoYdgh4CzG"
      },
      "source": [
        "### Correlation"
      ]
    },
    {
      "cell_type": "code",
      "metadata": {
        "colab": {
          "base_uri": "https://localhost:8080/",
          "height": 833
        },
        "id": "IUVz16Q44E2y",
        "outputId": "1ab40680-16d9-4a3c-b401-f14c12a16133"
      },
      "source": [
        "f = plt.figure(figsize=(20, 17))\n",
        "plt.matshow(weather_df.corr(), fignum=f.number)\n",
        "plt.xticks(range(weather_df.select_dtypes(['number']).shape[1]), weather_df.select_dtypes(['number']).columns, fontsize=14, rotation=90)\n",
        "plt.yticks(range(weather_df.select_dtypes(['number']).shape[1]), weather_df.select_dtypes(['number']).columns, fontsize=14)\n",
        "cb = plt.colorbar()\n",
        "cb.ax.tick_params(labelsize=17)\n",
        "plt.title('Correlation Matrix', fontsize=16, pad=90);"
      ],
      "execution_count": 19,
      "outputs": [
        {
          "output_type": "display_data",
          "data": {
            "image/png": "[encoded data removed]",
            "text/plain": [
              "<Figure size 1440x1224 with 2 Axes>"
            ]
          },
          "metadata": {
            "tags": [],
            "needs_background": "light"
          }
        }
      ]
    },
    {
      "cell_type": "markdown",
      "metadata": {
        "id": "dU_jnEU8ghfy"
      },
      "source": [
        "## Feature engineering"
      ]
    },
    {
      "cell_type": "code",
      "metadata": {
        "id": "sCV0JY-di8TM"
      },
      "source": [
        "values = weather_df.values"
      ],
      "execution_count": 20,
      "outputs": []
    },
    {
      "cell_type": "code",
      "metadata": {
        "colab": {
          "base_uri": "https://localhost:8080/"
        },
        "id": "7e7rcAkJkp_y",
        "outputId": "1ccc3dfd-3848-483c-9d62-2ddd92d71505"
      },
      "source": [
        "# Number of features is the number of columns except the target column\n",
        "NUM_FEATURES = len(weather_df.columns)-1\n",
        "NUM_FEATURES"
      ],
      "execution_count": 21,
      "outputs": [
        {
          "output_type": "execute_result",
          "data": {
            "text/plain": [
              "26"
            ]
          },
          "metadata": {
            "tags": []
          },
          "execution_count": 21
        }
      ]
    },
    {
      "cell_type": "markdown",
      "metadata": {
        "id": "keMPn3eh78VI"
      },
      "source": [
        "### Normalize features"
      ]
    },
    {
      "cell_type": "code",
      "metadata": {
        "id": "J4o16e7y8BNq"
      },
      "source": [
        "scaler = MinMaxScaler(feature_range=(0, 1))\n",
        "values = scaler.fit_transform(values)"
      ],
      "execution_count": 22,
      "outputs": []
    },
    {
      "cell_type": "markdown",
      "metadata": {
        "id": "EuLEeNLg_5PA"
      },
      "source": [
        "### Split into input and outputs"
      ]
    },
    {
      "cell_type": "code",
      "metadata": {
        "colab": {
          "base_uri": "https://localhost:8080/"
        },
        "id": "UvhtBiFvpel0",
        "outputId": "6cfbf0a8-877e-4b27-c23f-6bf0d9a48646"
      },
      "source": [
        "target_col_idx = weather_df.columns.get_loc(TARGET_NAME)\n",
        "\n",
        "X = values[:,0:target_col_idx].astype(float)\n",
        "Y = values[:,target_col_idx]\n",
        "\n",
        "print(X.shape,Y.shape)"
      ],
      "execution_count": 23,
      "outputs": [
        {
          "output_type": "stream",
          "text": [
            "(142193, 26) (142193,)\n"
          ],
          "name": "stdout"
        }
      ]
    },
    {
      "cell_type": "markdown",
      "metadata": {
        "id": "HlwU8pZArI2u"
      },
      "source": [
        "### Encode class values as integers"
      ]
    },
    {
      "cell_type": "code",
      "metadata": {
        "id": "DfQKdsxbrJcW"
      },
      "source": [
        "encoder = LabelEncoder()\n",
        "encoder.fit(Y)\n",
        "encoded_Y = encoder.transform(Y)"
      ],
      "execution_count": 24,
      "outputs": []
    },
    {
      "cell_type": "markdown",
      "metadata": {
        "id": "WVV-QmR-59Cq"
      },
      "source": [
        "## Design the model"
      ]
    },
    {
      "cell_type": "markdown",
      "metadata": {
        "id": "rZRpXyXt2xjz"
      },
      "source": [
        "We want to predict a boolean value ('Yes' or 'No') for the target variable **`RainTomorrow`**. In this case, we need to use a **classification** model, istead of a **regression** model, wich is used to predict real-world values (e.g. `Rainfall`)."
      ]
    },
    {
      "cell_type": "code",
      "metadata": {
        "id": "RZ_bl0cp6DMg"
      },
      "source": [
        "def create_model():\n",
        "  model = Sequential(name='weather_guru')\n",
        "  model.add(Dense(NEURONS_1, input_dim=NUM_FEATURES, activation='relu', name='dense_1'))\n",
        "  model.add(Dense(NEURONS_2, activation='relu', name='dense_2'))\n",
        "  model.add(Dense(1, activation='sigmoid', name='output'))\n",
        "  adam_optmz = Adam(learning_rate=LEARNING_RATE)\n",
        "  # Compile model\n",
        "  model.compile(loss=LOSS_FUNCTION, optimizer=adam_optmz, metrics=['accuracy'])\n",
        "  print(model.summary())\n",
        "  return model\n",
        "\n",
        "estimators = []\n",
        "estimators.append(('standardize', StandardScaler()))\n",
        "estimators.append(('mlp', KerasClassifier(build_fn = create_model, epochs = EPOCHS, batch_size = BATCH_SIZE, verbose = 1)))\n",
        "pipeline = Pipeline(estimators)"
      ],
      "execution_count": 25,
      "outputs": []
    },
    {
      "cell_type": "markdown",
      "metadata": {
        "id": "GkBzihGe6Dvo"
      },
      "source": [
        "## Train the model and validate it"
      ]
    },
    {
      "cell_type": "code",
      "metadata": {
        "id": "yudgAVlyKgdn"
      },
      "source": [
        "kfold = StratifiedKFold(n_splits=K_FOLD_SPLITS, shuffle=True)"
      ],
      "execution_count": 26,
      "outputs": []
    },
    {
      "cell_type": "code",
      "metadata": {
        "colab": {
          "base_uri": "https://localhost:8080/"
        },
        "id": "1KDdEfxCoRRS",
        "outputId": "587558d7-a7a5-4d44-9fb9-d4298785bd75"
      },
      "source": [
        "%%time\n",
        "results = cross_val_score(pipeline, X, encoded_Y, cv=kfold)"
      ],
      "execution_count": 27,
      "outputs": [
        {
          "output_type": "stream",
          "text": [
            "Model: \"weather_guru\"\n",
            "_________________________________________________________________\n",
            "Layer (type)                 Output Shape              Param #   \n",
            "=================================================================\n",
            "dense_1 (Dense)              (None, 27)                729       \n",
            "_________________________________________________________________\n",
            "dense_2 (Dense)              (None, 7)                 196       \n",
            "_________________________________________________________________\n",
            "output (Dense)               (None, 1)                 8         \n",
            "=================================================================\n",
            "Total params: 933\n",
            "Trainable params: 933\n",
            "Non-trainable params: 0\n",
            "_________________________________________________________________\n",
            "None\n",
            "Epoch 1/100\n",
            "112/112 [==============================] - 1s 2ms/step - loss: 0.5879 - accuracy: 0.6701\n",
            "Epoch 2/100\n",
            "112/112 [==============================] - 0s 1ms/step - loss: 0.3928 - accuracy: 0.8279\n",
            "Epoch 3/100\n",
            "112/112 [==============================] - 0s 2ms/step - loss: 0.3711 - accuracy: 0.8378\n",
            "Epoch 4/100\n",
            "112/112 [==============================] - 0s 1ms/step - loss: 0.3617 - accuracy: 0.8431\n",
            "Epoch 5/100\n",
            "112/112 [==============================] - 0s 1ms/step - loss: 0.3561 - accuracy: 0.8453\n",
            "Epoch 6/100\n",
            "112/112 [==============================] - 0s 1ms/step - loss: 0.3523 - accuracy: 0.8470\n",
            "Epoch 7/100\n",
            "112/112 [==============================] - 0s 2ms/step - loss: 0.3495 - accuracy: 0.8482\n",
            "Epoch 8/100\n",
            "112/112 [==============================] - 0s 2ms/step - loss: 0.3473 - accuracy: 0.8494\n",
            "Epoch 9/100\n",
            "112/112 [==============================] - 0s 2ms/step - loss: 0.3455 - accuracy: 0.8505\n",
            "Epoch 10/100\n",
            "112/112 [==============================] - 0s 2ms/step - loss: 0.3439 - accuracy: 0.8513\n",
            "Epoch 11/100\n",
            "112/112 [==============================] - 0s 2ms/step - loss: 0.3425 - accuracy: 0.8522\n",
            "Epoch 12/100\n",
            "112/112 [==============================] - 0s 2ms/step - loss: 0.3413 - accuracy: 0.8523\n",
            "Epoch 13/100\n",
            "112/112 [==============================] - 0s 2ms/step - loss: 0.3402 - accuracy: 0.8528\n",
            "Epoch 14/100\n",
            "112/112 [==============================] - 0s 2ms/step - loss: 0.3391 - accuracy: 0.8537\n",
            "Epoch 15/100\n",
            "112/112 [==============================] - 0s 2ms/step - loss: 0.3382 - accuracy: 0.8540\n",
            "Epoch 16/100\n",
            "112/112 [==============================] - 0s 1ms/step - loss: 0.3375 - accuracy: 0.8546\n",
            "Epoch 17/100\n",
            "112/112 [==============================] - 0s 2ms/step - loss: 0.3368 - accuracy: 0.8545\n",
            "Epoch 18/100\n",
            "112/112 [==============================] - 0s 1ms/step - loss: 0.3360 - accuracy: 0.8547\n",
            "Epoch 19/100\n",
            "112/112 [==============================] - 0s 1ms/step - loss: 0.3355 - accuracy: 0.8545\n",
            "Epoch 20/100\n",
            "112/112 [==============================] - 0s 2ms/step - loss: 0.3349 - accuracy: 0.8549\n",
            "Epoch 21/100\n",
            "112/112 [==============================] - 0s 2ms/step - loss: 0.3344 - accuracy: 0.8550\n",
            "Epoch 22/100\n",
            "112/112 [==============================] - 0s 1ms/step - loss: 0.3340 - accuracy: 0.8557\n",
            "Epoch 23/100\n",
            "112/112 [==============================] - 0s 1ms/step - loss: 0.3337 - accuracy: 0.8561\n",
            "Epoch 24/100\n",
            "112/112 [==============================] - 0s 1ms/step - loss: 0.3333 - accuracy: 0.8556\n",
            "Epoch 25/100\n",
            "112/112 [==============================] - 0s 2ms/step - loss: 0.3329 - accuracy: 0.8566\n",
            "Epoch 26/100\n",
            "112/112 [==============================] - 0s 2ms/step - loss: 0.3325 - accuracy: 0.8569\n",
            "Epoch 27/100\n",
            "112/112 [==============================] - 0s 2ms/step - loss: 0.3323 - accuracy: 0.8568\n",
            "Epoch 28/100\n",
            "112/112 [==============================] - 0s 1ms/step - loss: 0.3319 - accuracy: 0.8572\n",
            "Epoch 29/100\n",
            "112/112 [==============================] - 0s 1ms/step - loss: 0.3315 - accuracy: 0.8573\n",
            "Epoch 30/100\n",
            "112/112 [==============================] - 0s 2ms/step - loss: 0.3312 - accuracy: 0.8574\n",
            "Epoch 31/100\n",
            "112/112 [==============================] - 0s 2ms/step - loss: 0.3309 - accuracy: 0.8578\n",
            "Epoch 32/100\n",
            "112/112 [==============================] - 0s 2ms/step - loss: 0.3307 - accuracy: 0.8572\n",
            "Epoch 33/100\n",
            "112/112 [==============================] - 0s 1ms/step - loss: 0.3304 - accuracy: 0.8581\n",
            "Epoch 34/100\n",
            "112/112 [==============================] - 0s 1ms/step - loss: 0.3302 - accuracy: 0.8578\n",
            "Epoch 35/100\n",
            "112/112 [==============================] - 0s 1ms/step - loss: 0.3298 - accuracy: 0.8579\n",
            "Epoch 36/100\n",
            "112/112 [==============================] - 0s 1ms/step - loss: 0.3296 - accuracy: 0.8581\n",
            "Epoch 37/100\n",
            "112/112 [==============================] - 0s 1ms/step - loss: 0.3293 - accuracy: 0.8583\n",
            "Epoch 38/100\n",
            "112/112 [==============================] - 0s 2ms/step - loss: 0.3292 - accuracy: 0.8586\n",
            "Epoch 39/100\n",
            "112/112 [==============================] - 0s 1ms/step - loss: 0.3290 - accuracy: 0.8583\n",
            "Epoch 40/100\n",
            "112/112 [==============================] - 0s 1ms/step - loss: 0.3288 - accuracy: 0.8590\n",
            "Epoch 41/100\n",
            "112/112 [==============================] - 0s 1ms/step - loss: 0.3285 - accuracy: 0.8588\n",
            "Epoch 42/100\n",
            "112/112 [==============================] - 0s 1ms/step - loss: 0.3283 - accuracy: 0.8589\n",
            "Epoch 43/100\n",
            "112/112 [==============================] - 0s 1ms/step - loss: 0.3282 - accuracy: 0.8592\n",
            "Epoch 44/100\n",
            "112/112 [==============================] - 0s 1ms/step - loss: 0.3279 - accuracy: 0.8589\n",
            "Epoch 45/100\n",
            "112/112 [==============================] - 0s 1ms/step - loss: 0.3276 - accuracy: 0.8589\n",
            "Epoch 46/100\n",
            "112/112 [==============================] - 0s 1ms/step - loss: 0.3276 - accuracy: 0.8587\n",
            "Epoch 47/100\n",
            "112/112 [==============================] - 0s 1ms/step - loss: 0.3274 - accuracy: 0.8593\n",
            "Epoch 48/100\n",
            "112/112 [==============================] - 0s 2ms/step - loss: 0.3271 - accuracy: 0.8597\n",
            "Epoch 49/100\n",
            "112/112 [==============================] - 0s 1ms/step - loss: 0.3269 - accuracy: 0.8594\n",
            "Epoch 50/100\n",
            "112/112 [==============================] - 0s 2ms/step - loss: 0.3268 - accuracy: 0.8594\n",
            "Epoch 51/100\n",
            "112/112 [==============================] - 0s 2ms/step - loss: 0.3266 - accuracy: 0.8596\n",
            "Epoch 52/100\n",
            "112/112 [==============================] - 0s 1ms/step - loss: 0.3264 - accuracy: 0.8597\n",
            "Epoch 53/100\n",
            "112/112 [==============================] - 0s 1ms/step - loss: 0.3260 - accuracy: 0.8597\n",
            "Epoch 54/100\n",
            "112/112 [==============================] - 0s 1ms/step - loss: 0.3259 - accuracy: 0.8600\n",
            "Epoch 55/100\n",
            "112/112 [==============================] - 0s 1ms/step - loss: 0.3256 - accuracy: 0.8599\n",
            "Epoch 56/100\n",
            "112/112 [==============================] - 0s 2ms/step - loss: 0.3255 - accuracy: 0.8597\n",
            "Epoch 57/100\n",
            "112/112 [==============================] - 0s 1ms/step - loss: 0.3252 - accuracy: 0.8598\n",
            "Epoch 58/100\n",
            "112/112 [==============================] - 0s 2ms/step - loss: 0.3250 - accuracy: 0.8597\n",
            "Epoch 59/100\n",
            "112/112 [==============================] - 0s 1ms/step - loss: 0.3251 - accuracy: 0.8597\n",
            "Epoch 60/100\n",
            "112/112 [==============================] - 0s 1ms/step - loss: 0.3247 - accuracy: 0.8597\n",
            "Epoch 61/100\n",
            "112/112 [==============================] - 0s 1ms/step - loss: 0.3244 - accuracy: 0.8602\n",
            "Epoch 62/100\n",
            "112/112 [==============================] - 0s 2ms/step - loss: 0.3246 - accuracy: 0.8596\n",
            "Epoch 63/100\n",
            "112/112 [==============================] - 0s 1ms/step - loss: 0.3243 - accuracy: 0.8596\n",
            "Epoch 64/100\n",
            "112/112 [==============================] - 0s 2ms/step - loss: 0.3240 - accuracy: 0.8605\n",
            "Epoch 65/100\n",
            "112/112 [==============================] - 0s 1ms/step - loss: 0.3238 - accuracy: 0.8604\n",
            "Epoch 66/100\n",
            "112/112 [==============================] - 0s 1ms/step - loss: 0.3236 - accuracy: 0.8604\n",
            "Epoch 67/100\n",
            "112/112 [==============================] - 0s 1ms/step - loss: 0.3236 - accuracy: 0.8605\n",
            "Epoch 68/100\n",
            "112/112 [==============================] - 0s 2ms/step - loss: 0.3234 - accuracy: 0.8603\n",
            "Epoch 69/100\n",
            "112/112 [==============================] - 0s 2ms/step - loss: 0.3233 - accuracy: 0.8604\n",
            "Epoch 70/100\n",
            "112/112 [==============================] - 0s 1ms/step - loss: 0.3232 - accuracy: 0.8610\n",
            "Epoch 71/100\n",
            "112/112 [==============================] - 0s 1ms/step - loss: 0.3231 - accuracy: 0.8611\n",
            "Epoch 72/100\n",
            "112/112 [==============================] - 0s 2ms/step - loss: 0.3231 - accuracy: 0.8606\n",
            "Epoch 73/100\n",
            "112/112 [==============================] - 0s 2ms/step - loss: 0.3226 - accuracy: 0.8609\n",
            "Epoch 74/100\n",
            "112/112 [==============================] - 0s 1ms/step - loss: 0.3227 - accuracy: 0.8608\n",
            "Epoch 75/100\n",
            "112/112 [==============================] - 0s 2ms/step - loss: 0.3226 - accuracy: 0.8613\n",
            "Epoch 76/100\n",
            "112/112 [==============================] - 0s 2ms/step - loss: 0.3224 - accuracy: 0.8609\n",
            "Epoch 77/100\n",
            "112/112 [==============================] - 0s 2ms/step - loss: 0.3223 - accuracy: 0.8609\n",
            "Epoch 78/100\n",
            "112/112 [==============================] - 0s 1ms/step - loss: 0.3223 - accuracy: 0.8611\n",
            "Epoch 79/100\n",
            "112/112 [==============================] - 0s 2ms/step - loss: 0.3220 - accuracy: 0.8614\n",
            "Epoch 80/100\n",
            "112/112 [==============================] - 0s 2ms/step - loss: 0.3219 - accuracy: 0.8614\n",
            "Epoch 81/100\n",
            "112/112 [==============================] - 0s 1ms/step - loss: 0.3218 - accuracy: 0.8612\n",
            "Epoch 82/100\n",
            "112/112 [==============================] - 0s 2ms/step - loss: 0.3217 - accuracy: 0.8612\n",
            "Epoch 83/100\n",
            "112/112 [==============================] - 0s 1ms/step - loss: 0.3215 - accuracy: 0.8616\n",
            "Epoch 84/100\n",
            "112/112 [==============================] - 0s 1ms/step - loss: 0.3214 - accuracy: 0.8612\n",
            "Epoch 85/100\n",
            "112/112 [==============================] - 0s 2ms/step - loss: 0.3212 - accuracy: 0.8614\n",
            "Epoch 86/100\n",
            "112/112 [==============================] - 0s 2ms/step - loss: 0.3212 - accuracy: 0.8612\n",
            "Epoch 87/100\n",
            "112/112 [==============================] - 0s 1ms/step - loss: 0.3211 - accuracy: 0.8613\n",
            "Epoch 88/100\n",
            "112/112 [==============================] - 0s 1ms/step - loss: 0.3211 - accuracy: 0.8611\n",
            "Epoch 89/100\n",
            "112/112 [==============================] - 0s 1ms/step - loss: 0.3210 - accuracy: 0.8612\n",
            "Epoch 90/100\n",
            "112/112 [==============================] - 0s 1ms/step - loss: 0.3208 - accuracy: 0.8616\n",
            "Epoch 91/100\n",
            "112/112 [==============================] - 0s 2ms/step - loss: 0.3207 - accuracy: 0.8615\n",
            "Epoch 92/100\n",
            "112/112 [==============================] - 0s 2ms/step - loss: 0.3206 - accuracy: 0.8618\n",
            "Epoch 93/100\n",
            "112/112 [==============================] - 0s 1ms/step - loss: 0.3207 - accuracy: 0.8616\n",
            "Epoch 94/100\n",
            "112/112 [==============================] - 0s 1ms/step - loss: 0.3207 - accuracy: 0.8617\n",
            "Epoch 95/100\n",
            "112/112 [==============================] - 0s 1ms/step - loss: 0.3206 - accuracy: 0.8611\n",
            "Epoch 96/100\n",
            "112/112 [==============================] - 0s 1ms/step - loss: 0.3204 - accuracy: 0.8615\n",
            "Epoch 97/100\n",
            "112/112 [==============================] - 0s 1ms/step - loss: 0.3202 - accuracy: 0.8617\n",
            "Epoch 98/100\n",
            "112/112 [==============================] - 0s 1ms/step - loss: 0.3202 - accuracy: 0.8619\n",
            "Epoch 99/100\n",
            "112/112 [==============================] - 0s 1ms/step - loss: 0.3202 - accuracy: 0.8617\n",
            "Epoch 100/100\n",
            "112/112 [==============================] - 0s 1ms/step - loss: 0.3201 - accuracy: 0.8615\n",
            "28/28 [==============================] - 0s 971us/step - loss: 0.3284 - accuracy: 0.8565\n",
            "Model: \"weather_guru\"\n",
            "_________________________________________________________________\n",
            "Layer (type)                 Output Shape              Param #   \n",
            "=================================================================\n",
            "dense_1 (Dense)              (None, 27)                729       \n",
            "_________________________________________________________________\n",
            "dense_2 (Dense)              (None, 7)                 196       \n",
            "_________________________________________________________________\n",
            "output (Dense)               (None, 1)                 8         \n",
            "=================================================================\n",
            "Total params: 933\n",
            "Trainable params: 933\n",
            "Non-trainable params: 0\n",
            "_________________________________________________________________\n",
            "None\n",
            "Epoch 1/100\n",
            "112/112 [==============================] - 1s 2ms/step - loss: 0.4516 - accuracy: 0.8038\n",
            "Epoch 2/100\n",
            "112/112 [==============================] - 0s 1ms/step - loss: 0.3713 - accuracy: 0.8405\n",
            "Epoch 3/100\n",
            "112/112 [==============================] - 0s 2ms/step - loss: 0.3612 - accuracy: 0.8447\n",
            "Epoch 4/100\n",
            "112/112 [==============================] - 0s 1ms/step - loss: 0.3551 - accuracy: 0.8470\n",
            "Epoch 5/100\n",
            "112/112 [==============================] - 0s 1ms/step - loss: 0.3507 - accuracy: 0.8483\n",
            "Epoch 6/100\n",
            "112/112 [==============================] - 0s 2ms/step - loss: 0.3476 - accuracy: 0.8494\n",
            "Epoch 7/100\n",
            "112/112 [==============================] - 0s 2ms/step - loss: 0.3450 - accuracy: 0.8508\n",
            "Epoch 8/100\n",
            "112/112 [==============================] - 0s 2ms/step - loss: 0.3428 - accuracy: 0.8517\n",
            "Epoch 9/100\n",
            "112/112 [==============================] - 0s 2ms/step - loss: 0.3410 - accuracy: 0.8523\n",
            "Epoch 10/100\n",
            "112/112 [==============================] - 0s 2ms/step - loss: 0.3397 - accuracy: 0.8527\n",
            "Epoch 11/100\n",
            "112/112 [==============================] - 0s 2ms/step - loss: 0.3384 - accuracy: 0.8534\n",
            "Epoch 12/100\n",
            "112/112 [==============================] - 0s 2ms/step - loss: 0.3373 - accuracy: 0.8541\n",
            "Epoch 13/100\n",
            "112/112 [==============================] - 0s 2ms/step - loss: 0.3363 - accuracy: 0.8543\n",
            "Epoch 14/100\n",
            "112/112 [==============================] - 0s 2ms/step - loss: 0.3356 - accuracy: 0.8551\n",
            "Epoch 15/100\n",
            "112/112 [==============================] - 0s 2ms/step - loss: 0.3347 - accuracy: 0.8555\n",
            "Epoch 16/100\n",
            "112/112 [==============================] - 0s 2ms/step - loss: 0.3342 - accuracy: 0.8559\n",
            "Epoch 17/100\n",
            "112/112 [==============================] - 0s 1ms/step - loss: 0.3336 - accuracy: 0.8554\n",
            "Epoch 18/100\n",
            "112/112 [==============================] - 0s 1ms/step - loss: 0.3331 - accuracy: 0.8560\n",
            "Epoch 19/100\n",
            "112/112 [==============================] - 0s 2ms/step - loss: 0.3326 - accuracy: 0.8560\n",
            "Epoch 20/100\n",
            "112/112 [==============================] - 0s 1ms/step - loss: 0.3321 - accuracy: 0.8563\n",
            "Epoch 21/100\n",
            "112/112 [==============================] - 0s 2ms/step - loss: 0.3318 - accuracy: 0.8565\n",
            "Epoch 22/100\n",
            "112/112 [==============================] - 0s 1ms/step - loss: 0.3312 - accuracy: 0.8569\n",
            "Epoch 23/100\n",
            "112/112 [==============================] - 0s 2ms/step - loss: 0.3309 - accuracy: 0.8568\n",
            "Epoch 24/100\n",
            "112/112 [==============================] - 0s 1ms/step - loss: 0.3306 - accuracy: 0.8570\n",
            "Epoch 25/100\n",
            "112/112 [==============================] - 0s 2ms/step - loss: 0.3304 - accuracy: 0.8571\n",
            "Epoch 26/100\n",
            "112/112 [==============================] - 0s 1ms/step - loss: 0.3300 - accuracy: 0.8577\n",
            "Epoch 27/100\n",
            "112/112 [==============================] - 0s 1ms/step - loss: 0.3297 - accuracy: 0.8577\n",
            "Epoch 28/100\n",
            "112/112 [==============================] - 0s 2ms/step - loss: 0.3294 - accuracy: 0.8574\n",
            "Epoch 29/100\n",
            "112/112 [==============================] - 0s 2ms/step - loss: 0.3292 - accuracy: 0.8577\n",
            "Epoch 30/100\n",
            "112/112 [==============================] - 0s 1ms/step - loss: 0.3288 - accuracy: 0.8581\n",
            "Epoch 31/100\n",
            "112/112 [==============================] - 0s 1ms/step - loss: 0.3284 - accuracy: 0.8583\n",
            "Epoch 32/100\n",
            "112/112 [==============================] - 0s 2ms/step - loss: 0.3282 - accuracy: 0.8583\n",
            "Epoch 33/100\n",
            "112/112 [==============================] - 0s 1ms/step - loss: 0.3281 - accuracy: 0.8582\n",
            "Epoch 34/100\n",
            "112/112 [==============================] - 0s 2ms/step - loss: 0.3278 - accuracy: 0.8581\n",
            "Epoch 35/100\n",
            "112/112 [==============================] - 0s 2ms/step - loss: 0.3274 - accuracy: 0.8582\n",
            "Epoch 36/100\n",
            "112/112 [==============================] - 0s 2ms/step - loss: 0.3271 - accuracy: 0.8584\n",
            "Epoch 37/100\n",
            "112/112 [==============================] - 0s 2ms/step - loss: 0.3269 - accuracy: 0.8582\n",
            "Epoch 38/100\n",
            "112/112 [==============================] - 0s 2ms/step - loss: 0.3267 - accuracy: 0.8589\n",
            "Epoch 39/100\n",
            "112/112 [==============================] - 0s 1ms/step - loss: 0.3264 - accuracy: 0.8591\n",
            "Epoch 40/100\n",
            "112/112 [==============================] - 0s 2ms/step - loss: 0.3261 - accuracy: 0.8587\n",
            "Epoch 41/100\n",
            "112/112 [==============================] - 0s 2ms/step - loss: 0.3261 - accuracy: 0.8590\n",
            "Epoch 42/100\n",
            "112/112 [==============================] - 0s 2ms/step - loss: 0.3257 - accuracy: 0.8592\n",
            "Epoch 43/100\n",
            "112/112 [==============================] - 0s 2ms/step - loss: 0.3257 - accuracy: 0.8592\n",
            "Epoch 44/100\n",
            "112/112 [==============================] - 0s 2ms/step - loss: 0.3253 - accuracy: 0.8594\n",
            "Epoch 45/100\n",
            "112/112 [==============================] - 0s 1ms/step - loss: 0.3252 - accuracy: 0.8598\n",
            "Epoch 46/100\n",
            "112/112 [==============================] - 0s 1ms/step - loss: 0.3250 - accuracy: 0.8599\n",
            "Epoch 47/100\n",
            "112/112 [==============================] - 0s 1ms/step - loss: 0.3248 - accuracy: 0.8594\n",
            "Epoch 48/100\n",
            "112/112 [==============================] - 0s 1ms/step - loss: 0.3246 - accuracy: 0.8594\n",
            "Epoch 49/100\n",
            "112/112 [==============================] - 0s 2ms/step - loss: 0.3245 - accuracy: 0.8597\n",
            "Epoch 50/100\n",
            "112/112 [==============================] - 0s 1ms/step - loss: 0.3244 - accuracy: 0.8597\n",
            "Epoch 51/100\n",
            "112/112 [==============================] - 0s 1ms/step - loss: 0.3242 - accuracy: 0.8594\n",
            "Epoch 52/100\n",
            "112/112 [==============================] - 0s 1ms/step - loss: 0.3240 - accuracy: 0.8595\n",
            "Epoch 53/100\n",
            "112/112 [==============================] - 0s 1ms/step - loss: 0.3238 - accuracy: 0.8595\n",
            "Epoch 54/100\n",
            "112/112 [==============================] - 0s 1ms/step - loss: 0.3237 - accuracy: 0.8597\n",
            "Epoch 55/100\n",
            "112/112 [==============================] - 0s 2ms/step - loss: 0.3237 - accuracy: 0.8597\n",
            "Epoch 56/100\n",
            "112/112 [==============================] - 0s 1ms/step - loss: 0.3235 - accuracy: 0.8599\n",
            "Epoch 57/100\n",
            "112/112 [==============================] - 0s 1ms/step - loss: 0.3232 - accuracy: 0.8602\n",
            "Epoch 58/100\n",
            "112/112 [==============================] - 0s 2ms/step - loss: 0.3231 - accuracy: 0.8596\n",
            "Epoch 59/100\n",
            "112/112 [==============================] - 0s 1ms/step - loss: 0.3229 - accuracy: 0.8597\n",
            "Epoch 60/100\n",
            "112/112 [==============================] - 0s 2ms/step - loss: 0.3229 - accuracy: 0.8601\n",
            "Epoch 61/100\n",
            "112/112 [==============================] - 0s 2ms/step - loss: 0.3227 - accuracy: 0.8602\n",
            "Epoch 62/100\n",
            "112/112 [==============================] - 0s 1ms/step - loss: 0.3225 - accuracy: 0.8602\n",
            "Epoch 63/100\n",
            "112/112 [==============================] - 0s 1ms/step - loss: 0.3224 - accuracy: 0.8605\n",
            "Epoch 64/100\n",
            "112/112 [==============================] - 0s 2ms/step - loss: 0.3223 - accuracy: 0.8604\n",
            "Epoch 65/100\n",
            "112/112 [==============================] - 0s 1ms/step - loss: 0.3223 - accuracy: 0.8602\n",
            "Epoch 66/100\n",
            "112/112 [==============================] - 0s 1ms/step - loss: 0.3219 - accuracy: 0.8608\n",
            "Epoch 67/100\n",
            "112/112 [==============================] - 0s 2ms/step - loss: 0.3219 - accuracy: 0.8605\n",
            "Epoch 68/100\n",
            "112/112 [==============================] - 0s 1ms/step - loss: 0.3218 - accuracy: 0.8606\n",
            "Epoch 69/100\n",
            "112/112 [==============================] - 0s 1ms/step - loss: 0.3215 - accuracy: 0.8608\n",
            "Epoch 70/100\n",
            "112/112 [==============================] - 0s 1ms/step - loss: 0.3216 - accuracy: 0.8603\n",
            "Epoch 71/100\n",
            "112/112 [==============================] - 0s 1ms/step - loss: 0.3213 - accuracy: 0.8607\n",
            "Epoch 72/100\n",
            "112/112 [==============================] - 0s 1ms/step - loss: 0.3212 - accuracy: 0.8607\n",
            "Epoch 73/100\n",
            "112/112 [==============================] - 0s 2ms/step - loss: 0.3212 - accuracy: 0.8607\n",
            "Epoch 74/100\n",
            "112/112 [==============================] - 0s 2ms/step - loss: 0.3210 - accuracy: 0.8609\n",
            "Epoch 75/100\n",
            "112/112 [==============================] - 0s 2ms/step - loss: 0.3208 - accuracy: 0.8610\n",
            "Epoch 76/100\n",
            "112/112 [==============================] - 0s 1ms/step - loss: 0.3208 - accuracy: 0.8609\n",
            "Epoch 77/100\n",
            "112/112 [==============================] - 0s 1ms/step - loss: 0.3207 - accuracy: 0.8610\n",
            "Epoch 78/100\n",
            "112/112 [==============================] - 0s 2ms/step - loss: 0.3207 - accuracy: 0.8611\n",
            "Epoch 79/100\n",
            "112/112 [==============================] - 0s 2ms/step - loss: 0.3204 - accuracy: 0.8610\n",
            "Epoch 80/100\n",
            "112/112 [==============================] - 0s 2ms/step - loss: 0.3206 - accuracy: 0.8610\n",
            "Epoch 81/100\n",
            "112/112 [==============================] - 0s 2ms/step - loss: 0.3203 - accuracy: 0.8608\n",
            "Epoch 82/100\n",
            "112/112 [==============================] - 0s 2ms/step - loss: 0.3203 - accuracy: 0.8616\n",
            "Epoch 83/100\n",
            "112/112 [==============================] - 0s 2ms/step - loss: 0.3202 - accuracy: 0.8610\n",
            "Epoch 84/100\n",
            "112/112 [==============================] - 0s 2ms/step - loss: 0.3201 - accuracy: 0.8615\n",
            "Epoch 85/100\n",
            "112/112 [==============================] - 0s 1ms/step - loss: 0.3202 - accuracy: 0.8610\n",
            "Epoch 86/100\n",
            "112/112 [==============================] - 0s 2ms/step - loss: 0.3199 - accuracy: 0.8608\n",
            "Epoch 87/100\n",
            "112/112 [==============================] - 0s 2ms/step - loss: 0.3199 - accuracy: 0.8614\n",
            "Epoch 88/100\n",
            "112/112 [==============================] - 0s 2ms/step - loss: 0.3198 - accuracy: 0.8611\n",
            "Epoch 89/100\n",
            "112/112 [==============================] - 0s 2ms/step - loss: 0.3198 - accuracy: 0.8611\n",
            "Epoch 90/100\n",
            "112/112 [==============================] - 0s 2ms/step - loss: 0.3197 - accuracy: 0.8610\n",
            "Epoch 91/100\n",
            "112/112 [==============================] - 0s 2ms/step - loss: 0.3196 - accuracy: 0.8614\n",
            "Epoch 92/100\n",
            "112/112 [==============================] - 0s 2ms/step - loss: 0.3195 - accuracy: 0.8614\n",
            "Epoch 93/100\n",
            "112/112 [==============================] - 0s 2ms/step - loss: 0.3195 - accuracy: 0.8616\n",
            "Epoch 94/100\n",
            "112/112 [==============================] - 0s 2ms/step - loss: 0.3194 - accuracy: 0.8617\n",
            "Epoch 95/100\n",
            "112/112 [==============================] - 0s 2ms/step - loss: 0.3194 - accuracy: 0.8609\n",
            "Epoch 96/100\n",
            "112/112 [==============================] - 0s 1ms/step - loss: 0.3192 - accuracy: 0.8614\n",
            "Epoch 97/100\n",
            "112/112 [==============================] - 0s 1ms/step - loss: 0.3192 - accuracy: 0.8613\n",
            "Epoch 98/100\n",
            "112/112 [==============================] - 0s 1ms/step - loss: 0.3193 - accuracy: 0.8613\n",
            "Epoch 99/100\n",
            "112/112 [==============================] - 0s 1ms/step - loss: 0.3191 - accuracy: 0.8613\n",
            "Epoch 100/100\n",
            "112/112 [==============================] - 0s 1ms/step - loss: 0.3192 - accuracy: 0.8613\n",
            "28/28 [==============================] - 0s 987us/step - loss: 0.3317 - accuracy: 0.8568\n",
            "Model: \"weather_guru\"\n",
            "_________________________________________________________________\n",
            "Layer (type)                 Output Shape              Param #   \n",
            "=================================================================\n",
            "dense_1 (Dense)              (None, 27)                729       \n",
            "_________________________________________________________________\n",
            "dense_2 (Dense)              (None, 7)                 196       \n",
            "_________________________________________________________________\n",
            "output (Dense)               (None, 1)                 8         \n",
            "=================================================================\n",
            "Total params: 933\n",
            "Trainable params: 933\n",
            "Non-trainable params: 0\n",
            "_________________________________________________________________\n",
            "None\n",
            "Epoch 1/100\n",
            "112/112 [==============================] - 1s 2ms/step - loss: 0.4763 - accuracy: 0.7917\n",
            "Epoch 2/100\n",
            "112/112 [==============================] - 0s 2ms/step - loss: 0.3806 - accuracy: 0.8357\n",
            "Epoch 3/100\n",
            "112/112 [==============================] - 0s 2ms/step - loss: 0.3678 - accuracy: 0.8413\n",
            "Epoch 4/100\n",
            "112/112 [==============================] - 0s 2ms/step - loss: 0.3613 - accuracy: 0.8438\n",
            "Epoch 5/100\n",
            "112/112 [==============================] - 0s 2ms/step - loss: 0.3567 - accuracy: 0.8466\n",
            "Epoch 6/100\n",
            "112/112 [==============================] - 0s 2ms/step - loss: 0.3524 - accuracy: 0.8481\n",
            "Epoch 7/100\n",
            "112/112 [==============================] - 0s 2ms/step - loss: 0.3485 - accuracy: 0.8499\n",
            "Epoch 8/100\n",
            "112/112 [==============================] - 0s 1ms/step - loss: 0.3454 - accuracy: 0.8513\n",
            "Epoch 9/100\n",
            "112/112 [==============================] - 0s 2ms/step - loss: 0.3429 - accuracy: 0.8517\n",
            "Epoch 10/100\n",
            "112/112 [==============================] - 0s 1ms/step - loss: 0.3410 - accuracy: 0.8526\n",
            "Epoch 11/100\n",
            "112/112 [==============================] - 0s 1ms/step - loss: 0.3396 - accuracy: 0.8530\n",
            "Epoch 12/100\n",
            "112/112 [==============================] - 0s 2ms/step - loss: 0.3382 - accuracy: 0.8535\n",
            "Epoch 13/100\n",
            "112/112 [==============================] - 0s 2ms/step - loss: 0.3372 - accuracy: 0.8544\n",
            "Epoch 14/100\n",
            "112/112 [==============================] - 0s 2ms/step - loss: 0.3361 - accuracy: 0.8549\n",
            "Epoch 15/100\n",
            "112/112 [==============================] - 0s 1ms/step - loss: 0.3353 - accuracy: 0.8552\n",
            "Epoch 16/100\n",
            "112/112 [==============================] - 0s 2ms/step - loss: 0.3345 - accuracy: 0.8554\n",
            "Epoch 17/100\n",
            "112/112 [==============================] - 0s 2ms/step - loss: 0.3337 - accuracy: 0.8558\n",
            "Epoch 18/100\n",
            "112/112 [==============================] - 0s 2ms/step - loss: 0.3330 - accuracy: 0.8558\n",
            "Epoch 19/100\n",
            "112/112 [==============================] - 0s 2ms/step - loss: 0.3326 - accuracy: 0.8561\n",
            "Epoch 20/100\n",
            "112/112 [==============================] - 0s 2ms/step - loss: 0.3320 - accuracy: 0.8561\n",
            "Epoch 21/100\n",
            "112/112 [==============================] - 0s 2ms/step - loss: 0.3317 - accuracy: 0.8568\n",
            "Epoch 22/100\n",
            "112/112 [==============================] - 0s 1ms/step - loss: 0.3312 - accuracy: 0.8566\n",
            "Epoch 23/100\n",
            "112/112 [==============================] - 0s 2ms/step - loss: 0.3307 - accuracy: 0.8568\n",
            "Epoch 24/100\n",
            "112/112 [==============================] - 0s 1ms/step - loss: 0.3303 - accuracy: 0.8571\n",
            "Epoch 25/100\n",
            "112/112 [==============================] - 0s 2ms/step - loss: 0.3301 - accuracy: 0.8574\n",
            "Epoch 26/100\n",
            "112/112 [==============================] - 0s 1ms/step - loss: 0.3296 - accuracy: 0.8574\n",
            "Epoch 27/100\n",
            "112/112 [==============================] - 0s 1ms/step - loss: 0.3292 - accuracy: 0.8577\n",
            "Epoch 28/100\n",
            "112/112 [==============================] - 0s 1ms/step - loss: 0.3288 - accuracy: 0.8580\n",
            "Epoch 29/100\n",
            "112/112 [==============================] - 0s 1ms/step - loss: 0.3287 - accuracy: 0.8575\n",
            "Epoch 30/100\n",
            "112/112 [==============================] - 0s 2ms/step - loss: 0.3283 - accuracy: 0.8581\n",
            "Epoch 31/100\n",
            "112/112 [==============================] - 0s 2ms/step - loss: 0.3280 - accuracy: 0.8584\n",
            "Epoch 32/100\n",
            "112/112 [==============================] - 0s 2ms/step - loss: 0.3278 - accuracy: 0.8590\n",
            "Epoch 33/100\n",
            "112/112 [==============================] - 0s 1ms/step - loss: 0.3274 - accuracy: 0.8585\n",
            "Epoch 34/100\n",
            "112/112 [==============================] - 0s 1ms/step - loss: 0.3272 - accuracy: 0.8591\n",
            "Epoch 35/100\n",
            "112/112 [==============================] - 0s 2ms/step - loss: 0.3269 - accuracy: 0.8588\n",
            "Epoch 36/100\n",
            "112/112 [==============================] - 0s 2ms/step - loss: 0.3268 - accuracy: 0.8592\n",
            "Epoch 37/100\n",
            "112/112 [==============================] - 0s 2ms/step - loss: 0.3266 - accuracy: 0.8593\n",
            "Epoch 38/100\n",
            "112/112 [==============================] - 0s 2ms/step - loss: 0.3263 - accuracy: 0.8595\n",
            "Epoch 39/100\n",
            "112/112 [==============================] - 0s 2ms/step - loss: 0.3262 - accuracy: 0.8597\n",
            "Epoch 40/100\n",
            "112/112 [==============================] - 0s 2ms/step - loss: 0.3258 - accuracy: 0.8595\n",
            "Epoch 41/100\n",
            "112/112 [==============================] - 0s 2ms/step - loss: 0.3259 - accuracy: 0.8595\n",
            "Epoch 42/100\n",
            "112/112 [==============================] - 0s 2ms/step - loss: 0.3256 - accuracy: 0.8597\n",
            "Epoch 43/100\n",
            "112/112 [==============================] - 0s 2ms/step - loss: 0.3252 - accuracy: 0.8600\n",
            "Epoch 44/100\n",
            "112/112 [==============================] - 0s 1ms/step - loss: 0.3252 - accuracy: 0.8596\n",
            "Epoch 45/100\n",
            "112/112 [==============================] - 0s 2ms/step - loss: 0.3249 - accuracy: 0.8601\n",
            "Epoch 46/100\n",
            "112/112 [==============================] - 0s 2ms/step - loss: 0.3247 - accuracy: 0.8602\n",
            "Epoch 47/100\n",
            "112/112 [==============================] - 0s 1ms/step - loss: 0.3247 - accuracy: 0.8603\n",
            "Epoch 48/100\n",
            "112/112 [==============================] - 0s 2ms/step - loss: 0.3247 - accuracy: 0.8596\n",
            "Epoch 49/100\n",
            "112/112 [==============================] - 0s 2ms/step - loss: 0.3245 - accuracy: 0.8600\n",
            "Epoch 50/100\n",
            "112/112 [==============================] - 0s 2ms/step - loss: 0.3242 - accuracy: 0.8602\n",
            "Epoch 51/100\n",
            "112/112 [==============================] - 0s 2ms/step - loss: 0.3239 - accuracy: 0.8607\n",
            "Epoch 52/100\n",
            "112/112 [==============================] - 0s 2ms/step - loss: 0.3240 - accuracy: 0.8600\n",
            "Epoch 53/100\n",
            "112/112 [==============================] - 0s 2ms/step - loss: 0.3239 - accuracy: 0.8602\n",
            "Epoch 54/100\n",
            "112/112 [==============================] - 0s 2ms/step - loss: 0.3237 - accuracy: 0.8604\n",
            "Epoch 55/100\n",
            "112/112 [==============================] - 0s 2ms/step - loss: 0.3236 - accuracy: 0.8605\n",
            "Epoch 56/100\n",
            "112/112 [==============================] - 0s 2ms/step - loss: 0.3234 - accuracy: 0.8603\n",
            "Epoch 57/100\n",
            "112/112 [==============================] - 0s 2ms/step - loss: 0.3234 - accuracy: 0.8603\n",
            "Epoch 58/100\n",
            "112/112 [==============================] - 0s 2ms/step - loss: 0.3234 - accuracy: 0.8603\n",
            "Epoch 59/100\n",
            "112/112 [==============================] - 0s 2ms/step - loss: 0.3232 - accuracy: 0.8606\n",
            "Epoch 60/100\n",
            "112/112 [==============================] - 0s 2ms/step - loss: 0.3231 - accuracy: 0.8607\n",
            "Epoch 61/100\n",
            "112/112 [==============================] - 0s 2ms/step - loss: 0.3229 - accuracy: 0.8605\n",
            "Epoch 62/100\n",
            "112/112 [==============================] - 0s 2ms/step - loss: 0.3229 - accuracy: 0.8605\n",
            "Epoch 63/100\n",
            "112/112 [==============================] - 0s 2ms/step - loss: 0.3227 - accuracy: 0.8609\n",
            "Epoch 64/100\n",
            "112/112 [==============================] - 0s 2ms/step - loss: 0.3226 - accuracy: 0.8607\n",
            "Epoch 65/100\n",
            "112/112 [==============================] - 0s 2ms/step - loss: 0.3227 - accuracy: 0.8607\n",
            "Epoch 66/100\n",
            "112/112 [==============================] - 0s 2ms/step - loss: 0.3225 - accuracy: 0.8606\n",
            "Epoch 67/100\n",
            "112/112 [==============================] - 0s 2ms/step - loss: 0.3225 - accuracy: 0.8610\n",
            "Epoch 68/100\n",
            "112/112 [==============================] - 0s 2ms/step - loss: 0.3223 - accuracy: 0.8608\n",
            "Epoch 69/100\n",
            "112/112 [==============================] - 0s 2ms/step - loss: 0.3222 - accuracy: 0.8607\n",
            "Epoch 70/100\n",
            "112/112 [==============================] - 0s 2ms/step - loss: 0.3222 - accuracy: 0.8610\n",
            "Epoch 71/100\n",
            "112/112 [==============================] - 0s 2ms/step - loss: 0.3220 - accuracy: 0.8611\n",
            "Epoch 72/100\n",
            "112/112 [==============================] - 0s 2ms/step - loss: 0.3220 - accuracy: 0.8611\n",
            "Epoch 73/100\n",
            "112/112 [==============================] - 0s 2ms/step - loss: 0.3219 - accuracy: 0.8612\n",
            "Epoch 74/100\n",
            "112/112 [==============================] - 0s 2ms/step - loss: 0.3220 - accuracy: 0.8615\n",
            "Epoch 75/100\n",
            "112/112 [==============================] - 0s 2ms/step - loss: 0.3221 - accuracy: 0.8611\n",
            "Epoch 76/100\n",
            "112/112 [==============================] - 0s 2ms/step - loss: 0.3217 - accuracy: 0.8614\n",
            "Epoch 77/100\n",
            "112/112 [==============================] - 0s 2ms/step - loss: 0.3217 - accuracy: 0.8610\n",
            "Epoch 78/100\n",
            "112/112 [==============================] - 0s 2ms/step - loss: 0.3218 - accuracy: 0.8611\n",
            "Epoch 79/100\n",
            "112/112 [==============================] - 0s 2ms/step - loss: 0.3216 - accuracy: 0.8613\n",
            "Epoch 80/100\n",
            "112/112 [==============================] - 0s 2ms/step - loss: 0.3217 - accuracy: 0.8616\n",
            "Epoch 81/100\n",
            "112/112 [==============================] - 0s 2ms/step - loss: 0.3214 - accuracy: 0.8611\n",
            "Epoch 82/100\n",
            "112/112 [==============================] - 0s 2ms/step - loss: 0.3213 - accuracy: 0.8616\n",
            "Epoch 83/100\n",
            "112/112 [==============================] - 0s 2ms/step - loss: 0.3213 - accuracy: 0.8614\n",
            "Epoch 84/100\n",
            "112/112 [==============================] - 0s 2ms/step - loss: 0.3210 - accuracy: 0.8618\n",
            "Epoch 85/100\n",
            "112/112 [==============================] - 0s 2ms/step - loss: 0.3211 - accuracy: 0.8616\n",
            "Epoch 86/100\n",
            "112/112 [==============================] - 0s 2ms/step - loss: 0.3210 - accuracy: 0.8618\n",
            "Epoch 87/100\n",
            "112/112 [==============================] - 0s 2ms/step - loss: 0.3210 - accuracy: 0.8616\n",
            "Epoch 88/100\n",
            "112/112 [==============================] - 0s 1ms/step - loss: 0.3210 - accuracy: 0.8619\n",
            "Epoch 89/100\n",
            "112/112 [==============================] - 0s 2ms/step - loss: 0.3209 - accuracy: 0.8615\n",
            "Epoch 90/100\n",
            "112/112 [==============================] - 0s 2ms/step - loss: 0.3208 - accuracy: 0.8621\n",
            "Epoch 91/100\n",
            "112/112 [==============================] - 0s 1ms/step - loss: 0.3209 - accuracy: 0.8621\n",
            "Epoch 92/100\n",
            "112/112 [==============================] - 0s 2ms/step - loss: 0.3207 - accuracy: 0.8620\n",
            "Epoch 93/100\n",
            "112/112 [==============================] - 0s 2ms/step - loss: 0.3206 - accuracy: 0.8617\n",
            "Epoch 94/100\n",
            "112/112 [==============================] - 0s 2ms/step - loss: 0.3206 - accuracy: 0.8625\n",
            "Epoch 95/100\n",
            "112/112 [==============================] - 0s 2ms/step - loss: 0.3206 - accuracy: 0.8621\n",
            "Epoch 96/100\n",
            "112/112 [==============================] - 0s 2ms/step - loss: 0.3205 - accuracy: 0.8619\n",
            "Epoch 97/100\n",
            "112/112 [==============================] - 0s 2ms/step - loss: 0.3205 - accuracy: 0.8622\n",
            "Epoch 98/100\n",
            "112/112 [==============================] - 0s 2ms/step - loss: 0.3204 - accuracy: 0.8623\n",
            "Epoch 99/100\n",
            "112/112 [==============================] - 0s 2ms/step - loss: 0.3203 - accuracy: 0.8621\n",
            "Epoch 100/100\n",
            "112/112 [==============================] - 0s 2ms/step - loss: 0.3202 - accuracy: 0.8622\n",
            "28/28 [==============================] - 0s 1ms/step - loss: 0.3314 - accuracy: 0.8574\n",
            "Model: \"weather_guru\"\n",
            "_________________________________________________________________\n",
            "Layer (type)                 Output Shape              Param #   \n",
            "=================================================================\n",
            "dense_1 (Dense)              (None, 27)                729       \n",
            "_________________________________________________________________\n",
            "dense_2 (Dense)              (None, 7)                 196       \n",
            "_________________________________________________________________\n",
            "output (Dense)               (None, 1)                 8         \n",
            "=================================================================\n",
            "Total params: 933\n",
            "Trainable params: 933\n",
            "Non-trainable params: 0\n",
            "_________________________________________________________________\n",
            "None\n",
            "Epoch 1/100\n",
            "112/112 [==============================] - 1s 2ms/step - loss: 0.4473 - accuracy: 0.7895\n",
            "Epoch 2/100\n",
            "112/112 [==============================] - 0s 2ms/step - loss: 0.3888 - accuracy: 0.8334\n",
            "Epoch 3/100\n",
            "112/112 [==============================] - 0s 2ms/step - loss: 0.3669 - accuracy: 0.8409\n",
            "Epoch 4/100\n",
            "112/112 [==============================] - 0s 2ms/step - loss: 0.3570 - accuracy: 0.8439\n",
            "Epoch 5/100\n",
            "112/112 [==============================] - 0s 2ms/step - loss: 0.3517 - accuracy: 0.8469\n",
            "Epoch 6/100\n",
            "112/112 [==============================] - 0s 2ms/step - loss: 0.3481 - accuracy: 0.8482\n",
            "Epoch 7/100\n",
            "112/112 [==============================] - 0s 2ms/step - loss: 0.3455 - accuracy: 0.8499\n",
            "Epoch 8/100\n",
            "112/112 [==============================] - 0s 2ms/step - loss: 0.3438 - accuracy: 0.8507\n",
            "Epoch 9/100\n",
            "112/112 [==============================] - 0s 2ms/step - loss: 0.3423 - accuracy: 0.8519\n",
            "Epoch 10/100\n",
            "112/112 [==============================] - 0s 2ms/step - loss: 0.3412 - accuracy: 0.8523\n",
            "Epoch 11/100\n",
            "112/112 [==============================] - 0s 2ms/step - loss: 0.3404 - accuracy: 0.8528\n",
            "Epoch 12/100\n",
            "112/112 [==============================] - 0s 2ms/step - loss: 0.3394 - accuracy: 0.8529\n",
            "Epoch 13/100\n",
            "112/112 [==============================] - 0s 2ms/step - loss: 0.3386 - accuracy: 0.8532\n",
            "Epoch 14/100\n",
            "112/112 [==============================] - 0s 2ms/step - loss: 0.3379 - accuracy: 0.8537\n",
            "Epoch 15/100\n",
            "112/112 [==============================] - 0s 2ms/step - loss: 0.3370 - accuracy: 0.8538\n",
            "Epoch 16/100\n",
            "112/112 [==============================] - 0s 2ms/step - loss: 0.3365 - accuracy: 0.8538\n",
            "Epoch 17/100\n",
            "112/112 [==============================] - 0s 2ms/step - loss: 0.3359 - accuracy: 0.8547\n",
            "Epoch 18/100\n",
            "112/112 [==============================] - 0s 2ms/step - loss: 0.3355 - accuracy: 0.8547\n",
            "Epoch 19/100\n",
            "112/112 [==============================] - 0s 2ms/step - loss: 0.3348 - accuracy: 0.8546\n",
            "Epoch 20/100\n",
            "112/112 [==============================] - 0s 2ms/step - loss: 0.3343 - accuracy: 0.8549\n",
            "Epoch 21/100\n",
            "112/112 [==============================] - 0s 2ms/step - loss: 0.3338 - accuracy: 0.8552\n",
            "Epoch 22/100\n",
            "112/112 [==============================] - 0s 2ms/step - loss: 0.3332 - accuracy: 0.8555\n",
            "Epoch 23/100\n",
            "112/112 [==============================] - 0s 2ms/step - loss: 0.3328 - accuracy: 0.8557\n",
            "Epoch 24/100\n",
            "112/112 [==============================] - 0s 2ms/step - loss: 0.3322 - accuracy: 0.8562\n",
            "Epoch 25/100\n",
            "112/112 [==============================] - 0s 2ms/step - loss: 0.3320 - accuracy: 0.8559\n",
            "Epoch 26/100\n",
            "112/112 [==============================] - 0s 2ms/step - loss: 0.3317 - accuracy: 0.8562\n",
            "Epoch 27/100\n",
            "112/112 [==============================] - 0s 2ms/step - loss: 0.3313 - accuracy: 0.8565\n",
            "Epoch 28/100\n",
            "112/112 [==============================] - 0s 2ms/step - loss: 0.3309 - accuracy: 0.8565\n",
            "Epoch 29/100\n",
            "112/112 [==============================] - 0s 2ms/step - loss: 0.3304 - accuracy: 0.8566\n",
            "Epoch 30/100\n",
            "112/112 [==============================] - 0s 2ms/step - loss: 0.3301 - accuracy: 0.8571\n",
            "Epoch 31/100\n",
            "112/112 [==============================] - 0s 2ms/step - loss: 0.3299 - accuracy: 0.8571\n",
            "Epoch 32/100\n",
            "112/112 [==============================] - 0s 2ms/step - loss: 0.3297 - accuracy: 0.8569\n",
            "Epoch 33/100\n",
            "112/112 [==============================] - 0s 2ms/step - loss: 0.3294 - accuracy: 0.8570\n",
            "Epoch 34/100\n",
            "112/112 [==============================] - 0s 2ms/step - loss: 0.3292 - accuracy: 0.8574\n",
            "Epoch 35/100\n",
            "112/112 [==============================] - 0s 1ms/step - loss: 0.3289 - accuracy: 0.8569\n",
            "Epoch 36/100\n",
            "112/112 [==============================] - 0s 2ms/step - loss: 0.3286 - accuracy: 0.8574\n",
            "Epoch 37/100\n",
            "112/112 [==============================] - 0s 2ms/step - loss: 0.3284 - accuracy: 0.8575\n",
            "Epoch 38/100\n",
            "112/112 [==============================] - 0s 2ms/step - loss: 0.3283 - accuracy: 0.8577\n",
            "Epoch 39/100\n",
            "112/112 [==============================] - 0s 2ms/step - loss: 0.3279 - accuracy: 0.8576\n",
            "Epoch 40/100\n",
            "112/112 [==============================] - 0s 2ms/step - loss: 0.3278 - accuracy: 0.8571\n",
            "Epoch 41/100\n",
            "112/112 [==============================] - 0s 2ms/step - loss: 0.3276 - accuracy: 0.8577\n",
            "Epoch 42/100\n",
            "112/112 [==============================] - 0s 2ms/step - loss: 0.3275 - accuracy: 0.8578\n",
            "Epoch 43/100\n",
            "112/112 [==============================] - 0s 2ms/step - loss: 0.3273 - accuracy: 0.8576\n",
            "Epoch 44/100\n",
            "112/112 [==============================] - 0s 2ms/step - loss: 0.3272 - accuracy: 0.8579\n",
            "Epoch 45/100\n",
            "112/112 [==============================] - 0s 2ms/step - loss: 0.3270 - accuracy: 0.8581\n",
            "Epoch 46/100\n",
            "112/112 [==============================] - 0s 2ms/step - loss: 0.3269 - accuracy: 0.8580\n",
            "Epoch 47/100\n",
            "112/112 [==============================] - 0s 2ms/step - loss: 0.3267 - accuracy: 0.8579\n",
            "Epoch 48/100\n",
            "112/112 [==============================] - 0s 2ms/step - loss: 0.3268 - accuracy: 0.8578\n",
            "Epoch 49/100\n",
            "112/112 [==============================] - 0s 2ms/step - loss: 0.3265 - accuracy: 0.8585\n",
            "Epoch 50/100\n",
            "112/112 [==============================] - 0s 2ms/step - loss: 0.3264 - accuracy: 0.8584\n",
            "Epoch 51/100\n",
            "112/112 [==============================] - 0s 2ms/step - loss: 0.3263 - accuracy: 0.8583\n",
            "Epoch 52/100\n",
            "112/112 [==============================] - 0s 2ms/step - loss: 0.3261 - accuracy: 0.8586\n",
            "Epoch 53/100\n",
            "112/112 [==============================] - 0s 2ms/step - loss: 0.3262 - accuracy: 0.8585\n",
            "Epoch 54/100\n",
            "112/112 [==============================] - 0s 2ms/step - loss: 0.3259 - accuracy: 0.8584\n",
            "Epoch 55/100\n",
            "112/112 [==============================] - 0s 2ms/step - loss: 0.3257 - accuracy: 0.8583\n",
            "Epoch 56/100\n",
            "112/112 [==============================] - 0s 2ms/step - loss: 0.3257 - accuracy: 0.8586\n",
            "Epoch 57/100\n",
            "112/112 [==============================] - 0s 2ms/step - loss: 0.3257 - accuracy: 0.8586\n",
            "Epoch 58/100\n",
            "112/112 [==============================] - 0s 2ms/step - loss: 0.3255 - accuracy: 0.8590\n",
            "Epoch 59/100\n",
            "112/112 [==============================] - 0s 2ms/step - loss: 0.3255 - accuracy: 0.8589\n",
            "Epoch 60/100\n",
            "112/112 [==============================] - 0s 2ms/step - loss: 0.3252 - accuracy: 0.8585\n",
            "Epoch 61/100\n",
            "112/112 [==============================] - 0s 2ms/step - loss: 0.3252 - accuracy: 0.8593\n",
            "Epoch 62/100\n",
            "112/112 [==============================] - 0s 2ms/step - loss: 0.3251 - accuracy: 0.8587\n",
            "Epoch 63/100\n",
            "112/112 [==============================] - 0s 1ms/step - loss: 0.3250 - accuracy: 0.8594\n",
            "Epoch 64/100\n",
            "112/112 [==============================] - 0s 2ms/step - loss: 0.3251 - accuracy: 0.8590\n",
            "Epoch 65/100\n",
            "112/112 [==============================] - 0s 2ms/step - loss: 0.3250 - accuracy: 0.8590\n",
            "Epoch 66/100\n",
            "112/112 [==============================] - 0s 2ms/step - loss: 0.3246 - accuracy: 0.8594\n",
            "Epoch 67/100\n",
            "112/112 [==============================] - 0s 2ms/step - loss: 0.3247 - accuracy: 0.8593\n",
            "Epoch 68/100\n",
            "112/112 [==============================] - 0s 2ms/step - loss: 0.3247 - accuracy: 0.8593\n",
            "Epoch 69/100\n",
            "112/112 [==============================] - 0s 2ms/step - loss: 0.3245 - accuracy: 0.8592\n",
            "Epoch 70/100\n",
            "112/112 [==============================] - 0s 2ms/step - loss: 0.3244 - accuracy: 0.8593\n",
            "Epoch 71/100\n",
            "112/112 [==============================] - 0s 2ms/step - loss: 0.3243 - accuracy: 0.8595\n",
            "Epoch 72/100\n",
            "112/112 [==============================] - 0s 2ms/step - loss: 0.3242 - accuracy: 0.8597\n",
            "Epoch 73/100\n",
            "112/112 [==============================] - 0s 2ms/step - loss: 0.3241 - accuracy: 0.8594\n",
            "Epoch 74/100\n",
            "112/112 [==============================] - 0s 2ms/step - loss: 0.3240 - accuracy: 0.8594\n",
            "Epoch 75/100\n",
            "112/112 [==============================] - 0s 2ms/step - loss: 0.3239 - accuracy: 0.8595\n",
            "Epoch 76/100\n",
            "112/112 [==============================] - 0s 2ms/step - loss: 0.3237 - accuracy: 0.8596\n",
            "Epoch 77/100\n",
            "112/112 [==============================] - 0s 2ms/step - loss: 0.3239 - accuracy: 0.8596\n",
            "Epoch 78/100\n",
            "112/112 [==============================] - 0s 2ms/step - loss: 0.3236 - accuracy: 0.8600\n",
            "Epoch 79/100\n",
            "112/112 [==============================] - 0s 2ms/step - loss: 0.3238 - accuracy: 0.8598\n",
            "Epoch 80/100\n",
            "112/112 [==============================] - 0s 2ms/step - loss: 0.3238 - accuracy: 0.8597\n",
            "Epoch 81/100\n",
            "112/112 [==============================] - 0s 2ms/step - loss: 0.3234 - accuracy: 0.8597\n",
            "Epoch 82/100\n",
            "112/112 [==============================] - 0s 2ms/step - loss: 0.3235 - accuracy: 0.8598\n",
            "Epoch 83/100\n",
            "112/112 [==============================] - 0s 2ms/step - loss: 0.3234 - accuracy: 0.8597\n",
            "Epoch 84/100\n",
            "112/112 [==============================] - 0s 2ms/step - loss: 0.3231 - accuracy: 0.8594\n",
            "Epoch 85/100\n",
            "112/112 [==============================] - 0s 2ms/step - loss: 0.3231 - accuracy: 0.8597\n",
            "Epoch 86/100\n",
            "112/112 [==============================] - 0s 2ms/step - loss: 0.3232 - accuracy: 0.8598\n",
            "Epoch 87/100\n",
            "112/112 [==============================] - 0s 2ms/step - loss: 0.3230 - accuracy: 0.8596\n",
            "Epoch 88/100\n",
            "112/112 [==============================] - 0s 2ms/step - loss: 0.3231 - accuracy: 0.8599\n",
            "Epoch 89/100\n",
            "112/112 [==============================] - 0s 2ms/step - loss: 0.3229 - accuracy: 0.8600\n",
            "Epoch 90/100\n",
            "112/112 [==============================] - 0s 2ms/step - loss: 0.3230 - accuracy: 0.8598\n",
            "Epoch 91/100\n",
            "112/112 [==============================] - 0s 2ms/step - loss: 0.3229 - accuracy: 0.8600\n",
            "Epoch 92/100\n",
            "112/112 [==============================] - 0s 1ms/step - loss: 0.3226 - accuracy: 0.8600\n",
            "Epoch 93/100\n",
            "112/112 [==============================] - 0s 2ms/step - loss: 0.3226 - accuracy: 0.8596\n",
            "Epoch 94/100\n",
            "112/112 [==============================] - 0s 2ms/step - loss: 0.3225 - accuracy: 0.8600\n",
            "Epoch 95/100\n",
            "112/112 [==============================] - 0s 2ms/step - loss: 0.3226 - accuracy: 0.8604\n",
            "Epoch 96/100\n",
            "112/112 [==============================] - 0s 2ms/step - loss: 0.3224 - accuracy: 0.8603\n",
            "Epoch 97/100\n",
            "112/112 [==============================] - 0s 2ms/step - loss: 0.3225 - accuracy: 0.8601\n",
            "Epoch 98/100\n",
            "112/112 [==============================] - 0s 2ms/step - loss: 0.3223 - accuracy: 0.8602\n",
            "Epoch 99/100\n",
            "112/112 [==============================] - 0s 2ms/step - loss: 0.3223 - accuracy: 0.8599\n",
            "Epoch 100/100\n",
            "112/112 [==============================] - 0s 2ms/step - loss: 0.3222 - accuracy: 0.8600\n",
            "28/28 [==============================] - 0s 1ms/step - loss: 0.3297 - accuracy: 0.8566\n",
            "Model: \"weather_guru\"\n",
            "_________________________________________________________________\n",
            "Layer (type)                 Output Shape              Param #   \n",
            "=================================================================\n",
            "dense_1 (Dense)              (None, 27)                729       \n",
            "_________________________________________________________________\n",
            "dense_2 (Dense)              (None, 7)                 196       \n",
            "_________________________________________________________________\n",
            "output (Dense)               (None, 1)                 8         \n",
            "=================================================================\n",
            "Total params: 933\n",
            "Trainable params: 933\n",
            "Non-trainable params: 0\n",
            "_________________________________________________________________\n",
            "None\n",
            "Epoch 1/100\n",
            "112/112 [==============================] - 1s 2ms/step - loss: 0.5676 - accuracy: 0.7030\n",
            "Epoch 2/100\n",
            "112/112 [==============================] - 0s 2ms/step - loss: 0.3914 - accuracy: 0.8293\n",
            "Epoch 3/100\n",
            "112/112 [==============================] - 0s 2ms/step - loss: 0.3679 - accuracy: 0.8400\n",
            "Epoch 4/100\n",
            "112/112 [==============================] - 0s 2ms/step - loss: 0.3587 - accuracy: 0.8450\n",
            "Epoch 5/100\n",
            "112/112 [==============================] - 0s 2ms/step - loss: 0.3534 - accuracy: 0.8471\n",
            "Epoch 6/100\n",
            "112/112 [==============================] - 0s 2ms/step - loss: 0.3495 - accuracy: 0.8490\n",
            "Epoch 7/100\n",
            "112/112 [==============================] - 0s 1ms/step - loss: 0.3468 - accuracy: 0.8495\n",
            "Epoch 8/100\n",
            "112/112 [==============================] - 0s 2ms/step - loss: 0.3445 - accuracy: 0.8506\n",
            "Epoch 9/100\n",
            "112/112 [==============================] - 0s 2ms/step - loss: 0.3427 - accuracy: 0.8513\n",
            "Epoch 10/100\n",
            "112/112 [==============================] - 0s 2ms/step - loss: 0.3412 - accuracy: 0.8522\n",
            "Epoch 11/100\n",
            "112/112 [==============================] - 0s 2ms/step - loss: 0.3399 - accuracy: 0.8526\n",
            "Epoch 12/100\n",
            "112/112 [==============================] - 0s 2ms/step - loss: 0.3388 - accuracy: 0.8528\n",
            "Epoch 13/100\n",
            "112/112 [==============================] - 0s 2ms/step - loss: 0.3375 - accuracy: 0.8534\n",
            "Epoch 14/100\n",
            "112/112 [==============================] - 0s 2ms/step - loss: 0.3367 - accuracy: 0.8539\n",
            "Epoch 15/100\n",
            "112/112 [==============================] - 0s 2ms/step - loss: 0.3356 - accuracy: 0.8545\n",
            "Epoch 16/100\n",
            "112/112 [==============================] - 0s 2ms/step - loss: 0.3350 - accuracy: 0.8550\n",
            "Epoch 17/100\n",
            "112/112 [==============================] - 0s 2ms/step - loss: 0.3343 - accuracy: 0.8551\n",
            "Epoch 18/100\n",
            "112/112 [==============================] - 0s 2ms/step - loss: 0.3338 - accuracy: 0.8550\n",
            "Epoch 19/100\n",
            "112/112 [==============================] - 0s 2ms/step - loss: 0.3332 - accuracy: 0.8552\n",
            "Epoch 20/100\n",
            "112/112 [==============================] - 0s 2ms/step - loss: 0.3327 - accuracy: 0.8554\n",
            "Epoch 21/100\n",
            "112/112 [==============================] - 0s 2ms/step - loss: 0.3322 - accuracy: 0.8559\n",
            "Epoch 22/100\n",
            "112/112 [==============================] - 0s 2ms/step - loss: 0.3318 - accuracy: 0.8565\n",
            "Epoch 23/100\n",
            "112/112 [==============================] - 0s 2ms/step - loss: 0.3314 - accuracy: 0.8566\n",
            "Epoch 24/100\n",
            "112/112 [==============================] - 0s 2ms/step - loss: 0.3310 - accuracy: 0.8566\n",
            "Epoch 25/100\n",
            "112/112 [==============================] - 0s 2ms/step - loss: 0.3304 - accuracy: 0.8568\n",
            "Epoch 26/100\n",
            "112/112 [==============================] - 0s 2ms/step - loss: 0.3303 - accuracy: 0.8567\n",
            "Epoch 27/100\n",
            "112/112 [==============================] - 0s 2ms/step - loss: 0.3298 - accuracy: 0.8574\n",
            "Epoch 28/100\n",
            "112/112 [==============================] - 0s 2ms/step - loss: 0.3296 - accuracy: 0.8575\n",
            "Epoch 29/100\n",
            "112/112 [==============================] - 0s 2ms/step - loss: 0.3292 - accuracy: 0.8576\n",
            "Epoch 30/100\n",
            "112/112 [==============================] - 0s 2ms/step - loss: 0.3290 - accuracy: 0.8577\n",
            "Epoch 31/100\n",
            "112/112 [==============================] - 0s 2ms/step - loss: 0.3286 - accuracy: 0.8573\n",
            "Epoch 32/100\n",
            "112/112 [==============================] - 0s 2ms/step - loss: 0.3284 - accuracy: 0.8577\n",
            "Epoch 33/100\n",
            "112/112 [==============================] - 0s 2ms/step - loss: 0.3282 - accuracy: 0.8583\n",
            "Epoch 34/100\n",
            "112/112 [==============================] - 0s 2ms/step - loss: 0.3282 - accuracy: 0.8575\n",
            "Epoch 35/100\n",
            "112/112 [==============================] - 0s 2ms/step - loss: 0.3277 - accuracy: 0.8580\n",
            "Epoch 36/100\n",
            "112/112 [==============================] - 0s 2ms/step - loss: 0.3276 - accuracy: 0.8580\n",
            "Epoch 37/100\n",
            "112/112 [==============================] - 0s 2ms/step - loss: 0.3272 - accuracy: 0.8584\n",
            "Epoch 38/100\n",
            "112/112 [==============================] - 0s 2ms/step - loss: 0.3271 - accuracy: 0.8582\n",
            "Epoch 39/100\n",
            "112/112 [==============================] - 0s 2ms/step - loss: 0.3268 - accuracy: 0.8586\n",
            "Epoch 40/100\n",
            "112/112 [==============================] - 0s 2ms/step - loss: 0.3267 - accuracy: 0.8582\n",
            "Epoch 41/100\n",
            "112/112 [==============================] - 0s 2ms/step - loss: 0.3265 - accuracy: 0.8586\n",
            "Epoch 42/100\n",
            "112/112 [==============================] - 0s 2ms/step - loss: 0.3265 - accuracy: 0.8585\n",
            "Epoch 43/100\n",
            "112/112 [==============================] - 0s 2ms/step - loss: 0.3261 - accuracy: 0.8586\n",
            "Epoch 44/100\n",
            "112/112 [==============================] - 0s 2ms/step - loss: 0.3260 - accuracy: 0.8589\n",
            "Epoch 45/100\n",
            "112/112 [==============================] - 0s 2ms/step - loss: 0.3258 - accuracy: 0.8590\n",
            "Epoch 46/100\n",
            "112/112 [==============================] - 0s 2ms/step - loss: 0.3255 - accuracy: 0.8593\n",
            "Epoch 47/100\n",
            "112/112 [==============================] - 0s 2ms/step - loss: 0.3254 - accuracy: 0.8590\n",
            "Epoch 48/100\n",
            "112/112 [==============================] - 0s 2ms/step - loss: 0.3251 - accuracy: 0.8587\n",
            "Epoch 49/100\n",
            "112/112 [==============================] - 0s 2ms/step - loss: 0.3250 - accuracy: 0.8592\n",
            "Epoch 50/100\n",
            "112/112 [==============================] - 0s 2ms/step - loss: 0.3250 - accuracy: 0.8590\n",
            "Epoch 51/100\n",
            "112/112 [==============================] - 0s 2ms/step - loss: 0.3248 - accuracy: 0.8593\n",
            "Epoch 52/100\n",
            "112/112 [==============================] - 0s 2ms/step - loss: 0.3247 - accuracy: 0.8593\n",
            "Epoch 53/100\n",
            "112/112 [==============================] - 0s 2ms/step - loss: 0.3245 - accuracy: 0.8595\n",
            "Epoch 54/100\n",
            "112/112 [==============================] - 0s 2ms/step - loss: 0.3243 - accuracy: 0.8593\n",
            "Epoch 55/100\n",
            "112/112 [==============================] - 0s 2ms/step - loss: 0.3244 - accuracy: 0.8593\n",
            "Epoch 56/100\n",
            "112/112 [==============================] - 0s 2ms/step - loss: 0.3241 - accuracy: 0.8596\n",
            "Epoch 57/100\n",
            "112/112 [==============================] - 0s 2ms/step - loss: 0.3242 - accuracy: 0.8599\n",
            "Epoch 58/100\n",
            "112/112 [==============================] - 0s 2ms/step - loss: 0.3239 - accuracy: 0.8597\n",
            "Epoch 59/100\n",
            "112/112 [==============================] - 0s 2ms/step - loss: 0.3239 - accuracy: 0.8595\n",
            "Epoch 60/100\n",
            "112/112 [==============================] - 0s 2ms/step - loss: 0.3237 - accuracy: 0.8599\n",
            "Epoch 61/100\n",
            "112/112 [==============================] - 0s 2ms/step - loss: 0.3237 - accuracy: 0.8598\n",
            "Epoch 62/100\n",
            "112/112 [==============================] - 0s 2ms/step - loss: 0.3236 - accuracy: 0.8599\n",
            "Epoch 63/100\n",
            "112/112 [==============================] - 0s 2ms/step - loss: 0.3233 - accuracy: 0.8596\n",
            "Epoch 64/100\n",
            "112/112 [==============================] - 0s 2ms/step - loss: 0.3232 - accuracy: 0.8598\n",
            "Epoch 65/100\n",
            "112/112 [==============================] - 0s 2ms/step - loss: 0.3232 - accuracy: 0.8597\n",
            "Epoch 66/100\n",
            "112/112 [==============================] - 0s 2ms/step - loss: 0.3231 - accuracy: 0.8596\n",
            "Epoch 67/100\n",
            "112/112 [==============================] - 0s 2ms/step - loss: 0.3231 - accuracy: 0.8598\n",
            "Epoch 68/100\n",
            "112/112 [==============================] - 0s 2ms/step - loss: 0.3230 - accuracy: 0.8598\n",
            "Epoch 69/100\n",
            "112/112 [==============================] - 0s 2ms/step - loss: 0.3228 - accuracy: 0.8598\n",
            "Epoch 70/100\n",
            "112/112 [==============================] - 0s 2ms/step - loss: 0.3228 - accuracy: 0.8600\n",
            "Epoch 71/100\n",
            "112/112 [==============================] - 0s 2ms/step - loss: 0.3227 - accuracy: 0.8601\n",
            "Epoch 72/100\n",
            "112/112 [==============================] - 0s 2ms/step - loss: 0.3225 - accuracy: 0.8602\n",
            "Epoch 73/100\n",
            "112/112 [==============================] - 0s 2ms/step - loss: 0.3225 - accuracy: 0.8600\n",
            "Epoch 74/100\n",
            "112/112 [==============================] - 0s 2ms/step - loss: 0.3223 - accuracy: 0.8602\n",
            "Epoch 75/100\n",
            "112/112 [==============================] - 0s 2ms/step - loss: 0.3224 - accuracy: 0.8602\n",
            "Epoch 76/100\n",
            "112/112 [==============================] - 0s 2ms/step - loss: 0.3224 - accuracy: 0.8606\n",
            "Epoch 77/100\n",
            "112/112 [==============================] - 0s 2ms/step - loss: 0.3221 - accuracy: 0.8601\n",
            "Epoch 78/100\n",
            "112/112 [==============================] - 0s 2ms/step - loss: 0.3220 - accuracy: 0.8605\n",
            "Epoch 79/100\n",
            "112/112 [==============================] - 0s 2ms/step - loss: 0.3221 - accuracy: 0.8604\n",
            "Epoch 80/100\n",
            "112/112 [==============================] - 0s 2ms/step - loss: 0.3220 - accuracy: 0.8604\n",
            "Epoch 81/100\n",
            "112/112 [==============================] - 0s 2ms/step - loss: 0.3219 - accuracy: 0.8606\n",
            "Epoch 82/100\n",
            "112/112 [==============================] - 0s 2ms/step - loss: 0.3218 - accuracy: 0.8603\n",
            "Epoch 83/100\n",
            "112/112 [==============================] - 0s 2ms/step - loss: 0.3216 - accuracy: 0.8607\n",
            "Epoch 84/100\n",
            "112/112 [==============================] - 0s 2ms/step - loss: 0.3218 - accuracy: 0.8602\n",
            "Epoch 85/100\n",
            "112/112 [==============================] - 0s 2ms/step - loss: 0.3218 - accuracy: 0.8606\n",
            "Epoch 86/100\n",
            "112/112 [==============================] - 0s 2ms/step - loss: 0.3217 - accuracy: 0.8605\n",
            "Epoch 87/100\n",
            "112/112 [==============================] - 0s 2ms/step - loss: 0.3215 - accuracy: 0.8609\n",
            "Epoch 88/100\n",
            "112/112 [==============================] - 0s 2ms/step - loss: 0.3216 - accuracy: 0.8607\n",
            "Epoch 89/100\n",
            "112/112 [==============================] - 0s 2ms/step - loss: 0.3216 - accuracy: 0.8604\n",
            "Epoch 90/100\n",
            "112/112 [==============================] - 0s 2ms/step - loss: 0.3214 - accuracy: 0.8605\n",
            "Epoch 91/100\n",
            "112/112 [==============================] - 0s 2ms/step - loss: 0.3212 - accuracy: 0.8610\n",
            "Epoch 92/100\n",
            "112/112 [==============================] - 0s 2ms/step - loss: 0.3213 - accuracy: 0.8607\n",
            "Epoch 93/100\n",
            "112/112 [==============================] - 0s 2ms/step - loss: 0.3213 - accuracy: 0.8605\n",
            "Epoch 94/100\n",
            "112/112 [==============================] - 0s 2ms/step - loss: 0.3213 - accuracy: 0.8605\n",
            "Epoch 95/100\n",
            "112/112 [==============================] - 0s 2ms/step - loss: 0.3212 - accuracy: 0.8611\n",
            "Epoch 96/100\n",
            "112/112 [==============================] - 0s 2ms/step - loss: 0.3210 - accuracy: 0.8610\n",
            "Epoch 97/100\n",
            "112/112 [==============================] - 0s 2ms/step - loss: 0.3208 - accuracy: 0.8612\n",
            "Epoch 98/100\n",
            "112/112 [==============================] - 0s 2ms/step - loss: 0.3212 - accuracy: 0.8608\n",
            "Epoch 99/100\n",
            "112/112 [==============================] - 0s 2ms/step - loss: 0.3209 - accuracy: 0.8611\n",
            "Epoch 100/100\n",
            "112/112 [==============================] - 0s 2ms/step - loss: 0.3207 - accuracy: 0.8605\n",
            "28/28 [==============================] - 0s 1ms/step - loss: 0.3288 - accuracy: 0.8587\n",
            "\n",
            "\n",
            "Accuracy: 85.72% (0.08%)\n",
            "CPU times: user 1min 52s, sys: 8.3 s, total: 2min\n",
            "Wall time: 1min 40s\n"
          ],
          "name": "stdout"
        }
      ]
    },
    {
      "cell_type": "markdown",
      "metadata": {
        "id": "9nwFWPVzNnA7"
      },
      "source": [
        "## Final Results"
      ]
    },
    {
      "cell_type": "code",
      "metadata": {
        "colab": {
          "base_uri": "https://localhost:8080/",
          "height": 35
        },
        "id": "D6Xb7NorNxke",
        "outputId": "28a4b110-a895-4a33-d422-f1a009c47af5"
      },
      "source": [
        "\"Accuracy: %.2f%% (%.2f%%)\" % (results.mean()*100, results.std()*100)"
      ],
      "execution_count": 30,
      "outputs": [
        {
          "output_type": "execute_result",
          "data": {
            "application/vnd.google.colaboratory.intrinsic+json": {
              "type": "string"
            },
            "text/plain": [
              "'Accuracy: 85.72% (0.08%)'"
            ]
          },
          "metadata": {
            "tags": []
          },
          "execution_count": 30
        }
      ]
    }
  ]
}